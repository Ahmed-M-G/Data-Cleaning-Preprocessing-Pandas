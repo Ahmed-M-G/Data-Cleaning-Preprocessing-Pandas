{
  "nbformat": 4,
  "nbformat_minor": 0,
  "metadata": {
    "colab": {
      "provenance": []
    },
    "kernelspec": {
      "name": "python3",
      "display_name": "Python 3"
    },
    "language_info": {
      "name": "python"
    }
  },
  "cells": [
    {
      "cell_type": "markdown",
      "source": [
        "## Import Libraries"
      ],
      "metadata": {
        "id": "kq9hSIn8ZJPa"
      }
    },
    {
      "cell_type": "code",
      "execution_count": 1,
      "metadata": {
        "id": "R83PfBidVad7"
      },
      "outputs": [],
      "source": [
        "import pandas as pd\n",
        "import numpy as np"
      ]
    },
    {
      "cell_type": "markdown",
      "source": [
        "## Common Attributes for Working with DataFrames"
      ],
      "metadata": {
        "id": "A44hp72svw08"
      }
    },
    {
      "cell_type": "code",
      "source": [
        "# Can we change to \"StringID\"?\n",
        "data = pd.read_csv('Lending-company.csv', index_col = 'LoanID')\n",
        "lending_co_data = data.copy()\n",
        "lending_co_data.head()"
      ],
      "metadata": {
        "colab": {
          "base_uri": "https://localhost:8080/",
          "height": 238
        },
        "id": "oomHtBrvuY0D",
        "outputId": "87041ef0-24da-431a-8949-1922252e76d9"
      },
      "execution_count": 2,
      "outputs": [
        {
          "output_type": "execute_result",
          "data": {
            "text/plain": [
              "        StringID    Product CustomerGender     Location    Region  TotalPrice  \\\n",
              "LoanID                                                                          \n",
              "1       LoanID_1  Product B         Female   Location 3  Region 2     17600.0   \n",
              "2       LoanID_2  Product D         Female   Location 6  Region 6         NaN   \n",
              "3       LoanID_3  Product B           Male   Location 8  Region 3     16600.0   \n",
              "4       LoanID_4  Product A           Male  Location 26  Region 2     17600.0   \n",
              "5       LoanID_5  Product B         Female  Location 34  Region 3     21250.0   \n",
              "\n",
              "         StartDate  Deposit  DailyRate  TotalDaysYr  AmtPaid36  AmtPaid60  \\\n",
              "LoanID                                                                      \n",
              "1       04/07/2018     2200         45          365       3221       4166   \n",
              "2       02/01/2019     2200         45          365       3161       4096   \n",
              "3       08/12/2016     1000         45          365       2260       3205   \n",
              "4              NaN     2200         45          365       3141       4166   \n",
              "5       28/10/2017     2200         55          365       3570       4745   \n",
              "\n",
              "        AmtPaid360 LoanStatus  \n",
              "LoanID                         \n",
              "1            14621     Active  \n",
              "2            16041     Active  \n",
              "3            16340        NaN  \n",
              "4            16321     Active  \n",
              "5            14720     Active  "
            ],
            "text/html": [
              "\n",
              "  <div id=\"df-62d77793-258a-438c-b277-a7159c42652a\">\n",
              "    <div class=\"colab-df-container\">\n",
              "      <div>\n",
              "<style scoped>\n",
              "    .dataframe tbody tr th:only-of-type {\n",
              "        vertical-align: middle;\n",
              "    }\n",
              "\n",
              "    .dataframe tbody tr th {\n",
              "        vertical-align: top;\n",
              "    }\n",
              "\n",
              "    .dataframe thead th {\n",
              "        text-align: right;\n",
              "    }\n",
              "</style>\n",
              "<table border=\"1\" class=\"dataframe\">\n",
              "  <thead>\n",
              "    <tr style=\"text-align: right;\">\n",
              "      <th></th>\n",
              "      <th>StringID</th>\n",
              "      <th>Product</th>\n",
              "      <th>CustomerGender</th>\n",
              "      <th>Location</th>\n",
              "      <th>Region</th>\n",
              "      <th>TotalPrice</th>\n",
              "      <th>StartDate</th>\n",
              "      <th>Deposit</th>\n",
              "      <th>DailyRate</th>\n",
              "      <th>TotalDaysYr</th>\n",
              "      <th>AmtPaid36</th>\n",
              "      <th>AmtPaid60</th>\n",
              "      <th>AmtPaid360</th>\n",
              "      <th>LoanStatus</th>\n",
              "    </tr>\n",
              "    <tr>\n",
              "      <th>LoanID</th>\n",
              "      <th></th>\n",
              "      <th></th>\n",
              "      <th></th>\n",
              "      <th></th>\n",
              "      <th></th>\n",
              "      <th></th>\n",
              "      <th></th>\n",
              "      <th></th>\n",
              "      <th></th>\n",
              "      <th></th>\n",
              "      <th></th>\n",
              "      <th></th>\n",
              "      <th></th>\n",
              "      <th></th>\n",
              "    </tr>\n",
              "  </thead>\n",
              "  <tbody>\n",
              "    <tr>\n",
              "      <th>1</th>\n",
              "      <td>LoanID_1</td>\n",
              "      <td>Product B</td>\n",
              "      <td>Female</td>\n",
              "      <td>Location 3</td>\n",
              "      <td>Region 2</td>\n",
              "      <td>17600.0</td>\n",
              "      <td>04/07/2018</td>\n",
              "      <td>2200</td>\n",
              "      <td>45</td>\n",
              "      <td>365</td>\n",
              "      <td>3221</td>\n",
              "      <td>4166</td>\n",
              "      <td>14621</td>\n",
              "      <td>Active</td>\n",
              "    </tr>\n",
              "    <tr>\n",
              "      <th>2</th>\n",
              "      <td>LoanID_2</td>\n",
              "      <td>Product D</td>\n",
              "      <td>Female</td>\n",
              "      <td>Location 6</td>\n",
              "      <td>Region 6</td>\n",
              "      <td>NaN</td>\n",
              "      <td>02/01/2019</td>\n",
              "      <td>2200</td>\n",
              "      <td>45</td>\n",
              "      <td>365</td>\n",
              "      <td>3161</td>\n",
              "      <td>4096</td>\n",
              "      <td>16041</td>\n",
              "      <td>Active</td>\n",
              "    </tr>\n",
              "    <tr>\n",
              "      <th>3</th>\n",
              "      <td>LoanID_3</td>\n",
              "      <td>Product B</td>\n",
              "      <td>Male</td>\n",
              "      <td>Location 8</td>\n",
              "      <td>Region 3</td>\n",
              "      <td>16600.0</td>\n",
              "      <td>08/12/2016</td>\n",
              "      <td>1000</td>\n",
              "      <td>45</td>\n",
              "      <td>365</td>\n",
              "      <td>2260</td>\n",
              "      <td>3205</td>\n",
              "      <td>16340</td>\n",
              "      <td>NaN</td>\n",
              "    </tr>\n",
              "    <tr>\n",
              "      <th>4</th>\n",
              "      <td>LoanID_4</td>\n",
              "      <td>Product A</td>\n",
              "      <td>Male</td>\n",
              "      <td>Location 26</td>\n",
              "      <td>Region 2</td>\n",
              "      <td>17600.0</td>\n",
              "      <td>NaN</td>\n",
              "      <td>2200</td>\n",
              "      <td>45</td>\n",
              "      <td>365</td>\n",
              "      <td>3141</td>\n",
              "      <td>4166</td>\n",
              "      <td>16321</td>\n",
              "      <td>Active</td>\n",
              "    </tr>\n",
              "    <tr>\n",
              "      <th>5</th>\n",
              "      <td>LoanID_5</td>\n",
              "      <td>Product B</td>\n",
              "      <td>Female</td>\n",
              "      <td>Location 34</td>\n",
              "      <td>Region 3</td>\n",
              "      <td>21250.0</td>\n",
              "      <td>28/10/2017</td>\n",
              "      <td>2200</td>\n",
              "      <td>55</td>\n",
              "      <td>365</td>\n",
              "      <td>3570</td>\n",
              "      <td>4745</td>\n",
              "      <td>14720</td>\n",
              "      <td>Active</td>\n",
              "    </tr>\n",
              "  </tbody>\n",
              "</table>\n",
              "</div>\n",
              "      <button class=\"colab-df-convert\" onclick=\"convertToInteractive('df-62d77793-258a-438c-b277-a7159c42652a')\"\n",
              "              title=\"Convert this dataframe to an interactive table.\"\n",
              "              style=\"display:none;\">\n",
              "        \n",
              "  <svg xmlns=\"http://www.w3.org/2000/svg\" height=\"24px\"viewBox=\"0 0 24 24\"\n",
              "       width=\"24px\">\n",
              "    <path d=\"M0 0h24v24H0V0z\" fill=\"none\"/>\n",
              "    <path d=\"M18.56 5.44l.94 2.06.94-2.06 2.06-.94-2.06-.94-.94-2.06-.94 2.06-2.06.94zm-11 1L8.5 8.5l.94-2.06 2.06-.94-2.06-.94L8.5 2.5l-.94 2.06-2.06.94zm10 10l.94 2.06.94-2.06 2.06-.94-2.06-.94-.94-2.06-.94 2.06-2.06.94z\"/><path d=\"M17.41 7.96l-1.37-1.37c-.4-.4-.92-.59-1.43-.59-.52 0-1.04.2-1.43.59L10.3 9.45l-7.72 7.72c-.78.78-.78 2.05 0 2.83L4 21.41c.39.39.9.59 1.41.59.51 0 1.02-.2 1.41-.59l7.78-7.78 2.81-2.81c.8-.78.8-2.07 0-2.86zM5.41 20L4 18.59l7.72-7.72 1.47 1.35L5.41 20z\"/>\n",
              "  </svg>\n",
              "      </button>\n",
              "      \n",
              "  <style>\n",
              "    .colab-df-container {\n",
              "      display:flex;\n",
              "      flex-wrap:wrap;\n",
              "      gap: 12px;\n",
              "    }\n",
              "\n",
              "    .colab-df-convert {\n",
              "      background-color: #E8F0FE;\n",
              "      border: none;\n",
              "      border-radius: 50%;\n",
              "      cursor: pointer;\n",
              "      display: none;\n",
              "      fill: #1967D2;\n",
              "      height: 32px;\n",
              "      padding: 0 0 0 0;\n",
              "      width: 32px;\n",
              "    }\n",
              "\n",
              "    .colab-df-convert:hover {\n",
              "      background-color: #E2EBFA;\n",
              "      box-shadow: 0px 1px 2px rgba(60, 64, 67, 0.3), 0px 1px 3px 1px rgba(60, 64, 67, 0.15);\n",
              "      fill: #174EA6;\n",
              "    }\n",
              "\n",
              "    [theme=dark] .colab-df-convert {\n",
              "      background-color: #3B4455;\n",
              "      fill: #D2E3FC;\n",
              "    }\n",
              "\n",
              "    [theme=dark] .colab-df-convert:hover {\n",
              "      background-color: #434B5C;\n",
              "      box-shadow: 0px 1px 3px 1px rgba(0, 0, 0, 0.15);\n",
              "      filter: drop-shadow(0px 1px 2px rgba(0, 0, 0, 0.3));\n",
              "      fill: #FFFFFF;\n",
              "    }\n",
              "  </style>\n",
              "\n",
              "      <script>\n",
              "        const buttonEl =\n",
              "          document.querySelector('#df-62d77793-258a-438c-b277-a7159c42652a button.colab-df-convert');\n",
              "        buttonEl.style.display =\n",
              "          google.colab.kernel.accessAllowed ? 'block' : 'none';\n",
              "\n",
              "        async function convertToInteractive(key) {\n",
              "          const element = document.querySelector('#df-62d77793-258a-438c-b277-a7159c42652a');\n",
              "          const dataTable =\n",
              "            await google.colab.kernel.invokeFunction('convertToInteractive',\n",
              "                                                     [key], {});\n",
              "          if (!dataTable) return;\n",
              "\n",
              "          const docLinkHtml = 'Like what you see? Visit the ' +\n",
              "            '<a target=\"_blank\" href=https://colab.research.google.com/notebooks/data_table.ipynb>data table notebook</a>'\n",
              "            + ' to learn more about interactive tables.';\n",
              "          element.innerHTML = '';\n",
              "          dataTable['output_type'] = 'display_data';\n",
              "          await google.colab.output.renderOutput(dataTable, element);\n",
              "          const docLink = document.createElement('div');\n",
              "          docLink.innerHTML = docLinkHtml;\n",
              "          element.appendChild(docLink);\n",
              "        }\n",
              "      </script>\n",
              "    </div>\n",
              "  </div>\n",
              "  "
            ]
          },
          "metadata": {},
          "execution_count": 2
        }
      ]
    },
    {
      "cell_type": "code",
      "source": [
        "lending_co_data.index"
      ],
      "metadata": {
        "colab": {
          "base_uri": "https://localhost:8080/"
        },
        "id": "Z0EgdLUhv0DJ",
        "outputId": "f5285e8d-d0d3-4942-b7eb-8e691adf6769"
      },
      "execution_count": 3,
      "outputs": [
        {
          "output_type": "execute_result",
          "data": {
            "text/plain": [
              "Int64Index([   1,    2,    3,    4,    5,    6,    7,    8,    9,   10,\n",
              "            ...\n",
              "            1034, 1035, 1036, 1037, 1038, 1039, 1040, 1041, 1042, 1043],\n",
              "           dtype='int64', name='LoanID', length=1043)"
            ]
          },
          "metadata": {},
          "execution_count": 3
        }
      ]
    },
    {
      "cell_type": "code",
      "source": [
        "type(lending_co_data.index)"
      ],
      "metadata": {
        "colab": {
          "base_uri": "https://localhost:8080/"
        },
        "id": "pNsL8oQfv1l6",
        "outputId": "616d0b5a-2c4e-4f4b-e95e-f96703f15989"
      },
      "execution_count": 4,
      "outputs": [
        {
          "output_type": "execute_result",
          "data": {
            "text/plain": [
              "pandas.core.indexes.numeric.Int64Index"
            ]
          },
          "metadata": {},
          "execution_count": 4
        }
      ]
    },
    {
      "cell_type": "code",
      "source": [
        "lending_co_data.columns"
      ],
      "metadata": {
        "colab": {
          "base_uri": "https://localhost:8080/"
        },
        "id": "wcfamFRBv2bu",
        "outputId": "e69a2d08-8c6b-4034-f733-47fab9e34dbe"
      },
      "execution_count": 5,
      "outputs": [
        {
          "output_type": "execute_result",
          "data": {
            "text/plain": [
              "Index(['StringID', 'Product', 'CustomerGender', 'Location', 'Region',\n",
              "       'TotalPrice', 'StartDate', 'Deposit', 'DailyRate', 'TotalDaysYr',\n",
              "       'AmtPaid36', 'AmtPaid60', 'AmtPaid360', 'LoanStatus'],\n",
              "      dtype='object')"
            ]
          },
          "metadata": {},
          "execution_count": 5
        }
      ]
    },
    {
      "cell_type": "code",
      "source": [
        "type(lending_co_data.columns)"
      ],
      "metadata": {
        "colab": {
          "base_uri": "https://localhost:8080/"
        },
        "id": "m8czHxWLv3SN",
        "outputId": "fc6ff1f1-9a0a-45cc-9b10-dd30ff602e8d"
      },
      "execution_count": 6,
      "outputs": [
        {
          "output_type": "execute_result",
          "data": {
            "text/plain": [
              "pandas.core.indexes.base.Index"
            ]
          },
          "metadata": {},
          "execution_count": 6
        }
      ]
    },
    {
      "cell_type": "code",
      "source": [
        "lending_co_data.axes"
      ],
      "metadata": {
        "colab": {
          "base_uri": "https://localhost:8080/"
        },
        "id": "TSrxx_UNv4DB",
        "outputId": "d06fdbc8-cd7c-4727-ba71-49af2a93515e"
      },
      "execution_count": 7,
      "outputs": [
        {
          "output_type": "execute_result",
          "data": {
            "text/plain": [
              "[Int64Index([   1,    2,    3,    4,    5,    6,    7,    8,    9,   10,\n",
              "             ...\n",
              "             1034, 1035, 1036, 1037, 1038, 1039, 1040, 1041, 1042, 1043],\n",
              "            dtype='int64', name='LoanID', length=1043),\n",
              " Index(['StringID', 'Product', 'CustomerGender', 'Location', 'Region',\n",
              "        'TotalPrice', 'StartDate', 'Deposit', 'DailyRate', 'TotalDaysYr',\n",
              "        'AmtPaid36', 'AmtPaid60', 'AmtPaid360', 'LoanStatus'],\n",
              "       dtype='object')]"
            ]
          },
          "metadata": {},
          "execution_count": 7
        }
      ]
    },
    {
      "cell_type": "code",
      "source": [
        "lending_co_data.dtypes"
      ],
      "metadata": {
        "colab": {
          "base_uri": "https://localhost:8080/"
        },
        "id": "OM8KrgClv5SA",
        "outputId": "aff3459d-b848-4682-9d5d-56b01e919e49"
      },
      "execution_count": 8,
      "outputs": [
        {
          "output_type": "execute_result",
          "data": {
            "text/plain": [
              "StringID           object\n",
              "Product            object\n",
              "CustomerGender     object\n",
              "Location           object\n",
              "Region             object\n",
              "TotalPrice        float64\n",
              "StartDate          object\n",
              "Deposit             int64\n",
              "DailyRate           int64\n",
              "TotalDaysYr         int64\n",
              "AmtPaid36           int64\n",
              "AmtPaid60           int64\n",
              "AmtPaid360          int64\n",
              "LoanStatus         object\n",
              "dtype: object"
            ]
          },
          "metadata": {},
          "execution_count": 8
        }
      ]
    },
    {
      "cell_type": "code",
      "source": [
        "lending_co_data.values"
      ],
      "metadata": {
        "colab": {
          "base_uri": "https://localhost:8080/"
        },
        "id": "KVB1o4ctv60B",
        "outputId": "b19e36a5-5ae1-4e64-abb2-eb0643945b6e"
      },
      "execution_count": 9,
      "outputs": [
        {
          "output_type": "execute_result",
          "data": {
            "text/plain": [
              "array([['LoanID_1', 'Product B', 'Female', ..., 4166, 14621, 'Active'],\n",
              "       ['LoanID_2', 'Product D', 'Female', ..., 4096, 16041, 'Active'],\n",
              "       ['LoanID_3', 'Product B', 'Male', ..., 3205, 16340, nan],\n",
              "       ...,\n",
              "       ['LoanID_1041', 'Product A', 'NotSpecified', ..., 5143, 16617,\n",
              "        'Finished Payment'],\n",
              "       ['LoanID_1042', 'Product B', 'Female', ..., 3462, 15617,\n",
              "        'Finished Payment'],\n",
              "       ['LoanID_1043', 'Product A', 'NotSpecified', ..., 4743, 16617,\n",
              "        'Finished Payment']], dtype=object)"
            ]
          },
          "metadata": {},
          "execution_count": 9
        }
      ]
    },
    {
      "cell_type": "code",
      "source": [
        "type(lending_co_data.values)"
      ],
      "metadata": {
        "colab": {
          "base_uri": "https://localhost:8080/"
        },
        "id": "vs7Aap-ev74G",
        "outputId": "8297e733-d778-4464-d8d1-2b70b4e8a5ab"
      },
      "execution_count": 10,
      "outputs": [
        {
          "output_type": "execute_result",
          "data": {
            "text/plain": [
              "numpy.ndarray"
            ]
          },
          "metadata": {},
          "execution_count": 10
        }
      ]
    },
    {
      "cell_type": "code",
      "source": [
        "lending_co_data.shape"
      ],
      "metadata": {
        "colab": {
          "base_uri": "https://localhost:8080/"
        },
        "id": "4isIa3X1v9HD",
        "outputId": "14a9d409-f027-4774-904c-14887fb66dcb"
      },
      "execution_count": 11,
      "outputs": [
        {
          "output_type": "execute_result",
          "data": {
            "text/plain": [
              "(1043, 14)"
            ]
          },
          "metadata": {},
          "execution_count": 11
        }
      ]
    },
    {
      "cell_type": "code",
      "source": [
        "len(lending_co_data.columns)"
      ],
      "metadata": {
        "colab": {
          "base_uri": "https://localhost:8080/"
        },
        "id": "rkQJ5cRav-Uj",
        "outputId": "e1a24c9b-ecdc-4d93-8219-adc6d94c52c5"
      },
      "execution_count": 12,
      "outputs": [
        {
          "output_type": "execute_result",
          "data": {
            "text/plain": [
              "14"
            ]
          },
          "metadata": {},
          "execution_count": 12
        }
      ]
    },
    {
      "cell_type": "code",
      "source": [
        "location_data = pd.read_csv('Lending-company.csv', usecols = ['Location'], squeeze = True)\n",
        "location_data"
      ],
      "metadata": {
        "colab": {
          "base_uri": "https://localhost:8080/"
        },
        "id": "wOGviViRwALs",
        "outputId": "ff4510dd-1baf-49af-d608-e9c038bfc3a7"
      },
      "execution_count": 13,
      "outputs": [
        {
          "output_type": "execute_result",
          "data": {
            "text/plain": [
              "0        Location 3\n",
              "1        Location 6\n",
              "2        Location 8\n",
              "3       Location 26\n",
              "4       Location 34\n",
              "           ...     \n",
              "1038    Location 73\n",
              "1039    Location 82\n",
              "1040    Location 11\n",
              "1041    Location 26\n",
              "1042    Location 94\n",
              "Name: Location, Length: 1043, dtype: object"
            ]
          },
          "metadata": {},
          "execution_count": 13
        }
      ]
    },
    {
      "cell_type": "code",
      "source": [
        "type(location_data)"
      ],
      "metadata": {
        "colab": {
          "base_uri": "https://localhost:8080/"
        },
        "id": "CQ-_lGwuwDkK",
        "outputId": "8bc8865a-3b89-4d0b-892c-04985ff8fbc5"
      },
      "execution_count": 14,
      "outputs": [
        {
          "output_type": "execute_result",
          "data": {
            "text/plain": [
              "pandas.core.series.Series"
            ]
          },
          "metadata": {},
          "execution_count": 14
        }
      ]
    },
    {
      "cell_type": "code",
      "source": [
        "location_data.shape"
      ],
      "metadata": {
        "colab": {
          "base_uri": "https://localhost:8080/"
        },
        "id": "h3onb1spwEyM",
        "outputId": "30a5cfe4-9fd7-4a4b-8d84-8c4356e7efed"
      },
      "execution_count": 15,
      "outputs": [
        {
          "output_type": "execute_result",
          "data": {
            "text/plain": [
              "(1043,)"
            ]
          },
          "metadata": {},
          "execution_count": 15
        }
      ]
    },
    {
      "cell_type": "markdown",
      "source": [
        "## Data Selection in pandas DataFrames"
      ],
      "metadata": {
        "id": "haADNJs7wH18"
      }
    },
    {
      "cell_type": "code",
      "source": [
        "data = pd.read_csv('Lending-company.csv', index_col = 'StringID')\n",
        "lending_co_data = data.copy()\n",
        "lending_co_data.head()"
      ],
      "metadata": {
        "colab": {
          "base_uri": "https://localhost:8080/",
          "height": 238
        },
        "id": "h-rUYW4CwHnM",
        "outputId": "e6c576fc-b080-4c41-b772-17a7715f4562"
      },
      "execution_count": 16,
      "outputs": [
        {
          "output_type": "execute_result",
          "data": {
            "text/plain": [
              "          LoanID    Product CustomerGender     Location    Region  TotalPrice  \\\n",
              "StringID                                                                        \n",
              "LoanID_1       1  Product B         Female   Location 3  Region 2     17600.0   \n",
              "LoanID_2       2  Product D         Female   Location 6  Region 6         NaN   \n",
              "LoanID_3       3  Product B           Male   Location 8  Region 3     16600.0   \n",
              "LoanID_4       4  Product A           Male  Location 26  Region 2     17600.0   \n",
              "LoanID_5       5  Product B         Female  Location 34  Region 3     21250.0   \n",
              "\n",
              "           StartDate  Deposit  DailyRate  TotalDaysYr  AmtPaid36  AmtPaid60  \\\n",
              "StringID                                                                      \n",
              "LoanID_1  04/07/2018     2200         45          365       3221       4166   \n",
              "LoanID_2  02/01/2019     2200         45          365       3161       4096   \n",
              "LoanID_3  08/12/2016     1000         45          365       2260       3205   \n",
              "LoanID_4         NaN     2200         45          365       3141       4166   \n",
              "LoanID_5  28/10/2017     2200         55          365       3570       4745   \n",
              "\n",
              "          AmtPaid360 LoanStatus  \n",
              "StringID                         \n",
              "LoanID_1       14621     Active  \n",
              "LoanID_2       16041     Active  \n",
              "LoanID_3       16340        NaN  \n",
              "LoanID_4       16321     Active  \n",
              "LoanID_5       14720     Active  "
            ],
            "text/html": [
              "\n",
              "  <div id=\"df-a531d719-c89a-4a2c-93dc-84a08e4e8192\">\n",
              "    <div class=\"colab-df-container\">\n",
              "      <div>\n",
              "<style scoped>\n",
              "    .dataframe tbody tr th:only-of-type {\n",
              "        vertical-align: middle;\n",
              "    }\n",
              "\n",
              "    .dataframe tbody tr th {\n",
              "        vertical-align: top;\n",
              "    }\n",
              "\n",
              "    .dataframe thead th {\n",
              "        text-align: right;\n",
              "    }\n",
              "</style>\n",
              "<table border=\"1\" class=\"dataframe\">\n",
              "  <thead>\n",
              "    <tr style=\"text-align: right;\">\n",
              "      <th></th>\n",
              "      <th>LoanID</th>\n",
              "      <th>Product</th>\n",
              "      <th>CustomerGender</th>\n",
              "      <th>Location</th>\n",
              "      <th>Region</th>\n",
              "      <th>TotalPrice</th>\n",
              "      <th>StartDate</th>\n",
              "      <th>Deposit</th>\n",
              "      <th>DailyRate</th>\n",
              "      <th>TotalDaysYr</th>\n",
              "      <th>AmtPaid36</th>\n",
              "      <th>AmtPaid60</th>\n",
              "      <th>AmtPaid360</th>\n",
              "      <th>LoanStatus</th>\n",
              "    </tr>\n",
              "    <tr>\n",
              "      <th>StringID</th>\n",
              "      <th></th>\n",
              "      <th></th>\n",
              "      <th></th>\n",
              "      <th></th>\n",
              "      <th></th>\n",
              "      <th></th>\n",
              "      <th></th>\n",
              "      <th></th>\n",
              "      <th></th>\n",
              "      <th></th>\n",
              "      <th></th>\n",
              "      <th></th>\n",
              "      <th></th>\n",
              "      <th></th>\n",
              "    </tr>\n",
              "  </thead>\n",
              "  <tbody>\n",
              "    <tr>\n",
              "      <th>LoanID_1</th>\n",
              "      <td>1</td>\n",
              "      <td>Product B</td>\n",
              "      <td>Female</td>\n",
              "      <td>Location 3</td>\n",
              "      <td>Region 2</td>\n",
              "      <td>17600.0</td>\n",
              "      <td>04/07/2018</td>\n",
              "      <td>2200</td>\n",
              "      <td>45</td>\n",
              "      <td>365</td>\n",
              "      <td>3221</td>\n",
              "      <td>4166</td>\n",
              "      <td>14621</td>\n",
              "      <td>Active</td>\n",
              "    </tr>\n",
              "    <tr>\n",
              "      <th>LoanID_2</th>\n",
              "      <td>2</td>\n",
              "      <td>Product D</td>\n",
              "      <td>Female</td>\n",
              "      <td>Location 6</td>\n",
              "      <td>Region 6</td>\n",
              "      <td>NaN</td>\n",
              "      <td>02/01/2019</td>\n",
              "      <td>2200</td>\n",
              "      <td>45</td>\n",
              "      <td>365</td>\n",
              "      <td>3161</td>\n",
              "      <td>4096</td>\n",
              "      <td>16041</td>\n",
              "      <td>Active</td>\n",
              "    </tr>\n",
              "    <tr>\n",
              "      <th>LoanID_3</th>\n",
              "      <td>3</td>\n",
              "      <td>Product B</td>\n",
              "      <td>Male</td>\n",
              "      <td>Location 8</td>\n",
              "      <td>Region 3</td>\n",
              "      <td>16600.0</td>\n",
              "      <td>08/12/2016</td>\n",
              "      <td>1000</td>\n",
              "      <td>45</td>\n",
              "      <td>365</td>\n",
              "      <td>2260</td>\n",
              "      <td>3205</td>\n",
              "      <td>16340</td>\n",
              "      <td>NaN</td>\n",
              "    </tr>\n",
              "    <tr>\n",
              "      <th>LoanID_4</th>\n",
              "      <td>4</td>\n",
              "      <td>Product A</td>\n",
              "      <td>Male</td>\n",
              "      <td>Location 26</td>\n",
              "      <td>Region 2</td>\n",
              "      <td>17600.0</td>\n",
              "      <td>NaN</td>\n",
              "      <td>2200</td>\n",
              "      <td>45</td>\n",
              "      <td>365</td>\n",
              "      <td>3141</td>\n",
              "      <td>4166</td>\n",
              "      <td>16321</td>\n",
              "      <td>Active</td>\n",
              "    </tr>\n",
              "    <tr>\n",
              "      <th>LoanID_5</th>\n",
              "      <td>5</td>\n",
              "      <td>Product B</td>\n",
              "      <td>Female</td>\n",
              "      <td>Location 34</td>\n",
              "      <td>Region 3</td>\n",
              "      <td>21250.0</td>\n",
              "      <td>28/10/2017</td>\n",
              "      <td>2200</td>\n",
              "      <td>55</td>\n",
              "      <td>365</td>\n",
              "      <td>3570</td>\n",
              "      <td>4745</td>\n",
              "      <td>14720</td>\n",
              "      <td>Active</td>\n",
              "    </tr>\n",
              "  </tbody>\n",
              "</table>\n",
              "</div>\n",
              "      <button class=\"colab-df-convert\" onclick=\"convertToInteractive('df-a531d719-c89a-4a2c-93dc-84a08e4e8192')\"\n",
              "              title=\"Convert this dataframe to an interactive table.\"\n",
              "              style=\"display:none;\">\n",
              "        \n",
              "  <svg xmlns=\"http://www.w3.org/2000/svg\" height=\"24px\"viewBox=\"0 0 24 24\"\n",
              "       width=\"24px\">\n",
              "    <path d=\"M0 0h24v24H0V0z\" fill=\"none\"/>\n",
              "    <path d=\"M18.56 5.44l.94 2.06.94-2.06 2.06-.94-2.06-.94-.94-2.06-.94 2.06-2.06.94zm-11 1L8.5 8.5l.94-2.06 2.06-.94-2.06-.94L8.5 2.5l-.94 2.06-2.06.94zm10 10l.94 2.06.94-2.06 2.06-.94-2.06-.94-.94-2.06-.94 2.06-2.06.94z\"/><path d=\"M17.41 7.96l-1.37-1.37c-.4-.4-.92-.59-1.43-.59-.52 0-1.04.2-1.43.59L10.3 9.45l-7.72 7.72c-.78.78-.78 2.05 0 2.83L4 21.41c.39.39.9.59 1.41.59.51 0 1.02-.2 1.41-.59l7.78-7.78 2.81-2.81c.8-.78.8-2.07 0-2.86zM5.41 20L4 18.59l7.72-7.72 1.47 1.35L5.41 20z\"/>\n",
              "  </svg>\n",
              "      </button>\n",
              "      \n",
              "  <style>\n",
              "    .colab-df-container {\n",
              "      display:flex;\n",
              "      flex-wrap:wrap;\n",
              "      gap: 12px;\n",
              "    }\n",
              "\n",
              "    .colab-df-convert {\n",
              "      background-color: #E8F0FE;\n",
              "      border: none;\n",
              "      border-radius: 50%;\n",
              "      cursor: pointer;\n",
              "      display: none;\n",
              "      fill: #1967D2;\n",
              "      height: 32px;\n",
              "      padding: 0 0 0 0;\n",
              "      width: 32px;\n",
              "    }\n",
              "\n",
              "    .colab-df-convert:hover {\n",
              "      background-color: #E2EBFA;\n",
              "      box-shadow: 0px 1px 2px rgba(60, 64, 67, 0.3), 0px 1px 3px 1px rgba(60, 64, 67, 0.15);\n",
              "      fill: #174EA6;\n",
              "    }\n",
              "\n",
              "    [theme=dark] .colab-df-convert {\n",
              "      background-color: #3B4455;\n",
              "      fill: #D2E3FC;\n",
              "    }\n",
              "\n",
              "    [theme=dark] .colab-df-convert:hover {\n",
              "      background-color: #434B5C;\n",
              "      box-shadow: 0px 1px 3px 1px rgba(0, 0, 0, 0.15);\n",
              "      filter: drop-shadow(0px 1px 2px rgba(0, 0, 0, 0.3));\n",
              "      fill: #FFFFFF;\n",
              "    }\n",
              "  </style>\n",
              "\n",
              "      <script>\n",
              "        const buttonEl =\n",
              "          document.querySelector('#df-a531d719-c89a-4a2c-93dc-84a08e4e8192 button.colab-df-convert');\n",
              "        buttonEl.style.display =\n",
              "          google.colab.kernel.accessAllowed ? 'block' : 'none';\n",
              "\n",
              "        async function convertToInteractive(key) {\n",
              "          const element = document.querySelector('#df-a531d719-c89a-4a2c-93dc-84a08e4e8192');\n",
              "          const dataTable =\n",
              "            await google.colab.kernel.invokeFunction('convertToInteractive',\n",
              "                                                     [key], {});\n",
              "          if (!dataTable) return;\n",
              "\n",
              "          const docLinkHtml = 'Like what you see? Visit the ' +\n",
              "            '<a target=\"_blank\" href=https://colab.research.google.com/notebooks/data_table.ipynb>data table notebook</a>'\n",
              "            + ' to learn more about interactive tables.';\n",
              "          element.innerHTML = '';\n",
              "          dataTable['output_type'] = 'display_data';\n",
              "          await google.colab.output.renderOutput(dataTable, element);\n",
              "          const docLink = document.createElement('div');\n",
              "          docLink.innerHTML = docLinkHtml;\n",
              "          element.appendChild(docLink);\n",
              "        }\n",
              "      </script>\n",
              "    </div>\n",
              "  </div>\n",
              "  "
            ]
          },
          "metadata": {},
          "execution_count": 16
        }
      ]
    },
    {
      "cell_type": "code",
      "source": [
        "lending_co_data.Product"
      ],
      "metadata": {
        "colab": {
          "base_uri": "https://localhost:8080/"
        },
        "id": "jWj0UhE2wFpI",
        "outputId": "a3cbc67d-a562-45e7-a676-cff1c7bb2042"
      },
      "execution_count": 17,
      "outputs": [
        {
          "output_type": "execute_result",
          "data": {
            "text/plain": [
              "StringID\n",
              "LoanID_1       Product B\n",
              "LoanID_2       Product D\n",
              "LoanID_3       Product B\n",
              "LoanID_4       Product A\n",
              "LoanID_5       Product B\n",
              "                 ...    \n",
              "LoanID_1039    Product B\n",
              "LoanID_1040    Product A\n",
              "LoanID_1041    Product A\n",
              "LoanID_1042    Product B\n",
              "LoanID_1043    Product A\n",
              "Name: Product, Length: 1043, dtype: object"
            ]
          },
          "metadata": {},
          "execution_count": 17
        }
      ]
    },
    {
      "cell_type": "code",
      "source": [
        "lending_co_data['Product']"
      ],
      "metadata": {
        "colab": {
          "base_uri": "https://localhost:8080/"
        },
        "id": "8m-gBSQqwKPN",
        "outputId": "6318ba2a-cee1-441a-f254-243458309158"
      },
      "execution_count": 18,
      "outputs": [
        {
          "output_type": "execute_result",
          "data": {
            "text/plain": [
              "StringID\n",
              "LoanID_1       Product B\n",
              "LoanID_2       Product D\n",
              "LoanID_3       Product B\n",
              "LoanID_4       Product A\n",
              "LoanID_5       Product B\n",
              "                 ...    \n",
              "LoanID_1039    Product B\n",
              "LoanID_1040    Product A\n",
              "LoanID_1041    Product A\n",
              "LoanID_1042    Product B\n",
              "LoanID_1043    Product A\n",
              "Name: Product, Length: 1043, dtype: object"
            ]
          },
          "metadata": {},
          "execution_count": 18
        }
      ]
    },
    {
      "cell_type": "code",
      "source": [
        "lending_co_data['Location']"
      ],
      "metadata": {
        "colab": {
          "base_uri": "https://localhost:8080/"
        },
        "id": "hP4xF3KQwLIf",
        "outputId": "9d037640-e241-4a1a-a33e-c578fce8dc07"
      },
      "execution_count": 19,
      "outputs": [
        {
          "output_type": "execute_result",
          "data": {
            "text/plain": [
              "StringID\n",
              "LoanID_1        Location 3\n",
              "LoanID_2        Location 6\n",
              "LoanID_3        Location 8\n",
              "LoanID_4       Location 26\n",
              "LoanID_5       Location 34\n",
              "                  ...     \n",
              "LoanID_1039    Location 73\n",
              "LoanID_1040    Location 82\n",
              "LoanID_1041    Location 11\n",
              "LoanID_1042    Location 26\n",
              "LoanID_1043    Location 94\n",
              "Name: Location, Length: 1043, dtype: object"
            ]
          },
          "metadata": {},
          "execution_count": 19
        }
      ]
    },
    {
      "cell_type": "code",
      "source": [
        "type(lending_co_data['Location'])"
      ],
      "metadata": {
        "colab": {
          "base_uri": "https://localhost:8080/"
        },
        "id": "dcrQChy0wOwa",
        "outputId": "acc129b2-240b-4b77-f4eb-0f1c913d8345"
      },
      "execution_count": 21,
      "outputs": [
        {
          "output_type": "execute_result",
          "data": {
            "text/plain": [
              "pandas.core.series.Series"
            ]
          },
          "metadata": {},
          "execution_count": 21
        }
      ]
    },
    {
      "cell_type": "code",
      "source": [
        "type(lending_co_data[['Location']])"
      ],
      "metadata": {
        "colab": {
          "base_uri": "https://localhost:8080/"
        },
        "id": "PSwvG-oNwSyQ",
        "outputId": "0b399b3b-6ace-409f-c0f0-4a73e2152f96"
      },
      "execution_count": 22,
      "outputs": [
        {
          "output_type": "execute_result",
          "data": {
            "text/plain": [
              "pandas.core.frame.DataFrame"
            ]
          },
          "metadata": {},
          "execution_count": 22
        }
      ]
    },
    {
      "cell_type": "code",
      "source": [
        "lending_co_data[['Location', 'Product']].head()"
      ],
      "metadata": {
        "colab": {
          "base_uri": "https://localhost:8080/",
          "height": 238
        },
        "id": "BJwiqK_xwUBN",
        "outputId": "16d014ba-5882-4586-b0b8-7cda81315459"
      },
      "execution_count": 23,
      "outputs": [
        {
          "output_type": "execute_result",
          "data": {
            "text/plain": [
              "             Location    Product\n",
              "StringID                        \n",
              "LoanID_1   Location 3  Product B\n",
              "LoanID_2   Location 6  Product D\n",
              "LoanID_3   Location 8  Product B\n",
              "LoanID_4  Location 26  Product A\n",
              "LoanID_5  Location 34  Product B"
            ],
            "text/html": [
              "\n",
              "  <div id=\"df-f3a7e868-5722-4eb8-876f-d9775023ce42\">\n",
              "    <div class=\"colab-df-container\">\n",
              "      <div>\n",
              "<style scoped>\n",
              "    .dataframe tbody tr th:only-of-type {\n",
              "        vertical-align: middle;\n",
              "    }\n",
              "\n",
              "    .dataframe tbody tr th {\n",
              "        vertical-align: top;\n",
              "    }\n",
              "\n",
              "    .dataframe thead th {\n",
              "        text-align: right;\n",
              "    }\n",
              "</style>\n",
              "<table border=\"1\" class=\"dataframe\">\n",
              "  <thead>\n",
              "    <tr style=\"text-align: right;\">\n",
              "      <th></th>\n",
              "      <th>Location</th>\n",
              "      <th>Product</th>\n",
              "    </tr>\n",
              "    <tr>\n",
              "      <th>StringID</th>\n",
              "      <th></th>\n",
              "      <th></th>\n",
              "    </tr>\n",
              "  </thead>\n",
              "  <tbody>\n",
              "    <tr>\n",
              "      <th>LoanID_1</th>\n",
              "      <td>Location 3</td>\n",
              "      <td>Product B</td>\n",
              "    </tr>\n",
              "    <tr>\n",
              "      <th>LoanID_2</th>\n",
              "      <td>Location 6</td>\n",
              "      <td>Product D</td>\n",
              "    </tr>\n",
              "    <tr>\n",
              "      <th>LoanID_3</th>\n",
              "      <td>Location 8</td>\n",
              "      <td>Product B</td>\n",
              "    </tr>\n",
              "    <tr>\n",
              "      <th>LoanID_4</th>\n",
              "      <td>Location 26</td>\n",
              "      <td>Product A</td>\n",
              "    </tr>\n",
              "    <tr>\n",
              "      <th>LoanID_5</th>\n",
              "      <td>Location 34</td>\n",
              "      <td>Product B</td>\n",
              "    </tr>\n",
              "  </tbody>\n",
              "</table>\n",
              "</div>\n",
              "      <button class=\"colab-df-convert\" onclick=\"convertToInteractive('df-f3a7e868-5722-4eb8-876f-d9775023ce42')\"\n",
              "              title=\"Convert this dataframe to an interactive table.\"\n",
              "              style=\"display:none;\">\n",
              "        \n",
              "  <svg xmlns=\"http://www.w3.org/2000/svg\" height=\"24px\"viewBox=\"0 0 24 24\"\n",
              "       width=\"24px\">\n",
              "    <path d=\"M0 0h24v24H0V0z\" fill=\"none\"/>\n",
              "    <path d=\"M18.56 5.44l.94 2.06.94-2.06 2.06-.94-2.06-.94-.94-2.06-.94 2.06-2.06.94zm-11 1L8.5 8.5l.94-2.06 2.06-.94-2.06-.94L8.5 2.5l-.94 2.06-2.06.94zm10 10l.94 2.06.94-2.06 2.06-.94-2.06-.94-.94-2.06-.94 2.06-2.06.94z\"/><path d=\"M17.41 7.96l-1.37-1.37c-.4-.4-.92-.59-1.43-.59-.52 0-1.04.2-1.43.59L10.3 9.45l-7.72 7.72c-.78.78-.78 2.05 0 2.83L4 21.41c.39.39.9.59 1.41.59.51 0 1.02-.2 1.41-.59l7.78-7.78 2.81-2.81c.8-.78.8-2.07 0-2.86zM5.41 20L4 18.59l7.72-7.72 1.47 1.35L5.41 20z\"/>\n",
              "  </svg>\n",
              "      </button>\n",
              "      \n",
              "  <style>\n",
              "    .colab-df-container {\n",
              "      display:flex;\n",
              "      flex-wrap:wrap;\n",
              "      gap: 12px;\n",
              "    }\n",
              "\n",
              "    .colab-df-convert {\n",
              "      background-color: #E8F0FE;\n",
              "      border: none;\n",
              "      border-radius: 50%;\n",
              "      cursor: pointer;\n",
              "      display: none;\n",
              "      fill: #1967D2;\n",
              "      height: 32px;\n",
              "      padding: 0 0 0 0;\n",
              "      width: 32px;\n",
              "    }\n",
              "\n",
              "    .colab-df-convert:hover {\n",
              "      background-color: #E2EBFA;\n",
              "      box-shadow: 0px 1px 2px rgba(60, 64, 67, 0.3), 0px 1px 3px 1px rgba(60, 64, 67, 0.15);\n",
              "      fill: #174EA6;\n",
              "    }\n",
              "\n",
              "    [theme=dark] .colab-df-convert {\n",
              "      background-color: #3B4455;\n",
              "      fill: #D2E3FC;\n",
              "    }\n",
              "\n",
              "    [theme=dark] .colab-df-convert:hover {\n",
              "      background-color: #434B5C;\n",
              "      box-shadow: 0px 1px 3px 1px rgba(0, 0, 0, 0.15);\n",
              "      filter: drop-shadow(0px 1px 2px rgba(0, 0, 0, 0.3));\n",
              "      fill: #FFFFFF;\n",
              "    }\n",
              "  </style>\n",
              "\n",
              "      <script>\n",
              "        const buttonEl =\n",
              "          document.querySelector('#df-f3a7e868-5722-4eb8-876f-d9775023ce42 button.colab-df-convert');\n",
              "        buttonEl.style.display =\n",
              "          google.colab.kernel.accessAllowed ? 'block' : 'none';\n",
              "\n",
              "        async function convertToInteractive(key) {\n",
              "          const element = document.querySelector('#df-f3a7e868-5722-4eb8-876f-d9775023ce42');\n",
              "          const dataTable =\n",
              "            await google.colab.kernel.invokeFunction('convertToInteractive',\n",
              "                                                     [key], {});\n",
              "          if (!dataTable) return;\n",
              "\n",
              "          const docLinkHtml = 'Like what you see? Visit the ' +\n",
              "            '<a target=\"_blank\" href=https://colab.research.google.com/notebooks/data_table.ipynb>data table notebook</a>'\n",
              "            + ' to learn more about interactive tables.';\n",
              "          element.innerHTML = '';\n",
              "          dataTable['output_type'] = 'display_data';\n",
              "          await google.colab.output.renderOutput(dataTable, element);\n",
              "          const docLink = document.createElement('div');\n",
              "          docLink.innerHTML = docLinkHtml;\n",
              "          element.appendChild(docLink);\n",
              "        }\n",
              "      </script>\n",
              "    </div>\n",
              "  </div>\n",
              "  "
            ]
          },
          "metadata": {},
          "execution_count": 23
        }
      ]
    },
    {
      "cell_type": "code",
      "source": [
        "prod_loc = ['Location', 'Product']\n",
        "lending_co_data[prod_loc].head()"
      ],
      "metadata": {
        "colab": {
          "base_uri": "https://localhost:8080/",
          "height": 238
        },
        "id": "ikCZonXCwVh1",
        "outputId": "ff39bca2-c438-4dea-efc0-5a2dff5d2b4f"
      },
      "execution_count": 24,
      "outputs": [
        {
          "output_type": "execute_result",
          "data": {
            "text/plain": [
              "             Location    Product\n",
              "StringID                        \n",
              "LoanID_1   Location 3  Product B\n",
              "LoanID_2   Location 6  Product D\n",
              "LoanID_3   Location 8  Product B\n",
              "LoanID_4  Location 26  Product A\n",
              "LoanID_5  Location 34  Product B"
            ],
            "text/html": [
              "\n",
              "  <div id=\"df-a64bee30-db73-4086-bd7c-ed762aff8dd2\">\n",
              "    <div class=\"colab-df-container\">\n",
              "      <div>\n",
              "<style scoped>\n",
              "    .dataframe tbody tr th:only-of-type {\n",
              "        vertical-align: middle;\n",
              "    }\n",
              "\n",
              "    .dataframe tbody tr th {\n",
              "        vertical-align: top;\n",
              "    }\n",
              "\n",
              "    .dataframe thead th {\n",
              "        text-align: right;\n",
              "    }\n",
              "</style>\n",
              "<table border=\"1\" class=\"dataframe\">\n",
              "  <thead>\n",
              "    <tr style=\"text-align: right;\">\n",
              "      <th></th>\n",
              "      <th>Location</th>\n",
              "      <th>Product</th>\n",
              "    </tr>\n",
              "    <tr>\n",
              "      <th>StringID</th>\n",
              "      <th></th>\n",
              "      <th></th>\n",
              "    </tr>\n",
              "  </thead>\n",
              "  <tbody>\n",
              "    <tr>\n",
              "      <th>LoanID_1</th>\n",
              "      <td>Location 3</td>\n",
              "      <td>Product B</td>\n",
              "    </tr>\n",
              "    <tr>\n",
              "      <th>LoanID_2</th>\n",
              "      <td>Location 6</td>\n",
              "      <td>Product D</td>\n",
              "    </tr>\n",
              "    <tr>\n",
              "      <th>LoanID_3</th>\n",
              "      <td>Location 8</td>\n",
              "      <td>Product B</td>\n",
              "    </tr>\n",
              "    <tr>\n",
              "      <th>LoanID_4</th>\n",
              "      <td>Location 26</td>\n",
              "      <td>Product A</td>\n",
              "    </tr>\n",
              "    <tr>\n",
              "      <th>LoanID_5</th>\n",
              "      <td>Location 34</td>\n",
              "      <td>Product B</td>\n",
              "    </tr>\n",
              "  </tbody>\n",
              "</table>\n",
              "</div>\n",
              "      <button class=\"colab-df-convert\" onclick=\"convertToInteractive('df-a64bee30-db73-4086-bd7c-ed762aff8dd2')\"\n",
              "              title=\"Convert this dataframe to an interactive table.\"\n",
              "              style=\"display:none;\">\n",
              "        \n",
              "  <svg xmlns=\"http://www.w3.org/2000/svg\" height=\"24px\"viewBox=\"0 0 24 24\"\n",
              "       width=\"24px\">\n",
              "    <path d=\"M0 0h24v24H0V0z\" fill=\"none\"/>\n",
              "    <path d=\"M18.56 5.44l.94 2.06.94-2.06 2.06-.94-2.06-.94-.94-2.06-.94 2.06-2.06.94zm-11 1L8.5 8.5l.94-2.06 2.06-.94-2.06-.94L8.5 2.5l-.94 2.06-2.06.94zm10 10l.94 2.06.94-2.06 2.06-.94-2.06-.94-.94-2.06-.94 2.06-2.06.94z\"/><path d=\"M17.41 7.96l-1.37-1.37c-.4-.4-.92-.59-1.43-.59-.52 0-1.04.2-1.43.59L10.3 9.45l-7.72 7.72c-.78.78-.78 2.05 0 2.83L4 21.41c.39.39.9.59 1.41.59.51 0 1.02-.2 1.41-.59l7.78-7.78 2.81-2.81c.8-.78.8-2.07 0-2.86zM5.41 20L4 18.59l7.72-7.72 1.47 1.35L5.41 20z\"/>\n",
              "  </svg>\n",
              "      </button>\n",
              "      \n",
              "  <style>\n",
              "    .colab-df-container {\n",
              "      display:flex;\n",
              "      flex-wrap:wrap;\n",
              "      gap: 12px;\n",
              "    }\n",
              "\n",
              "    .colab-df-convert {\n",
              "      background-color: #E8F0FE;\n",
              "      border: none;\n",
              "      border-radius: 50%;\n",
              "      cursor: pointer;\n",
              "      display: none;\n",
              "      fill: #1967D2;\n",
              "      height: 32px;\n",
              "      padding: 0 0 0 0;\n",
              "      width: 32px;\n",
              "    }\n",
              "\n",
              "    .colab-df-convert:hover {\n",
              "      background-color: #E2EBFA;\n",
              "      box-shadow: 0px 1px 2px rgba(60, 64, 67, 0.3), 0px 1px 3px 1px rgba(60, 64, 67, 0.15);\n",
              "      fill: #174EA6;\n",
              "    }\n",
              "\n",
              "    [theme=dark] .colab-df-convert {\n",
              "      background-color: #3B4455;\n",
              "      fill: #D2E3FC;\n",
              "    }\n",
              "\n",
              "    [theme=dark] .colab-df-convert:hover {\n",
              "      background-color: #434B5C;\n",
              "      box-shadow: 0px 1px 3px 1px rgba(0, 0, 0, 0.15);\n",
              "      filter: drop-shadow(0px 1px 2px rgba(0, 0, 0, 0.3));\n",
              "      fill: #FFFFFF;\n",
              "    }\n",
              "  </style>\n",
              "\n",
              "      <script>\n",
              "        const buttonEl =\n",
              "          document.querySelector('#df-a64bee30-db73-4086-bd7c-ed762aff8dd2 button.colab-df-convert');\n",
              "        buttonEl.style.display =\n",
              "          google.colab.kernel.accessAllowed ? 'block' : 'none';\n",
              "\n",
              "        async function convertToInteractive(key) {\n",
              "          const element = document.querySelector('#df-a64bee30-db73-4086-bd7c-ed762aff8dd2');\n",
              "          const dataTable =\n",
              "            await google.colab.kernel.invokeFunction('convertToInteractive',\n",
              "                                                     [key], {});\n",
              "          if (!dataTable) return;\n",
              "\n",
              "          const docLinkHtml = 'Like what you see? Visit the ' +\n",
              "            '<a target=\"_blank\" href=https://colab.research.google.com/notebooks/data_table.ipynb>data table notebook</a>'\n",
              "            + ' to learn more about interactive tables.';\n",
              "          element.innerHTML = '';\n",
              "          dataTable['output_type'] = 'display_data';\n",
              "          await google.colab.output.renderOutput(dataTable, element);\n",
              "          const docLink = document.createElement('div');\n",
              "          docLink.innerHTML = docLinkHtml;\n",
              "          element.appendChild(docLink);\n",
              "        }\n",
              "      </script>\n",
              "    </div>\n",
              "  </div>\n",
              "  "
            ]
          },
          "metadata": {},
          "execution_count": 24
        }
      ]
    },
    {
      "cell_type": "markdown",
      "source": [
        "## Data Selection - Indexing Data with .iloc[]"
      ],
      "metadata": {
        "id": "hxmtqzoswdL0"
      }
    },
    {
      "cell_type": "code",
      "source": [
        "data = pd.read_csv('Lending-company.csv', index_col = 'StringID')\n",
        "lending_co_data = data.copy()\n",
        "lending_co_data.head()"
      ],
      "metadata": {
        "colab": {
          "base_uri": "https://localhost:8080/",
          "height": 238
        },
        "id": "T6qN5zpKwZ9E",
        "outputId": "808bd5b6-0c36-4dc8-b725-9098ec5aeb52"
      },
      "execution_count": 26,
      "outputs": [
        {
          "output_type": "execute_result",
          "data": {
            "text/plain": [
              "          LoanID    Product CustomerGender     Location    Region  TotalPrice  \\\n",
              "StringID                                                                        \n",
              "LoanID_1       1  Product B         Female   Location 3  Region 2     17600.0   \n",
              "LoanID_2       2  Product D         Female   Location 6  Region 6         NaN   \n",
              "LoanID_3       3  Product B           Male   Location 8  Region 3     16600.0   \n",
              "LoanID_4       4  Product A           Male  Location 26  Region 2     17600.0   \n",
              "LoanID_5       5  Product B         Female  Location 34  Region 3     21250.0   \n",
              "\n",
              "           StartDate  Deposit  DailyRate  TotalDaysYr  AmtPaid36  AmtPaid60  \\\n",
              "StringID                                                                      \n",
              "LoanID_1  04/07/2018     2200         45          365       3221       4166   \n",
              "LoanID_2  02/01/2019     2200         45          365       3161       4096   \n",
              "LoanID_3  08/12/2016     1000         45          365       2260       3205   \n",
              "LoanID_4         NaN     2200         45          365       3141       4166   \n",
              "LoanID_5  28/10/2017     2200         55          365       3570       4745   \n",
              "\n",
              "          AmtPaid360 LoanStatus  \n",
              "StringID                         \n",
              "LoanID_1       14621     Active  \n",
              "LoanID_2       16041     Active  \n",
              "LoanID_3       16340        NaN  \n",
              "LoanID_4       16321     Active  \n",
              "LoanID_5       14720     Active  "
            ],
            "text/html": [
              "\n",
              "  <div id=\"df-ac89a432-2199-441c-bbb2-9c91f65d3a15\">\n",
              "    <div class=\"colab-df-container\">\n",
              "      <div>\n",
              "<style scoped>\n",
              "    .dataframe tbody tr th:only-of-type {\n",
              "        vertical-align: middle;\n",
              "    }\n",
              "\n",
              "    .dataframe tbody tr th {\n",
              "        vertical-align: top;\n",
              "    }\n",
              "\n",
              "    .dataframe thead th {\n",
              "        text-align: right;\n",
              "    }\n",
              "</style>\n",
              "<table border=\"1\" class=\"dataframe\">\n",
              "  <thead>\n",
              "    <tr style=\"text-align: right;\">\n",
              "      <th></th>\n",
              "      <th>LoanID</th>\n",
              "      <th>Product</th>\n",
              "      <th>CustomerGender</th>\n",
              "      <th>Location</th>\n",
              "      <th>Region</th>\n",
              "      <th>TotalPrice</th>\n",
              "      <th>StartDate</th>\n",
              "      <th>Deposit</th>\n",
              "      <th>DailyRate</th>\n",
              "      <th>TotalDaysYr</th>\n",
              "      <th>AmtPaid36</th>\n",
              "      <th>AmtPaid60</th>\n",
              "      <th>AmtPaid360</th>\n",
              "      <th>LoanStatus</th>\n",
              "    </tr>\n",
              "    <tr>\n",
              "      <th>StringID</th>\n",
              "      <th></th>\n",
              "      <th></th>\n",
              "      <th></th>\n",
              "      <th></th>\n",
              "      <th></th>\n",
              "      <th></th>\n",
              "      <th></th>\n",
              "      <th></th>\n",
              "      <th></th>\n",
              "      <th></th>\n",
              "      <th></th>\n",
              "      <th></th>\n",
              "      <th></th>\n",
              "      <th></th>\n",
              "    </tr>\n",
              "  </thead>\n",
              "  <tbody>\n",
              "    <tr>\n",
              "      <th>LoanID_1</th>\n",
              "      <td>1</td>\n",
              "      <td>Product B</td>\n",
              "      <td>Female</td>\n",
              "      <td>Location 3</td>\n",
              "      <td>Region 2</td>\n",
              "      <td>17600.0</td>\n",
              "      <td>04/07/2018</td>\n",
              "      <td>2200</td>\n",
              "      <td>45</td>\n",
              "      <td>365</td>\n",
              "      <td>3221</td>\n",
              "      <td>4166</td>\n",
              "      <td>14621</td>\n",
              "      <td>Active</td>\n",
              "    </tr>\n",
              "    <tr>\n",
              "      <th>LoanID_2</th>\n",
              "      <td>2</td>\n",
              "      <td>Product D</td>\n",
              "      <td>Female</td>\n",
              "      <td>Location 6</td>\n",
              "      <td>Region 6</td>\n",
              "      <td>NaN</td>\n",
              "      <td>02/01/2019</td>\n",
              "      <td>2200</td>\n",
              "      <td>45</td>\n",
              "      <td>365</td>\n",
              "      <td>3161</td>\n",
              "      <td>4096</td>\n",
              "      <td>16041</td>\n",
              "      <td>Active</td>\n",
              "    </tr>\n",
              "    <tr>\n",
              "      <th>LoanID_3</th>\n",
              "      <td>3</td>\n",
              "      <td>Product B</td>\n",
              "      <td>Male</td>\n",
              "      <td>Location 8</td>\n",
              "      <td>Region 3</td>\n",
              "      <td>16600.0</td>\n",
              "      <td>08/12/2016</td>\n",
              "      <td>1000</td>\n",
              "      <td>45</td>\n",
              "      <td>365</td>\n",
              "      <td>2260</td>\n",
              "      <td>3205</td>\n",
              "      <td>16340</td>\n",
              "      <td>NaN</td>\n",
              "    </tr>\n",
              "    <tr>\n",
              "      <th>LoanID_4</th>\n",
              "      <td>4</td>\n",
              "      <td>Product A</td>\n",
              "      <td>Male</td>\n",
              "      <td>Location 26</td>\n",
              "      <td>Region 2</td>\n",
              "      <td>17600.0</td>\n",
              "      <td>NaN</td>\n",
              "      <td>2200</td>\n",
              "      <td>45</td>\n",
              "      <td>365</td>\n",
              "      <td>3141</td>\n",
              "      <td>4166</td>\n",
              "      <td>16321</td>\n",
              "      <td>Active</td>\n",
              "    </tr>\n",
              "    <tr>\n",
              "      <th>LoanID_5</th>\n",
              "      <td>5</td>\n",
              "      <td>Product B</td>\n",
              "      <td>Female</td>\n",
              "      <td>Location 34</td>\n",
              "      <td>Region 3</td>\n",
              "      <td>21250.0</td>\n",
              "      <td>28/10/2017</td>\n",
              "      <td>2200</td>\n",
              "      <td>55</td>\n",
              "      <td>365</td>\n",
              "      <td>3570</td>\n",
              "      <td>4745</td>\n",
              "      <td>14720</td>\n",
              "      <td>Active</td>\n",
              "    </tr>\n",
              "  </tbody>\n",
              "</table>\n",
              "</div>\n",
              "      <button class=\"colab-df-convert\" onclick=\"convertToInteractive('df-ac89a432-2199-441c-bbb2-9c91f65d3a15')\"\n",
              "              title=\"Convert this dataframe to an interactive table.\"\n",
              "              style=\"display:none;\">\n",
              "        \n",
              "  <svg xmlns=\"http://www.w3.org/2000/svg\" height=\"24px\"viewBox=\"0 0 24 24\"\n",
              "       width=\"24px\">\n",
              "    <path d=\"M0 0h24v24H0V0z\" fill=\"none\"/>\n",
              "    <path d=\"M18.56 5.44l.94 2.06.94-2.06 2.06-.94-2.06-.94-.94-2.06-.94 2.06-2.06.94zm-11 1L8.5 8.5l.94-2.06 2.06-.94-2.06-.94L8.5 2.5l-.94 2.06-2.06.94zm10 10l.94 2.06.94-2.06 2.06-.94-2.06-.94-.94-2.06-.94 2.06-2.06.94z\"/><path d=\"M17.41 7.96l-1.37-1.37c-.4-.4-.92-.59-1.43-.59-.52 0-1.04.2-1.43.59L10.3 9.45l-7.72 7.72c-.78.78-.78 2.05 0 2.83L4 21.41c.39.39.9.59 1.41.59.51 0 1.02-.2 1.41-.59l7.78-7.78 2.81-2.81c.8-.78.8-2.07 0-2.86zM5.41 20L4 18.59l7.72-7.72 1.47 1.35L5.41 20z\"/>\n",
              "  </svg>\n",
              "      </button>\n",
              "      \n",
              "  <style>\n",
              "    .colab-df-container {\n",
              "      display:flex;\n",
              "      flex-wrap:wrap;\n",
              "      gap: 12px;\n",
              "    }\n",
              "\n",
              "    .colab-df-convert {\n",
              "      background-color: #E8F0FE;\n",
              "      border: none;\n",
              "      border-radius: 50%;\n",
              "      cursor: pointer;\n",
              "      display: none;\n",
              "      fill: #1967D2;\n",
              "      height: 32px;\n",
              "      padding: 0 0 0 0;\n",
              "      width: 32px;\n",
              "    }\n",
              "\n",
              "    .colab-df-convert:hover {\n",
              "      background-color: #E2EBFA;\n",
              "      box-shadow: 0px 1px 2px rgba(60, 64, 67, 0.3), 0px 1px 3px 1px rgba(60, 64, 67, 0.15);\n",
              "      fill: #174EA6;\n",
              "    }\n",
              "\n",
              "    [theme=dark] .colab-df-convert {\n",
              "      background-color: #3B4455;\n",
              "      fill: #D2E3FC;\n",
              "    }\n",
              "\n",
              "    [theme=dark] .colab-df-convert:hover {\n",
              "      background-color: #434B5C;\n",
              "      box-shadow: 0px 1px 3px 1px rgba(0, 0, 0, 0.15);\n",
              "      filter: drop-shadow(0px 1px 2px rgba(0, 0, 0, 0.3));\n",
              "      fill: #FFFFFF;\n",
              "    }\n",
              "  </style>\n",
              "\n",
              "      <script>\n",
              "        const buttonEl =\n",
              "          document.querySelector('#df-ac89a432-2199-441c-bbb2-9c91f65d3a15 button.colab-df-convert');\n",
              "        buttonEl.style.display =\n",
              "          google.colab.kernel.accessAllowed ? 'block' : 'none';\n",
              "\n",
              "        async function convertToInteractive(key) {\n",
              "          const element = document.querySelector('#df-ac89a432-2199-441c-bbb2-9c91f65d3a15');\n",
              "          const dataTable =\n",
              "            await google.colab.kernel.invokeFunction('convertToInteractive',\n",
              "                                                     [key], {});\n",
              "          if (!dataTable) return;\n",
              "\n",
              "          const docLinkHtml = 'Like what you see? Visit the ' +\n",
              "            '<a target=\"_blank\" href=https://colab.research.google.com/notebooks/data_table.ipynb>data table notebook</a>'\n",
              "            + ' to learn more about interactive tables.';\n",
              "          element.innerHTML = '';\n",
              "          dataTable['output_type'] = 'display_data';\n",
              "          await google.colab.output.renderOutput(dataTable, element);\n",
              "          const docLink = document.createElement('div');\n",
              "          docLink.innerHTML = docLinkHtml;\n",
              "          element.appendChild(docLink);\n",
              "        }\n",
              "      </script>\n",
              "    </div>\n",
              "  </div>\n",
              "  "
            ]
          },
          "metadata": {},
          "execution_count": 26
        }
      ]
    },
    {
      "cell_type": "code",
      "source": [
        "## ERROR\n",
        "\n",
        "# lending_co_data[1]\n",
        "# lending_co_data[0,1]"
      ],
      "metadata": {
        "id": "NCEsrIPJytiy"
      },
      "execution_count": 29,
      "outputs": []
    },
    {
      "cell_type": "code",
      "source": [
        "lending_co_data['Product']"
      ],
      "metadata": {
        "colab": {
          "base_uri": "https://localhost:8080/"
        },
        "id": "TjVBSOeayvhF",
        "outputId": "3949822c-0304-45fc-e700-20e0e4c7f247"
      },
      "execution_count": 30,
      "outputs": [
        {
          "output_type": "execute_result",
          "data": {
            "text/plain": [
              "StringID\n",
              "LoanID_1       Product B\n",
              "LoanID_2       Product D\n",
              "LoanID_3       Product B\n",
              "LoanID_4       Product A\n",
              "LoanID_5       Product B\n",
              "                 ...    \n",
              "LoanID_1039    Product B\n",
              "LoanID_1040    Product A\n",
              "LoanID_1041    Product A\n",
              "LoanID_1042    Product B\n",
              "LoanID_1043    Product A\n",
              "Name: Product, Length: 1043, dtype: object"
            ]
          },
          "metadata": {},
          "execution_count": 30
        }
      ]
    },
    {
      "cell_type": "code",
      "source": [
        "lending_co_data.iloc[1]"
      ],
      "metadata": {
        "colab": {
          "base_uri": "https://localhost:8080/"
        },
        "id": "1MLDjS7Sywb0",
        "outputId": "5752819b-3557-465e-bf51-fcec44526485"
      },
      "execution_count": 31,
      "outputs": [
        {
          "output_type": "execute_result",
          "data": {
            "text/plain": [
              "LoanID                     2\n",
              "Product            Product D\n",
              "CustomerGender        Female\n",
              "Location          Location 6\n",
              "Region              Region 6\n",
              "TotalPrice               NaN\n",
              "StartDate         02/01/2019\n",
              "Deposit                 2200\n",
              "DailyRate                 45\n",
              "TotalDaysYr              365\n",
              "AmtPaid36               3161\n",
              "AmtPaid60               4096\n",
              "AmtPaid360             16041\n",
              "LoanStatus            Active\n",
              "Name: LoanID_2, dtype: object"
            ]
          },
          "metadata": {},
          "execution_count": 31
        }
      ]
    },
    {
      "cell_type": "code",
      "source": [
        "lending_co_data.iloc[1, 3]"
      ],
      "metadata": {
        "colab": {
          "base_uri": "https://localhost:8080/",
          "height": 35
        },
        "id": "trhxVxvsy3A_",
        "outputId": "0f882086-257d-48a9-a042-f3fd7cf821e0"
      },
      "execution_count": 32,
      "outputs": [
        {
          "output_type": "execute_result",
          "data": {
            "text/plain": [
              "'Location 6'"
            ],
            "application/vnd.google.colaboratory.intrinsic+json": {
              "type": "string"
            }
          },
          "metadata": {},
          "execution_count": 32
        }
      ]
    },
    {
      "cell_type": "code",
      "source": [
        "lending_co_data.iloc[1,:]"
      ],
      "metadata": {
        "colab": {
          "base_uri": "https://localhost:8080/"
        },
        "id": "125w7Ru2y4F3",
        "outputId": "0cb8eb09-39dd-47ed-b77e-f5d15187f47e"
      },
      "execution_count": 33,
      "outputs": [
        {
          "output_type": "execute_result",
          "data": {
            "text/plain": [
              "LoanID                     2\n",
              "Product            Product D\n",
              "CustomerGender        Female\n",
              "Location          Location 6\n",
              "Region              Region 6\n",
              "TotalPrice               NaN\n",
              "StartDate         02/01/2019\n",
              "Deposit                 2200\n",
              "DailyRate                 45\n",
              "TotalDaysYr              365\n",
              "AmtPaid36               3161\n",
              "AmtPaid60               4096\n",
              "AmtPaid360             16041\n",
              "LoanStatus            Active\n",
              "Name: LoanID_2, dtype: object"
            ]
          },
          "metadata": {},
          "execution_count": 33
        }
      ]
    },
    {
      "cell_type": "code",
      "source": [
        "lending_co_data.iloc[:, 3]"
      ],
      "metadata": {
        "colab": {
          "base_uri": "https://localhost:8080/"
        },
        "id": "87t4QZmwy5UE",
        "outputId": "a4145368-f623-4ae9-a5a7-6af37043864f"
      },
      "execution_count": 34,
      "outputs": [
        {
          "output_type": "execute_result",
          "data": {
            "text/plain": [
              "StringID\n",
              "LoanID_1        Location 3\n",
              "LoanID_2        Location 6\n",
              "LoanID_3        Location 8\n",
              "LoanID_4       Location 26\n",
              "LoanID_5       Location 34\n",
              "                  ...     \n",
              "LoanID_1039    Location 73\n",
              "LoanID_1040    Location 82\n",
              "LoanID_1041    Location 11\n",
              "LoanID_1042    Location 26\n",
              "LoanID_1043    Location 94\n",
              "Name: Location, Length: 1043, dtype: object"
            ]
          },
          "metadata": {},
          "execution_count": 34
        }
      ]
    },
    {
      "cell_type": "code",
      "source": [
        "type(lending_co_data.iloc[1, 3])"
      ],
      "metadata": {
        "colab": {
          "base_uri": "https://localhost:8080/"
        },
        "id": "HlKWazBYy6dj",
        "outputId": "ea05f427-0bdb-42eb-dbdd-e91b7967e8c9"
      },
      "execution_count": 35,
      "outputs": [
        {
          "output_type": "execute_result",
          "data": {
            "text/plain": [
              "str"
            ]
          },
          "metadata": {},
          "execution_count": 35
        }
      ]
    },
    {
      "cell_type": "code",
      "source": [
        "type(lending_co_data.iloc[1, :])"
      ],
      "metadata": {
        "colab": {
          "base_uri": "https://localhost:8080/"
        },
        "id": "SZD_PSqRy7cq",
        "outputId": "b1c9644f-4e6a-4ad1-dab4-586b87062ee5"
      },
      "execution_count": 36,
      "outputs": [
        {
          "output_type": "execute_result",
          "data": {
            "text/plain": [
              "pandas.core.series.Series"
            ]
          },
          "metadata": {},
          "execution_count": 36
        }
      ]
    },
    {
      "cell_type": "code",
      "source": [
        "type(lending_co_data.iloc[:, 3])"
      ],
      "metadata": {
        "colab": {
          "base_uri": "https://localhost:8080/"
        },
        "id": "9NCeV4pMy8am",
        "outputId": "b76bdb00-4ba4-4adb-b92c-05e549c15a1c"
      },
      "execution_count": 37,
      "outputs": [
        {
          "output_type": "execute_result",
          "data": {
            "text/plain": [
              "pandas.core.series.Series"
            ]
          },
          "metadata": {},
          "execution_count": 37
        }
      ]
    },
    {
      "cell_type": "code",
      "source": [
        "lending_co_data.iloc[[1, 3], :]"
      ],
      "metadata": {
        "colab": {
          "base_uri": "https://localhost:8080/",
          "height": 143
        },
        "id": "EZGkmAdZy9Gr",
        "outputId": "3ca9c566-a640-4bd1-e087-abab5f5bc1b5"
      },
      "execution_count": 38,
      "outputs": [
        {
          "output_type": "execute_result",
          "data": {
            "text/plain": [
              "          LoanID    Product CustomerGender     Location    Region  TotalPrice  \\\n",
              "StringID                                                                        \n",
              "LoanID_2       2  Product D         Female   Location 6  Region 6         NaN   \n",
              "LoanID_4       4  Product A           Male  Location 26  Region 2     17600.0   \n",
              "\n",
              "           StartDate  Deposit  DailyRate  TotalDaysYr  AmtPaid36  AmtPaid60  \\\n",
              "StringID                                                                      \n",
              "LoanID_2  02/01/2019     2200         45          365       3161       4096   \n",
              "LoanID_4         NaN     2200         45          365       3141       4166   \n",
              "\n",
              "          AmtPaid360 LoanStatus  \n",
              "StringID                         \n",
              "LoanID_2       16041     Active  \n",
              "LoanID_4       16321     Active  "
            ],
            "text/html": [
              "\n",
              "  <div id=\"df-b2355c36-106e-40e6-aba3-8172410d3111\">\n",
              "    <div class=\"colab-df-container\">\n",
              "      <div>\n",
              "<style scoped>\n",
              "    .dataframe tbody tr th:only-of-type {\n",
              "        vertical-align: middle;\n",
              "    }\n",
              "\n",
              "    .dataframe tbody tr th {\n",
              "        vertical-align: top;\n",
              "    }\n",
              "\n",
              "    .dataframe thead th {\n",
              "        text-align: right;\n",
              "    }\n",
              "</style>\n",
              "<table border=\"1\" class=\"dataframe\">\n",
              "  <thead>\n",
              "    <tr style=\"text-align: right;\">\n",
              "      <th></th>\n",
              "      <th>LoanID</th>\n",
              "      <th>Product</th>\n",
              "      <th>CustomerGender</th>\n",
              "      <th>Location</th>\n",
              "      <th>Region</th>\n",
              "      <th>TotalPrice</th>\n",
              "      <th>StartDate</th>\n",
              "      <th>Deposit</th>\n",
              "      <th>DailyRate</th>\n",
              "      <th>TotalDaysYr</th>\n",
              "      <th>AmtPaid36</th>\n",
              "      <th>AmtPaid60</th>\n",
              "      <th>AmtPaid360</th>\n",
              "      <th>LoanStatus</th>\n",
              "    </tr>\n",
              "    <tr>\n",
              "      <th>StringID</th>\n",
              "      <th></th>\n",
              "      <th></th>\n",
              "      <th></th>\n",
              "      <th></th>\n",
              "      <th></th>\n",
              "      <th></th>\n",
              "      <th></th>\n",
              "      <th></th>\n",
              "      <th></th>\n",
              "      <th></th>\n",
              "      <th></th>\n",
              "      <th></th>\n",
              "      <th></th>\n",
              "      <th></th>\n",
              "    </tr>\n",
              "  </thead>\n",
              "  <tbody>\n",
              "    <tr>\n",
              "      <th>LoanID_2</th>\n",
              "      <td>2</td>\n",
              "      <td>Product D</td>\n",
              "      <td>Female</td>\n",
              "      <td>Location 6</td>\n",
              "      <td>Region 6</td>\n",
              "      <td>NaN</td>\n",
              "      <td>02/01/2019</td>\n",
              "      <td>2200</td>\n",
              "      <td>45</td>\n",
              "      <td>365</td>\n",
              "      <td>3161</td>\n",
              "      <td>4096</td>\n",
              "      <td>16041</td>\n",
              "      <td>Active</td>\n",
              "    </tr>\n",
              "    <tr>\n",
              "      <th>LoanID_4</th>\n",
              "      <td>4</td>\n",
              "      <td>Product A</td>\n",
              "      <td>Male</td>\n",
              "      <td>Location 26</td>\n",
              "      <td>Region 2</td>\n",
              "      <td>17600.0</td>\n",
              "      <td>NaN</td>\n",
              "      <td>2200</td>\n",
              "      <td>45</td>\n",
              "      <td>365</td>\n",
              "      <td>3141</td>\n",
              "      <td>4166</td>\n",
              "      <td>16321</td>\n",
              "      <td>Active</td>\n",
              "    </tr>\n",
              "  </tbody>\n",
              "</table>\n",
              "</div>\n",
              "      <button class=\"colab-df-convert\" onclick=\"convertToInteractive('df-b2355c36-106e-40e6-aba3-8172410d3111')\"\n",
              "              title=\"Convert this dataframe to an interactive table.\"\n",
              "              style=\"display:none;\">\n",
              "        \n",
              "  <svg xmlns=\"http://www.w3.org/2000/svg\" height=\"24px\"viewBox=\"0 0 24 24\"\n",
              "       width=\"24px\">\n",
              "    <path d=\"M0 0h24v24H0V0z\" fill=\"none\"/>\n",
              "    <path d=\"M18.56 5.44l.94 2.06.94-2.06 2.06-.94-2.06-.94-.94-2.06-.94 2.06-2.06.94zm-11 1L8.5 8.5l.94-2.06 2.06-.94-2.06-.94L8.5 2.5l-.94 2.06-2.06.94zm10 10l.94 2.06.94-2.06 2.06-.94-2.06-.94-.94-2.06-.94 2.06-2.06.94z\"/><path d=\"M17.41 7.96l-1.37-1.37c-.4-.4-.92-.59-1.43-.59-.52 0-1.04.2-1.43.59L10.3 9.45l-7.72 7.72c-.78.78-.78 2.05 0 2.83L4 21.41c.39.39.9.59 1.41.59.51 0 1.02-.2 1.41-.59l7.78-7.78 2.81-2.81c.8-.78.8-2.07 0-2.86zM5.41 20L4 18.59l7.72-7.72 1.47 1.35L5.41 20z\"/>\n",
              "  </svg>\n",
              "      </button>\n",
              "      \n",
              "  <style>\n",
              "    .colab-df-container {\n",
              "      display:flex;\n",
              "      flex-wrap:wrap;\n",
              "      gap: 12px;\n",
              "    }\n",
              "\n",
              "    .colab-df-convert {\n",
              "      background-color: #E8F0FE;\n",
              "      border: none;\n",
              "      border-radius: 50%;\n",
              "      cursor: pointer;\n",
              "      display: none;\n",
              "      fill: #1967D2;\n",
              "      height: 32px;\n",
              "      padding: 0 0 0 0;\n",
              "      width: 32px;\n",
              "    }\n",
              "\n",
              "    .colab-df-convert:hover {\n",
              "      background-color: #E2EBFA;\n",
              "      box-shadow: 0px 1px 2px rgba(60, 64, 67, 0.3), 0px 1px 3px 1px rgba(60, 64, 67, 0.15);\n",
              "      fill: #174EA6;\n",
              "    }\n",
              "\n",
              "    [theme=dark] .colab-df-convert {\n",
              "      background-color: #3B4455;\n",
              "      fill: #D2E3FC;\n",
              "    }\n",
              "\n",
              "    [theme=dark] .colab-df-convert:hover {\n",
              "      background-color: #434B5C;\n",
              "      box-shadow: 0px 1px 3px 1px rgba(0, 0, 0, 0.15);\n",
              "      filter: drop-shadow(0px 1px 2px rgba(0, 0, 0, 0.3));\n",
              "      fill: #FFFFFF;\n",
              "    }\n",
              "  </style>\n",
              "\n",
              "      <script>\n",
              "        const buttonEl =\n",
              "          document.querySelector('#df-b2355c36-106e-40e6-aba3-8172410d3111 button.colab-df-convert');\n",
              "        buttonEl.style.display =\n",
              "          google.colab.kernel.accessAllowed ? 'block' : 'none';\n",
              "\n",
              "        async function convertToInteractive(key) {\n",
              "          const element = document.querySelector('#df-b2355c36-106e-40e6-aba3-8172410d3111');\n",
              "          const dataTable =\n",
              "            await google.colab.kernel.invokeFunction('convertToInteractive',\n",
              "                                                     [key], {});\n",
              "          if (!dataTable) return;\n",
              "\n",
              "          const docLinkHtml = 'Like what you see? Visit the ' +\n",
              "            '<a target=\"_blank\" href=https://colab.research.google.com/notebooks/data_table.ipynb>data table notebook</a>'\n",
              "            + ' to learn more about interactive tables.';\n",
              "          element.innerHTML = '';\n",
              "          dataTable['output_type'] = 'display_data';\n",
              "          await google.colab.output.renderOutput(dataTable, element);\n",
              "          const docLink = document.createElement('div');\n",
              "          docLink.innerHTML = docLinkHtml;\n",
              "          element.appendChild(docLink);\n",
              "        }\n",
              "      </script>\n",
              "    </div>\n",
              "  </div>\n",
              "  "
            ]
          },
          "metadata": {},
          "execution_count": 38
        }
      ]
    },
    {
      "cell_type": "code",
      "source": [
        "lending_co_data.iloc[:, [3, 1]]"
      ],
      "metadata": {
        "colab": {
          "base_uri": "https://localhost:8080/",
          "height": 455
        },
        "id": "E0xS9w0Iy92p",
        "outputId": "9d9f614a-15e5-4ca5-8082-c2b7570c5b40"
      },
      "execution_count": 39,
      "outputs": [
        {
          "output_type": "execute_result",
          "data": {
            "text/plain": [
              "                Location    Product\n",
              "StringID                           \n",
              "LoanID_1      Location 3  Product B\n",
              "LoanID_2      Location 6  Product D\n",
              "LoanID_3      Location 8  Product B\n",
              "LoanID_4     Location 26  Product A\n",
              "LoanID_5     Location 34  Product B\n",
              "...                  ...        ...\n",
              "LoanID_1039  Location 73  Product B\n",
              "LoanID_1040  Location 82  Product A\n",
              "LoanID_1041  Location 11  Product A\n",
              "LoanID_1042  Location 26  Product B\n",
              "LoanID_1043  Location 94  Product A\n",
              "\n",
              "[1043 rows x 2 columns]"
            ],
            "text/html": [
              "\n",
              "  <div id=\"df-e07f3137-2a9e-42ef-b25f-4ca5178fa7d5\">\n",
              "    <div class=\"colab-df-container\">\n",
              "      <div>\n",
              "<style scoped>\n",
              "    .dataframe tbody tr th:only-of-type {\n",
              "        vertical-align: middle;\n",
              "    }\n",
              "\n",
              "    .dataframe tbody tr th {\n",
              "        vertical-align: top;\n",
              "    }\n",
              "\n",
              "    .dataframe thead th {\n",
              "        text-align: right;\n",
              "    }\n",
              "</style>\n",
              "<table border=\"1\" class=\"dataframe\">\n",
              "  <thead>\n",
              "    <tr style=\"text-align: right;\">\n",
              "      <th></th>\n",
              "      <th>Location</th>\n",
              "      <th>Product</th>\n",
              "    </tr>\n",
              "    <tr>\n",
              "      <th>StringID</th>\n",
              "      <th></th>\n",
              "      <th></th>\n",
              "    </tr>\n",
              "  </thead>\n",
              "  <tbody>\n",
              "    <tr>\n",
              "      <th>LoanID_1</th>\n",
              "      <td>Location 3</td>\n",
              "      <td>Product B</td>\n",
              "    </tr>\n",
              "    <tr>\n",
              "      <th>LoanID_2</th>\n",
              "      <td>Location 6</td>\n",
              "      <td>Product D</td>\n",
              "    </tr>\n",
              "    <tr>\n",
              "      <th>LoanID_3</th>\n",
              "      <td>Location 8</td>\n",
              "      <td>Product B</td>\n",
              "    </tr>\n",
              "    <tr>\n",
              "      <th>LoanID_4</th>\n",
              "      <td>Location 26</td>\n",
              "      <td>Product A</td>\n",
              "    </tr>\n",
              "    <tr>\n",
              "      <th>LoanID_5</th>\n",
              "      <td>Location 34</td>\n",
              "      <td>Product B</td>\n",
              "    </tr>\n",
              "    <tr>\n",
              "      <th>...</th>\n",
              "      <td>...</td>\n",
              "      <td>...</td>\n",
              "    </tr>\n",
              "    <tr>\n",
              "      <th>LoanID_1039</th>\n",
              "      <td>Location 73</td>\n",
              "      <td>Product B</td>\n",
              "    </tr>\n",
              "    <tr>\n",
              "      <th>LoanID_1040</th>\n",
              "      <td>Location 82</td>\n",
              "      <td>Product A</td>\n",
              "    </tr>\n",
              "    <tr>\n",
              "      <th>LoanID_1041</th>\n",
              "      <td>Location 11</td>\n",
              "      <td>Product A</td>\n",
              "    </tr>\n",
              "    <tr>\n",
              "      <th>LoanID_1042</th>\n",
              "      <td>Location 26</td>\n",
              "      <td>Product B</td>\n",
              "    </tr>\n",
              "    <tr>\n",
              "      <th>LoanID_1043</th>\n",
              "      <td>Location 94</td>\n",
              "      <td>Product A</td>\n",
              "    </tr>\n",
              "  </tbody>\n",
              "</table>\n",
              "<p>1043 rows × 2 columns</p>\n",
              "</div>\n",
              "      <button class=\"colab-df-convert\" onclick=\"convertToInteractive('df-e07f3137-2a9e-42ef-b25f-4ca5178fa7d5')\"\n",
              "              title=\"Convert this dataframe to an interactive table.\"\n",
              "              style=\"display:none;\">\n",
              "        \n",
              "  <svg xmlns=\"http://www.w3.org/2000/svg\" height=\"24px\"viewBox=\"0 0 24 24\"\n",
              "       width=\"24px\">\n",
              "    <path d=\"M0 0h24v24H0V0z\" fill=\"none\"/>\n",
              "    <path d=\"M18.56 5.44l.94 2.06.94-2.06 2.06-.94-2.06-.94-.94-2.06-.94 2.06-2.06.94zm-11 1L8.5 8.5l.94-2.06 2.06-.94-2.06-.94L8.5 2.5l-.94 2.06-2.06.94zm10 10l.94 2.06.94-2.06 2.06-.94-2.06-.94-.94-2.06-.94 2.06-2.06.94z\"/><path d=\"M17.41 7.96l-1.37-1.37c-.4-.4-.92-.59-1.43-.59-.52 0-1.04.2-1.43.59L10.3 9.45l-7.72 7.72c-.78.78-.78 2.05 0 2.83L4 21.41c.39.39.9.59 1.41.59.51 0 1.02-.2 1.41-.59l7.78-7.78 2.81-2.81c.8-.78.8-2.07 0-2.86zM5.41 20L4 18.59l7.72-7.72 1.47 1.35L5.41 20z\"/>\n",
              "  </svg>\n",
              "      </button>\n",
              "      \n",
              "  <style>\n",
              "    .colab-df-container {\n",
              "      display:flex;\n",
              "      flex-wrap:wrap;\n",
              "      gap: 12px;\n",
              "    }\n",
              "\n",
              "    .colab-df-convert {\n",
              "      background-color: #E8F0FE;\n",
              "      border: none;\n",
              "      border-radius: 50%;\n",
              "      cursor: pointer;\n",
              "      display: none;\n",
              "      fill: #1967D2;\n",
              "      height: 32px;\n",
              "      padding: 0 0 0 0;\n",
              "      width: 32px;\n",
              "    }\n",
              "\n",
              "    .colab-df-convert:hover {\n",
              "      background-color: #E2EBFA;\n",
              "      box-shadow: 0px 1px 2px rgba(60, 64, 67, 0.3), 0px 1px 3px 1px rgba(60, 64, 67, 0.15);\n",
              "      fill: #174EA6;\n",
              "    }\n",
              "\n",
              "    [theme=dark] .colab-df-convert {\n",
              "      background-color: #3B4455;\n",
              "      fill: #D2E3FC;\n",
              "    }\n",
              "\n",
              "    [theme=dark] .colab-df-convert:hover {\n",
              "      background-color: #434B5C;\n",
              "      box-shadow: 0px 1px 3px 1px rgba(0, 0, 0, 0.15);\n",
              "      filter: drop-shadow(0px 1px 2px rgba(0, 0, 0, 0.3));\n",
              "      fill: #FFFFFF;\n",
              "    }\n",
              "  </style>\n",
              "\n",
              "      <script>\n",
              "        const buttonEl =\n",
              "          document.querySelector('#df-e07f3137-2a9e-42ef-b25f-4ca5178fa7d5 button.colab-df-convert');\n",
              "        buttonEl.style.display =\n",
              "          google.colab.kernel.accessAllowed ? 'block' : 'none';\n",
              "\n",
              "        async function convertToInteractive(key) {\n",
              "          const element = document.querySelector('#df-e07f3137-2a9e-42ef-b25f-4ca5178fa7d5');\n",
              "          const dataTable =\n",
              "            await google.colab.kernel.invokeFunction('convertToInteractive',\n",
              "                                                     [key], {});\n",
              "          if (!dataTable) return;\n",
              "\n",
              "          const docLinkHtml = 'Like what you see? Visit the ' +\n",
              "            '<a target=\"_blank\" href=https://colab.research.google.com/notebooks/data_table.ipynb>data table notebook</a>'\n",
              "            + ' to learn more about interactive tables.';\n",
              "          element.innerHTML = '';\n",
              "          dataTable['output_type'] = 'display_data';\n",
              "          await google.colab.output.renderOutput(dataTable, element);\n",
              "          const docLink = document.createElement('div');\n",
              "          docLink.innerHTML = docLinkHtml;\n",
              "          element.appendChild(docLink);\n",
              "        }\n",
              "      </script>\n",
              "    </div>\n",
              "  </div>\n",
              "  "
            ]
          },
          "metadata": {},
          "execution_count": 39
        }
      ]
    },
    {
      "cell_type": "markdown",
      "source": [
        "## Data Selection - Indexing Data with .loc[]"
      ],
      "metadata": {
        "id": "a275soYOzCvN"
      }
    },
    {
      "cell_type": "code",
      "source": [
        "data = pd.read_csv('Lending-company.csv', index_col = 'StringID')\n",
        "lending_co_data = data.copy()\n",
        "lending_co_data"
      ],
      "metadata": {
        "colab": {
          "base_uri": "https://localhost:8080/",
          "height": 455
        },
        "id": "w_hK-8NozAb0",
        "outputId": "2b3bbeb9-2fc4-4569-c173-81a96d4b52f9"
      },
      "execution_count": 40,
      "outputs": [
        {
          "output_type": "execute_result",
          "data": {
            "text/plain": [
              "             LoanID    Product CustomerGender     Location    Region  \\\n",
              "StringID                                                               \n",
              "LoanID_1          1  Product B         Female   Location 3  Region 2   \n",
              "LoanID_2          2  Product D         Female   Location 6  Region 6   \n",
              "LoanID_3          3  Product B           Male   Location 8  Region 3   \n",
              "LoanID_4          4  Product A           Male  Location 26  Region 2   \n",
              "LoanID_5          5  Product B         Female  Location 34  Region 3   \n",
              "...             ...        ...            ...          ...       ...   \n",
              "LoanID_1039    1039  Product B           Male  Location 73  Region 6   \n",
              "LoanID_1040    1040  Product A           Male  Location 82  Region 1   \n",
              "LoanID_1041    1041  Product A   NotSpecified  Location 11  Region 4   \n",
              "LoanID_1042    1042  Product B         Female  Location 26  Region 6   \n",
              "LoanID_1043    1043  Product A   NotSpecified  Location 94  Region 6   \n",
              "\n",
              "             TotalPrice   StartDate  Deposit  DailyRate  TotalDaysYr  \\\n",
              "StringID                                                               \n",
              "LoanID_1        17600.0  04/07/2018     2200         45          365   \n",
              "LoanID_2            NaN  02/01/2019     2200         45          365   \n",
              "LoanID_3        16600.0  08/12/2016     1000         45          365   \n",
              "LoanID_4        17600.0         NaN     2200         45          365   \n",
              "LoanID_5        21250.0  28/10/2017     2200         55          365   \n",
              "...                 ...         ...      ...        ...          ...   \n",
              "LoanID_1039     17300.0  29/12/2018     2200         45          365   \n",
              "LoanID_1040         NaN  28/03/2018     2200         45          365   \n",
              "LoanID_1041     17300.0  26/04/2018     2200         45          365   \n",
              "LoanID_1042     16300.0  25/10/2016     1000         45          365   \n",
              "LoanID_1043     17300.0  15/05/2019     2200         45          365   \n",
              "\n",
              "             AmtPaid36  AmtPaid60  AmtPaid360        LoanStatus  \n",
              "StringID                                                         \n",
              "LoanID_1          3221       4166       14621            Active  \n",
              "LoanID_2          3161       4096       16041            Active  \n",
              "LoanID_3          2260       3205       16340               NaN  \n",
              "LoanID_4          3141       4166       16321            Active  \n",
              "LoanID_5          3570       4745       14720            Active  \n",
              "...                ...        ...         ...               ...  \n",
              "LoanID_1039       3251       4743       16617  Finished Payment  \n",
              "LoanID_1040       4090       5582       16617  Finished Payment  \n",
              "LoanID_1041       4051       5143       16617  Finished Payment  \n",
              "LoanID_1042       1930       3462       15617  Finished Payment  \n",
              "LoanID_1043       4451       4743       16617  Finished Payment  \n",
              "\n",
              "[1043 rows x 14 columns]"
            ],
            "text/html": [
              "\n",
              "  <div id=\"df-f1e662cc-f176-4868-bae7-514cbfdf9c44\">\n",
              "    <div class=\"colab-df-container\">\n",
              "      <div>\n",
              "<style scoped>\n",
              "    .dataframe tbody tr th:only-of-type {\n",
              "        vertical-align: middle;\n",
              "    }\n",
              "\n",
              "    .dataframe tbody tr th {\n",
              "        vertical-align: top;\n",
              "    }\n",
              "\n",
              "    .dataframe thead th {\n",
              "        text-align: right;\n",
              "    }\n",
              "</style>\n",
              "<table border=\"1\" class=\"dataframe\">\n",
              "  <thead>\n",
              "    <tr style=\"text-align: right;\">\n",
              "      <th></th>\n",
              "      <th>LoanID</th>\n",
              "      <th>Product</th>\n",
              "      <th>CustomerGender</th>\n",
              "      <th>Location</th>\n",
              "      <th>Region</th>\n",
              "      <th>TotalPrice</th>\n",
              "      <th>StartDate</th>\n",
              "      <th>Deposit</th>\n",
              "      <th>DailyRate</th>\n",
              "      <th>TotalDaysYr</th>\n",
              "      <th>AmtPaid36</th>\n",
              "      <th>AmtPaid60</th>\n",
              "      <th>AmtPaid360</th>\n",
              "      <th>LoanStatus</th>\n",
              "    </tr>\n",
              "    <tr>\n",
              "      <th>StringID</th>\n",
              "      <th></th>\n",
              "      <th></th>\n",
              "      <th></th>\n",
              "      <th></th>\n",
              "      <th></th>\n",
              "      <th></th>\n",
              "      <th></th>\n",
              "      <th></th>\n",
              "      <th></th>\n",
              "      <th></th>\n",
              "      <th></th>\n",
              "      <th></th>\n",
              "      <th></th>\n",
              "      <th></th>\n",
              "    </tr>\n",
              "  </thead>\n",
              "  <tbody>\n",
              "    <tr>\n",
              "      <th>LoanID_1</th>\n",
              "      <td>1</td>\n",
              "      <td>Product B</td>\n",
              "      <td>Female</td>\n",
              "      <td>Location 3</td>\n",
              "      <td>Region 2</td>\n",
              "      <td>17600.0</td>\n",
              "      <td>04/07/2018</td>\n",
              "      <td>2200</td>\n",
              "      <td>45</td>\n",
              "      <td>365</td>\n",
              "      <td>3221</td>\n",
              "      <td>4166</td>\n",
              "      <td>14621</td>\n",
              "      <td>Active</td>\n",
              "    </tr>\n",
              "    <tr>\n",
              "      <th>LoanID_2</th>\n",
              "      <td>2</td>\n",
              "      <td>Product D</td>\n",
              "      <td>Female</td>\n",
              "      <td>Location 6</td>\n",
              "      <td>Region 6</td>\n",
              "      <td>NaN</td>\n",
              "      <td>02/01/2019</td>\n",
              "      <td>2200</td>\n",
              "      <td>45</td>\n",
              "      <td>365</td>\n",
              "      <td>3161</td>\n",
              "      <td>4096</td>\n",
              "      <td>16041</td>\n",
              "      <td>Active</td>\n",
              "    </tr>\n",
              "    <tr>\n",
              "      <th>LoanID_3</th>\n",
              "      <td>3</td>\n",
              "      <td>Product B</td>\n",
              "      <td>Male</td>\n",
              "      <td>Location 8</td>\n",
              "      <td>Region 3</td>\n",
              "      <td>16600.0</td>\n",
              "      <td>08/12/2016</td>\n",
              "      <td>1000</td>\n",
              "      <td>45</td>\n",
              "      <td>365</td>\n",
              "      <td>2260</td>\n",
              "      <td>3205</td>\n",
              "      <td>16340</td>\n",
              "      <td>NaN</td>\n",
              "    </tr>\n",
              "    <tr>\n",
              "      <th>LoanID_4</th>\n",
              "      <td>4</td>\n",
              "      <td>Product A</td>\n",
              "      <td>Male</td>\n",
              "      <td>Location 26</td>\n",
              "      <td>Region 2</td>\n",
              "      <td>17600.0</td>\n",
              "      <td>NaN</td>\n",
              "      <td>2200</td>\n",
              "      <td>45</td>\n",
              "      <td>365</td>\n",
              "      <td>3141</td>\n",
              "      <td>4166</td>\n",
              "      <td>16321</td>\n",
              "      <td>Active</td>\n",
              "    </tr>\n",
              "    <tr>\n",
              "      <th>LoanID_5</th>\n",
              "      <td>5</td>\n",
              "      <td>Product B</td>\n",
              "      <td>Female</td>\n",
              "      <td>Location 34</td>\n",
              "      <td>Region 3</td>\n",
              "      <td>21250.0</td>\n",
              "      <td>28/10/2017</td>\n",
              "      <td>2200</td>\n",
              "      <td>55</td>\n",
              "      <td>365</td>\n",
              "      <td>3570</td>\n",
              "      <td>4745</td>\n",
              "      <td>14720</td>\n",
              "      <td>Active</td>\n",
              "    </tr>\n",
              "    <tr>\n",
              "      <th>...</th>\n",
              "      <td>...</td>\n",
              "      <td>...</td>\n",
              "      <td>...</td>\n",
              "      <td>...</td>\n",
              "      <td>...</td>\n",
              "      <td>...</td>\n",
              "      <td>...</td>\n",
              "      <td>...</td>\n",
              "      <td>...</td>\n",
              "      <td>...</td>\n",
              "      <td>...</td>\n",
              "      <td>...</td>\n",
              "      <td>...</td>\n",
              "      <td>...</td>\n",
              "    </tr>\n",
              "    <tr>\n",
              "      <th>LoanID_1039</th>\n",
              "      <td>1039</td>\n",
              "      <td>Product B</td>\n",
              "      <td>Male</td>\n",
              "      <td>Location 73</td>\n",
              "      <td>Region 6</td>\n",
              "      <td>17300.0</td>\n",
              "      <td>29/12/2018</td>\n",
              "      <td>2200</td>\n",
              "      <td>45</td>\n",
              "      <td>365</td>\n",
              "      <td>3251</td>\n",
              "      <td>4743</td>\n",
              "      <td>16617</td>\n",
              "      <td>Finished Payment</td>\n",
              "    </tr>\n",
              "    <tr>\n",
              "      <th>LoanID_1040</th>\n",
              "      <td>1040</td>\n",
              "      <td>Product A</td>\n",
              "      <td>Male</td>\n",
              "      <td>Location 82</td>\n",
              "      <td>Region 1</td>\n",
              "      <td>NaN</td>\n",
              "      <td>28/03/2018</td>\n",
              "      <td>2200</td>\n",
              "      <td>45</td>\n",
              "      <td>365</td>\n",
              "      <td>4090</td>\n",
              "      <td>5582</td>\n",
              "      <td>16617</td>\n",
              "      <td>Finished Payment</td>\n",
              "    </tr>\n",
              "    <tr>\n",
              "      <th>LoanID_1041</th>\n",
              "      <td>1041</td>\n",
              "      <td>Product A</td>\n",
              "      <td>NotSpecified</td>\n",
              "      <td>Location 11</td>\n",
              "      <td>Region 4</td>\n",
              "      <td>17300.0</td>\n",
              "      <td>26/04/2018</td>\n",
              "      <td>2200</td>\n",
              "      <td>45</td>\n",
              "      <td>365</td>\n",
              "      <td>4051</td>\n",
              "      <td>5143</td>\n",
              "      <td>16617</td>\n",
              "      <td>Finished Payment</td>\n",
              "    </tr>\n",
              "    <tr>\n",
              "      <th>LoanID_1042</th>\n",
              "      <td>1042</td>\n",
              "      <td>Product B</td>\n",
              "      <td>Female</td>\n",
              "      <td>Location 26</td>\n",
              "      <td>Region 6</td>\n",
              "      <td>16300.0</td>\n",
              "      <td>25/10/2016</td>\n",
              "      <td>1000</td>\n",
              "      <td>45</td>\n",
              "      <td>365</td>\n",
              "      <td>1930</td>\n",
              "      <td>3462</td>\n",
              "      <td>15617</td>\n",
              "      <td>Finished Payment</td>\n",
              "    </tr>\n",
              "    <tr>\n",
              "      <th>LoanID_1043</th>\n",
              "      <td>1043</td>\n",
              "      <td>Product A</td>\n",
              "      <td>NotSpecified</td>\n",
              "      <td>Location 94</td>\n",
              "      <td>Region 6</td>\n",
              "      <td>17300.0</td>\n",
              "      <td>15/05/2019</td>\n",
              "      <td>2200</td>\n",
              "      <td>45</td>\n",
              "      <td>365</td>\n",
              "      <td>4451</td>\n",
              "      <td>4743</td>\n",
              "      <td>16617</td>\n",
              "      <td>Finished Payment</td>\n",
              "    </tr>\n",
              "  </tbody>\n",
              "</table>\n",
              "<p>1043 rows × 14 columns</p>\n",
              "</div>\n",
              "      <button class=\"colab-df-convert\" onclick=\"convertToInteractive('df-f1e662cc-f176-4868-bae7-514cbfdf9c44')\"\n",
              "              title=\"Convert this dataframe to an interactive table.\"\n",
              "              style=\"display:none;\">\n",
              "        \n",
              "  <svg xmlns=\"http://www.w3.org/2000/svg\" height=\"24px\"viewBox=\"0 0 24 24\"\n",
              "       width=\"24px\">\n",
              "    <path d=\"M0 0h24v24H0V0z\" fill=\"none\"/>\n",
              "    <path d=\"M18.56 5.44l.94 2.06.94-2.06 2.06-.94-2.06-.94-.94-2.06-.94 2.06-2.06.94zm-11 1L8.5 8.5l.94-2.06 2.06-.94-2.06-.94L8.5 2.5l-.94 2.06-2.06.94zm10 10l.94 2.06.94-2.06 2.06-.94-2.06-.94-.94-2.06-.94 2.06-2.06.94z\"/><path d=\"M17.41 7.96l-1.37-1.37c-.4-.4-.92-.59-1.43-.59-.52 0-1.04.2-1.43.59L10.3 9.45l-7.72 7.72c-.78.78-.78 2.05 0 2.83L4 21.41c.39.39.9.59 1.41.59.51 0 1.02-.2 1.41-.59l7.78-7.78 2.81-2.81c.8-.78.8-2.07 0-2.86zM5.41 20L4 18.59l7.72-7.72 1.47 1.35L5.41 20z\"/>\n",
              "  </svg>\n",
              "      </button>\n",
              "      \n",
              "  <style>\n",
              "    .colab-df-container {\n",
              "      display:flex;\n",
              "      flex-wrap:wrap;\n",
              "      gap: 12px;\n",
              "    }\n",
              "\n",
              "    .colab-df-convert {\n",
              "      background-color: #E8F0FE;\n",
              "      border: none;\n",
              "      border-radius: 50%;\n",
              "      cursor: pointer;\n",
              "      display: none;\n",
              "      fill: #1967D2;\n",
              "      height: 32px;\n",
              "      padding: 0 0 0 0;\n",
              "      width: 32px;\n",
              "    }\n",
              "\n",
              "    .colab-df-convert:hover {\n",
              "      background-color: #E2EBFA;\n",
              "      box-shadow: 0px 1px 2px rgba(60, 64, 67, 0.3), 0px 1px 3px 1px rgba(60, 64, 67, 0.15);\n",
              "      fill: #174EA6;\n",
              "    }\n",
              "\n",
              "    [theme=dark] .colab-df-convert {\n",
              "      background-color: #3B4455;\n",
              "      fill: #D2E3FC;\n",
              "    }\n",
              "\n",
              "    [theme=dark] .colab-df-convert:hover {\n",
              "      background-color: #434B5C;\n",
              "      box-shadow: 0px 1px 3px 1px rgba(0, 0, 0, 0.15);\n",
              "      filter: drop-shadow(0px 1px 2px rgba(0, 0, 0, 0.3));\n",
              "      fill: #FFFFFF;\n",
              "    }\n",
              "  </style>\n",
              "\n",
              "      <script>\n",
              "        const buttonEl =\n",
              "          document.querySelector('#df-f1e662cc-f176-4868-bae7-514cbfdf9c44 button.colab-df-convert');\n",
              "        buttonEl.style.display =\n",
              "          google.colab.kernel.accessAllowed ? 'block' : 'none';\n",
              "\n",
              "        async function convertToInteractive(key) {\n",
              "          const element = document.querySelector('#df-f1e662cc-f176-4868-bae7-514cbfdf9c44');\n",
              "          const dataTable =\n",
              "            await google.colab.kernel.invokeFunction('convertToInteractive',\n",
              "                                                     [key], {});\n",
              "          if (!dataTable) return;\n",
              "\n",
              "          const docLinkHtml = 'Like what you see? Visit the ' +\n",
              "            '<a target=\"_blank\" href=https://colab.research.google.com/notebooks/data_table.ipynb>data table notebook</a>'\n",
              "            + ' to learn more about interactive tables.';\n",
              "          element.innerHTML = '';\n",
              "          dataTable['output_type'] = 'display_data';\n",
              "          await google.colab.output.renderOutput(dataTable, element);\n",
              "          const docLink = document.createElement('div');\n",
              "          docLink.innerHTML = docLinkHtml;\n",
              "          element.appendChild(docLink);\n",
              "        }\n",
              "      </script>\n",
              "    </div>\n",
              "  </div>\n",
              "  "
            ]
          },
          "metadata": {},
          "execution_count": 40
        }
      ]
    },
    {
      "cell_type": "code",
      "source": [
        "lending_co_data.loc['LoanID_3']"
      ],
      "metadata": {
        "colab": {
          "base_uri": "https://localhost:8080/"
        },
        "id": "x5JqOkvozD-2",
        "outputId": "7627f3e4-5d09-44f6-da1f-3e43869caa18"
      },
      "execution_count": 41,
      "outputs": [
        {
          "output_type": "execute_result",
          "data": {
            "text/plain": [
              "LoanID                     3\n",
              "Product            Product B\n",
              "CustomerGender          Male\n",
              "Location          Location 8\n",
              "Region              Region 3\n",
              "TotalPrice           16600.0\n",
              "StartDate         08/12/2016\n",
              "Deposit                 1000\n",
              "DailyRate                 45\n",
              "TotalDaysYr              365\n",
              "AmtPaid36               2260\n",
              "AmtPaid60               3205\n",
              "AmtPaid360             16340\n",
              "LoanStatus               NaN\n",
              "Name: LoanID_3, dtype: object"
            ]
          },
          "metadata": {},
          "execution_count": 41
        }
      ]
    },
    {
      "cell_type": "code",
      "source": [
        "lending_co_data.loc['LoanID_3', :]"
      ],
      "metadata": {
        "colab": {
          "base_uri": "https://localhost:8080/"
        },
        "id": "EESY5O3szEry",
        "outputId": "be0acd87-e880-4a03-cdd5-5310a876b982"
      },
      "execution_count": 42,
      "outputs": [
        {
          "output_type": "execute_result",
          "data": {
            "text/plain": [
              "LoanID                     3\n",
              "Product            Product B\n",
              "CustomerGender          Male\n",
              "Location          Location 8\n",
              "Region              Region 3\n",
              "TotalPrice           16600.0\n",
              "StartDate         08/12/2016\n",
              "Deposit                 1000\n",
              "DailyRate                 45\n",
              "TotalDaysYr              365\n",
              "AmtPaid36               2260\n",
              "AmtPaid60               3205\n",
              "AmtPaid360             16340\n",
              "LoanStatus               NaN\n",
              "Name: LoanID_3, dtype: object"
            ]
          },
          "metadata": {},
          "execution_count": 42
        }
      ]
    },
    {
      "cell_type": "code",
      "source": [
        "lending_co_data.loc['LoanID_3', 'Region']"
      ],
      "metadata": {
        "colab": {
          "base_uri": "https://localhost:8080/",
          "height": 35
        },
        "id": "1QCtqSAlzF1v",
        "outputId": "c4727f0c-f9d7-4aa0-9206-a01df4ebe1f6"
      },
      "execution_count": 43,
      "outputs": [
        {
          "output_type": "execute_result",
          "data": {
            "text/plain": [
              "'Region 3'"
            ],
            "application/vnd.google.colaboratory.intrinsic+json": {
              "type": "string"
            }
          },
          "metadata": {},
          "execution_count": 43
        }
      ]
    },
    {
      "cell_type": "code",
      "source": [
        "lending_co_data['Location']"
      ],
      "metadata": {
        "colab": {
          "base_uri": "https://localhost:8080/"
        },
        "id": "fctT-SMozG-6",
        "outputId": "926eea4d-921e-4dfd-f6d9-e20be284c2d4"
      },
      "execution_count": 44,
      "outputs": [
        {
          "output_type": "execute_result",
          "data": {
            "text/plain": [
              "StringID\n",
              "LoanID_1        Location 3\n",
              "LoanID_2        Location 6\n",
              "LoanID_3        Location 8\n",
              "LoanID_4       Location 26\n",
              "LoanID_5       Location 34\n",
              "                  ...     \n",
              "LoanID_1039    Location 73\n",
              "LoanID_1040    Location 82\n",
              "LoanID_1041    Location 11\n",
              "LoanID_1042    Location 26\n",
              "LoanID_1043    Location 94\n",
              "Name: Location, Length: 1043, dtype: object"
            ]
          },
          "metadata": {},
          "execution_count": 44
        }
      ]
    },
    {
      "cell_type": "code",
      "source": [
        "## ERROR\n",
        "\n",
        "# lending_co_data.loc['Location']\n",
        "# lending_co_data.loc[:, 'Locations']"
      ],
      "metadata": {
        "id": "V55kTvCjzIFk"
      },
      "execution_count": 48,
      "outputs": []
    },
    {
      "cell_type": "code",
      "source": [
        "lending_co_data.loc[:, 'Location']"
      ],
      "metadata": {
        "colab": {
          "base_uri": "https://localhost:8080/"
        },
        "id": "_1Heh1RazLtM",
        "outputId": "d0e76a74-bad5-431e-af5a-4f4ed31709fe"
      },
      "execution_count": 49,
      "outputs": [
        {
          "output_type": "execute_result",
          "data": {
            "text/plain": [
              "StringID\n",
              "LoanID_1        Location 3\n",
              "LoanID_2        Location 6\n",
              "LoanID_3        Location 8\n",
              "LoanID_4       Location 26\n",
              "LoanID_5       Location 34\n",
              "                  ...     \n",
              "LoanID_1039    Location 73\n",
              "LoanID_1040    Location 82\n",
              "LoanID_1041    Location 11\n",
              "LoanID_1042    Location 26\n",
              "LoanID_1043    Location 94\n",
              "Name: Location, Length: 1043, dtype: object"
            ]
          },
          "metadata": {},
          "execution_count": 49
        }
      ]
    },
    {
      "cell_type": "markdown",
      "source": [
        "## More About .loc[] and .iloc[]"
      ],
      "metadata": {
        "id": "ISafnOG0z6t2"
      }
    },
    {
      "cell_type": "code",
      "source": [
        "data = pd.read_csv('Lending-company.csv', index_col = 'LoanID')\n",
        "lending_co_data = data.copy()\n",
        "lending_co_data"
      ],
      "metadata": {
        "colab": {
          "base_uri": "https://localhost:8080/",
          "height": 455
        },
        "id": "2gaHGUetzNmR",
        "outputId": "5bb51c97-a0cd-4830-b198-986f9d464f79"
      },
      "execution_count": 50,
      "outputs": [
        {
          "output_type": "execute_result",
          "data": {
            "text/plain": [
              "           StringID    Product CustomerGender     Location    Region  \\\n",
              "LoanID                                                                 \n",
              "1          LoanID_1  Product B         Female   Location 3  Region 2   \n",
              "2          LoanID_2  Product D         Female   Location 6  Region 6   \n",
              "3          LoanID_3  Product B           Male   Location 8  Region 3   \n",
              "4          LoanID_4  Product A           Male  Location 26  Region 2   \n",
              "5          LoanID_5  Product B         Female  Location 34  Region 3   \n",
              "...             ...        ...            ...          ...       ...   \n",
              "1039    LoanID_1039  Product B           Male  Location 73  Region 6   \n",
              "1040    LoanID_1040  Product A           Male  Location 82  Region 1   \n",
              "1041    LoanID_1041  Product A   NotSpecified  Location 11  Region 4   \n",
              "1042    LoanID_1042  Product B         Female  Location 26  Region 6   \n",
              "1043    LoanID_1043  Product A   NotSpecified  Location 94  Region 6   \n",
              "\n",
              "        TotalPrice   StartDate  Deposit  DailyRate  TotalDaysYr  AmtPaid36  \\\n",
              "LoanID                                                                       \n",
              "1          17600.0  04/07/2018     2200         45          365       3221   \n",
              "2              NaN  02/01/2019     2200         45          365       3161   \n",
              "3          16600.0  08/12/2016     1000         45          365       2260   \n",
              "4          17600.0         NaN     2200         45          365       3141   \n",
              "5          21250.0  28/10/2017     2200         55          365       3570   \n",
              "...            ...         ...      ...        ...          ...        ...   \n",
              "1039       17300.0  29/12/2018     2200         45          365       3251   \n",
              "1040           NaN  28/03/2018     2200         45          365       4090   \n",
              "1041       17300.0  26/04/2018     2200         45          365       4051   \n",
              "1042       16300.0  25/10/2016     1000         45          365       1930   \n",
              "1043       17300.0  15/05/2019     2200         45          365       4451   \n",
              "\n",
              "        AmtPaid60  AmtPaid360        LoanStatus  \n",
              "LoanID                                           \n",
              "1            4166       14621            Active  \n",
              "2            4096       16041            Active  \n",
              "3            3205       16340               NaN  \n",
              "4            4166       16321            Active  \n",
              "5            4745       14720            Active  \n",
              "...           ...         ...               ...  \n",
              "1039         4743       16617  Finished Payment  \n",
              "1040         5582       16617  Finished Payment  \n",
              "1041         5143       16617  Finished Payment  \n",
              "1042         3462       15617  Finished Payment  \n",
              "1043         4743       16617  Finished Payment  \n",
              "\n",
              "[1043 rows x 14 columns]"
            ],
            "text/html": [
              "\n",
              "  <div id=\"df-14269bf9-19d0-47bd-95f5-8ad50e671c64\">\n",
              "    <div class=\"colab-df-container\">\n",
              "      <div>\n",
              "<style scoped>\n",
              "    .dataframe tbody tr th:only-of-type {\n",
              "        vertical-align: middle;\n",
              "    }\n",
              "\n",
              "    .dataframe tbody tr th {\n",
              "        vertical-align: top;\n",
              "    }\n",
              "\n",
              "    .dataframe thead th {\n",
              "        text-align: right;\n",
              "    }\n",
              "</style>\n",
              "<table border=\"1\" class=\"dataframe\">\n",
              "  <thead>\n",
              "    <tr style=\"text-align: right;\">\n",
              "      <th></th>\n",
              "      <th>StringID</th>\n",
              "      <th>Product</th>\n",
              "      <th>CustomerGender</th>\n",
              "      <th>Location</th>\n",
              "      <th>Region</th>\n",
              "      <th>TotalPrice</th>\n",
              "      <th>StartDate</th>\n",
              "      <th>Deposit</th>\n",
              "      <th>DailyRate</th>\n",
              "      <th>TotalDaysYr</th>\n",
              "      <th>AmtPaid36</th>\n",
              "      <th>AmtPaid60</th>\n",
              "      <th>AmtPaid360</th>\n",
              "      <th>LoanStatus</th>\n",
              "    </tr>\n",
              "    <tr>\n",
              "      <th>LoanID</th>\n",
              "      <th></th>\n",
              "      <th></th>\n",
              "      <th></th>\n",
              "      <th></th>\n",
              "      <th></th>\n",
              "      <th></th>\n",
              "      <th></th>\n",
              "      <th></th>\n",
              "      <th></th>\n",
              "      <th></th>\n",
              "      <th></th>\n",
              "      <th></th>\n",
              "      <th></th>\n",
              "      <th></th>\n",
              "    </tr>\n",
              "  </thead>\n",
              "  <tbody>\n",
              "    <tr>\n",
              "      <th>1</th>\n",
              "      <td>LoanID_1</td>\n",
              "      <td>Product B</td>\n",
              "      <td>Female</td>\n",
              "      <td>Location 3</td>\n",
              "      <td>Region 2</td>\n",
              "      <td>17600.0</td>\n",
              "      <td>04/07/2018</td>\n",
              "      <td>2200</td>\n",
              "      <td>45</td>\n",
              "      <td>365</td>\n",
              "      <td>3221</td>\n",
              "      <td>4166</td>\n",
              "      <td>14621</td>\n",
              "      <td>Active</td>\n",
              "    </tr>\n",
              "    <tr>\n",
              "      <th>2</th>\n",
              "      <td>LoanID_2</td>\n",
              "      <td>Product D</td>\n",
              "      <td>Female</td>\n",
              "      <td>Location 6</td>\n",
              "      <td>Region 6</td>\n",
              "      <td>NaN</td>\n",
              "      <td>02/01/2019</td>\n",
              "      <td>2200</td>\n",
              "      <td>45</td>\n",
              "      <td>365</td>\n",
              "      <td>3161</td>\n",
              "      <td>4096</td>\n",
              "      <td>16041</td>\n",
              "      <td>Active</td>\n",
              "    </tr>\n",
              "    <tr>\n",
              "      <th>3</th>\n",
              "      <td>LoanID_3</td>\n",
              "      <td>Product B</td>\n",
              "      <td>Male</td>\n",
              "      <td>Location 8</td>\n",
              "      <td>Region 3</td>\n",
              "      <td>16600.0</td>\n",
              "      <td>08/12/2016</td>\n",
              "      <td>1000</td>\n",
              "      <td>45</td>\n",
              "      <td>365</td>\n",
              "      <td>2260</td>\n",
              "      <td>3205</td>\n",
              "      <td>16340</td>\n",
              "      <td>NaN</td>\n",
              "    </tr>\n",
              "    <tr>\n",
              "      <th>4</th>\n",
              "      <td>LoanID_4</td>\n",
              "      <td>Product A</td>\n",
              "      <td>Male</td>\n",
              "      <td>Location 26</td>\n",
              "      <td>Region 2</td>\n",
              "      <td>17600.0</td>\n",
              "      <td>NaN</td>\n",
              "      <td>2200</td>\n",
              "      <td>45</td>\n",
              "      <td>365</td>\n",
              "      <td>3141</td>\n",
              "      <td>4166</td>\n",
              "      <td>16321</td>\n",
              "      <td>Active</td>\n",
              "    </tr>\n",
              "    <tr>\n",
              "      <th>5</th>\n",
              "      <td>LoanID_5</td>\n",
              "      <td>Product B</td>\n",
              "      <td>Female</td>\n",
              "      <td>Location 34</td>\n",
              "      <td>Region 3</td>\n",
              "      <td>21250.0</td>\n",
              "      <td>28/10/2017</td>\n",
              "      <td>2200</td>\n",
              "      <td>55</td>\n",
              "      <td>365</td>\n",
              "      <td>3570</td>\n",
              "      <td>4745</td>\n",
              "      <td>14720</td>\n",
              "      <td>Active</td>\n",
              "    </tr>\n",
              "    <tr>\n",
              "      <th>...</th>\n",
              "      <td>...</td>\n",
              "      <td>...</td>\n",
              "      <td>...</td>\n",
              "      <td>...</td>\n",
              "      <td>...</td>\n",
              "      <td>...</td>\n",
              "      <td>...</td>\n",
              "      <td>...</td>\n",
              "      <td>...</td>\n",
              "      <td>...</td>\n",
              "      <td>...</td>\n",
              "      <td>...</td>\n",
              "      <td>...</td>\n",
              "      <td>...</td>\n",
              "    </tr>\n",
              "    <tr>\n",
              "      <th>1039</th>\n",
              "      <td>LoanID_1039</td>\n",
              "      <td>Product B</td>\n",
              "      <td>Male</td>\n",
              "      <td>Location 73</td>\n",
              "      <td>Region 6</td>\n",
              "      <td>17300.0</td>\n",
              "      <td>29/12/2018</td>\n",
              "      <td>2200</td>\n",
              "      <td>45</td>\n",
              "      <td>365</td>\n",
              "      <td>3251</td>\n",
              "      <td>4743</td>\n",
              "      <td>16617</td>\n",
              "      <td>Finished Payment</td>\n",
              "    </tr>\n",
              "    <tr>\n",
              "      <th>1040</th>\n",
              "      <td>LoanID_1040</td>\n",
              "      <td>Product A</td>\n",
              "      <td>Male</td>\n",
              "      <td>Location 82</td>\n",
              "      <td>Region 1</td>\n",
              "      <td>NaN</td>\n",
              "      <td>28/03/2018</td>\n",
              "      <td>2200</td>\n",
              "      <td>45</td>\n",
              "      <td>365</td>\n",
              "      <td>4090</td>\n",
              "      <td>5582</td>\n",
              "      <td>16617</td>\n",
              "      <td>Finished Payment</td>\n",
              "    </tr>\n",
              "    <tr>\n",
              "      <th>1041</th>\n",
              "      <td>LoanID_1041</td>\n",
              "      <td>Product A</td>\n",
              "      <td>NotSpecified</td>\n",
              "      <td>Location 11</td>\n",
              "      <td>Region 4</td>\n",
              "      <td>17300.0</td>\n",
              "      <td>26/04/2018</td>\n",
              "      <td>2200</td>\n",
              "      <td>45</td>\n",
              "      <td>365</td>\n",
              "      <td>4051</td>\n",
              "      <td>5143</td>\n",
              "      <td>16617</td>\n",
              "      <td>Finished Payment</td>\n",
              "    </tr>\n",
              "    <tr>\n",
              "      <th>1042</th>\n",
              "      <td>LoanID_1042</td>\n",
              "      <td>Product B</td>\n",
              "      <td>Female</td>\n",
              "      <td>Location 26</td>\n",
              "      <td>Region 6</td>\n",
              "      <td>16300.0</td>\n",
              "      <td>25/10/2016</td>\n",
              "      <td>1000</td>\n",
              "      <td>45</td>\n",
              "      <td>365</td>\n",
              "      <td>1930</td>\n",
              "      <td>3462</td>\n",
              "      <td>15617</td>\n",
              "      <td>Finished Payment</td>\n",
              "    </tr>\n",
              "    <tr>\n",
              "      <th>1043</th>\n",
              "      <td>LoanID_1043</td>\n",
              "      <td>Product A</td>\n",
              "      <td>NotSpecified</td>\n",
              "      <td>Location 94</td>\n",
              "      <td>Region 6</td>\n",
              "      <td>17300.0</td>\n",
              "      <td>15/05/2019</td>\n",
              "      <td>2200</td>\n",
              "      <td>45</td>\n",
              "      <td>365</td>\n",
              "      <td>4451</td>\n",
              "      <td>4743</td>\n",
              "      <td>16617</td>\n",
              "      <td>Finished Payment</td>\n",
              "    </tr>\n",
              "  </tbody>\n",
              "</table>\n",
              "<p>1043 rows × 14 columns</p>\n",
              "</div>\n",
              "      <button class=\"colab-df-convert\" onclick=\"convertToInteractive('df-14269bf9-19d0-47bd-95f5-8ad50e671c64')\"\n",
              "              title=\"Convert this dataframe to an interactive table.\"\n",
              "              style=\"display:none;\">\n",
              "        \n",
              "  <svg xmlns=\"http://www.w3.org/2000/svg\" height=\"24px\"viewBox=\"0 0 24 24\"\n",
              "       width=\"24px\">\n",
              "    <path d=\"M0 0h24v24H0V0z\" fill=\"none\"/>\n",
              "    <path d=\"M18.56 5.44l.94 2.06.94-2.06 2.06-.94-2.06-.94-.94-2.06-.94 2.06-2.06.94zm-11 1L8.5 8.5l.94-2.06 2.06-.94-2.06-.94L8.5 2.5l-.94 2.06-2.06.94zm10 10l.94 2.06.94-2.06 2.06-.94-2.06-.94-.94-2.06-.94 2.06-2.06.94z\"/><path d=\"M17.41 7.96l-1.37-1.37c-.4-.4-.92-.59-1.43-.59-.52 0-1.04.2-1.43.59L10.3 9.45l-7.72 7.72c-.78.78-.78 2.05 0 2.83L4 21.41c.39.39.9.59 1.41.59.51 0 1.02-.2 1.41-.59l7.78-7.78 2.81-2.81c.8-.78.8-2.07 0-2.86zM5.41 20L4 18.59l7.72-7.72 1.47 1.35L5.41 20z\"/>\n",
              "  </svg>\n",
              "      </button>\n",
              "      \n",
              "  <style>\n",
              "    .colab-df-container {\n",
              "      display:flex;\n",
              "      flex-wrap:wrap;\n",
              "      gap: 12px;\n",
              "    }\n",
              "\n",
              "    .colab-df-convert {\n",
              "      background-color: #E8F0FE;\n",
              "      border: none;\n",
              "      border-radius: 50%;\n",
              "      cursor: pointer;\n",
              "      display: none;\n",
              "      fill: #1967D2;\n",
              "      height: 32px;\n",
              "      padding: 0 0 0 0;\n",
              "      width: 32px;\n",
              "    }\n",
              "\n",
              "    .colab-df-convert:hover {\n",
              "      background-color: #E2EBFA;\n",
              "      box-shadow: 0px 1px 2px rgba(60, 64, 67, 0.3), 0px 1px 3px 1px rgba(60, 64, 67, 0.15);\n",
              "      fill: #174EA6;\n",
              "    }\n",
              "\n",
              "    [theme=dark] .colab-df-convert {\n",
              "      background-color: #3B4455;\n",
              "      fill: #D2E3FC;\n",
              "    }\n",
              "\n",
              "    [theme=dark] .colab-df-convert:hover {\n",
              "      background-color: #434B5C;\n",
              "      box-shadow: 0px 1px 3px 1px rgba(0, 0, 0, 0.15);\n",
              "      filter: drop-shadow(0px 1px 2px rgba(0, 0, 0, 0.3));\n",
              "      fill: #FFFFFF;\n",
              "    }\n",
              "  </style>\n",
              "\n",
              "      <script>\n",
              "        const buttonEl =\n",
              "          document.querySelector('#df-14269bf9-19d0-47bd-95f5-8ad50e671c64 button.colab-df-convert');\n",
              "        buttonEl.style.display =\n",
              "          google.colab.kernel.accessAllowed ? 'block' : 'none';\n",
              "\n",
              "        async function convertToInteractive(key) {\n",
              "          const element = document.querySelector('#df-14269bf9-19d0-47bd-95f5-8ad50e671c64');\n",
              "          const dataTable =\n",
              "            await google.colab.kernel.invokeFunction('convertToInteractive',\n",
              "                                                     [key], {});\n",
              "          if (!dataTable) return;\n",
              "\n",
              "          const docLinkHtml = 'Like what you see? Visit the ' +\n",
              "            '<a target=\"_blank\" href=https://colab.research.google.com/notebooks/data_table.ipynb>data table notebook</a>'\n",
              "            + ' to learn more about interactive tables.';\n",
              "          element.innerHTML = '';\n",
              "          dataTable['output_type'] = 'display_data';\n",
              "          await google.colab.output.renderOutput(dataTable, element);\n",
              "          const docLink = document.createElement('div');\n",
              "          docLink.innerHTML = docLinkHtml;\n",
              "          element.appendChild(docLink);\n",
              "        }\n",
              "      </script>\n",
              "    </div>\n",
              "  </div>\n",
              "  "
            ]
          },
          "metadata": {},
          "execution_count": 50
        }
      ]
    },
    {
      "cell_type": "code",
      "source": [
        "lending_co_data.shape"
      ],
      "metadata": {
        "colab": {
          "base_uri": "https://localhost:8080/"
        },
        "id": "PnCZL9y00aYC",
        "outputId": "0f898222-f3eb-4e9c-f294-54aef1aec7a0"
      },
      "execution_count": 51,
      "outputs": [
        {
          "output_type": "execute_result",
          "data": {
            "text/plain": [
              "(1043, 14)"
            ]
          },
          "metadata": {},
          "execution_count": 51
        }
      ]
    },
    {
      "cell_type": "code",
      "source": [
        "## ERROR\n",
        "\n",
        "# lending_co_data.iloc[1043, :]\n",
        "# lending_co_data.iloc[10000, :]\n",
        "\n",
        "# lending_co_data.iloc[:, 14]"
      ],
      "metadata": {
        "id": "4GZxWaPe0bOW"
      },
      "execution_count": 52,
      "outputs": []
    },
    {
      "cell_type": "code",
      "source": [
        "lending_co_data.iloc[:, 13]"
      ],
      "metadata": {
        "colab": {
          "base_uri": "https://localhost:8080/"
        },
        "id": "z6yyU6nV0gDu",
        "outputId": "bc22177a-f7c2-4e44-a1b8-aba6390d3107"
      },
      "execution_count": 53,
      "outputs": [
        {
          "output_type": "execute_result",
          "data": {
            "text/plain": [
              "LoanID\n",
              "1                 Active\n",
              "2                 Active\n",
              "3                    NaN\n",
              "4                 Active\n",
              "5                 Active\n",
              "              ...       \n",
              "1039    Finished Payment\n",
              "1040    Finished Payment\n",
              "1041    Finished Payment\n",
              "1042    Finished Payment\n",
              "1043    Finished Payment\n",
              "Name: LoanStatus, Length: 1043, dtype: object"
            ]
          },
          "metadata": {},
          "execution_count": 53
        }
      ]
    },
    {
      "cell_type": "code",
      "source": [
        "lending_co_data.iloc[:, -1]"
      ],
      "metadata": {
        "colab": {
          "base_uri": "https://localhost:8080/"
        },
        "id": "0lenZooK0g5f",
        "outputId": "2b2494c7-f6a1-4a18-a288-a729a6b36761"
      },
      "execution_count": 54,
      "outputs": [
        {
          "output_type": "execute_result",
          "data": {
            "text/plain": [
              "LoanID\n",
              "1                 Active\n",
              "2                 Active\n",
              "3                    NaN\n",
              "4                 Active\n",
              "5                 Active\n",
              "              ...       \n",
              "1039    Finished Payment\n",
              "1040    Finished Payment\n",
              "1041    Finished Payment\n",
              "1042    Finished Payment\n",
              "1043    Finished Payment\n",
              "Name: LoanStatus, Length: 1043, dtype: object"
            ]
          },
          "metadata": {},
          "execution_count": 54
        }
      ]
    },
    {
      "cell_type": "code",
      "source": [
        "lending_co_data.head()"
      ],
      "metadata": {
        "colab": {
          "base_uri": "https://localhost:8080/",
          "height": 238
        },
        "id": "sMXXhF1z0h_N",
        "outputId": "2998f30f-d0e1-4bae-96fe-dece8bc1e881"
      },
      "execution_count": 55,
      "outputs": [
        {
          "output_type": "execute_result",
          "data": {
            "text/plain": [
              "        StringID    Product CustomerGender     Location    Region  TotalPrice  \\\n",
              "LoanID                                                                          \n",
              "1       LoanID_1  Product B         Female   Location 3  Region 2     17600.0   \n",
              "2       LoanID_2  Product D         Female   Location 6  Region 6         NaN   \n",
              "3       LoanID_3  Product B           Male   Location 8  Region 3     16600.0   \n",
              "4       LoanID_4  Product A           Male  Location 26  Region 2     17600.0   \n",
              "5       LoanID_5  Product B         Female  Location 34  Region 3     21250.0   \n",
              "\n",
              "         StartDate  Deposit  DailyRate  TotalDaysYr  AmtPaid36  AmtPaid60  \\\n",
              "LoanID                                                                      \n",
              "1       04/07/2018     2200         45          365       3221       4166   \n",
              "2       02/01/2019     2200         45          365       3161       4096   \n",
              "3       08/12/2016     1000         45          365       2260       3205   \n",
              "4              NaN     2200         45          365       3141       4166   \n",
              "5       28/10/2017     2200         55          365       3570       4745   \n",
              "\n",
              "        AmtPaid360 LoanStatus  \n",
              "LoanID                         \n",
              "1            14621     Active  \n",
              "2            16041     Active  \n",
              "3            16340        NaN  \n",
              "4            16321     Active  \n",
              "5            14720     Active  "
            ],
            "text/html": [
              "\n",
              "  <div id=\"df-1ecc7191-95fe-4199-9e4c-7c99a122ea6a\">\n",
              "    <div class=\"colab-df-container\">\n",
              "      <div>\n",
              "<style scoped>\n",
              "    .dataframe tbody tr th:only-of-type {\n",
              "        vertical-align: middle;\n",
              "    }\n",
              "\n",
              "    .dataframe tbody tr th {\n",
              "        vertical-align: top;\n",
              "    }\n",
              "\n",
              "    .dataframe thead th {\n",
              "        text-align: right;\n",
              "    }\n",
              "</style>\n",
              "<table border=\"1\" class=\"dataframe\">\n",
              "  <thead>\n",
              "    <tr style=\"text-align: right;\">\n",
              "      <th></th>\n",
              "      <th>StringID</th>\n",
              "      <th>Product</th>\n",
              "      <th>CustomerGender</th>\n",
              "      <th>Location</th>\n",
              "      <th>Region</th>\n",
              "      <th>TotalPrice</th>\n",
              "      <th>StartDate</th>\n",
              "      <th>Deposit</th>\n",
              "      <th>DailyRate</th>\n",
              "      <th>TotalDaysYr</th>\n",
              "      <th>AmtPaid36</th>\n",
              "      <th>AmtPaid60</th>\n",
              "      <th>AmtPaid360</th>\n",
              "      <th>LoanStatus</th>\n",
              "    </tr>\n",
              "    <tr>\n",
              "      <th>LoanID</th>\n",
              "      <th></th>\n",
              "      <th></th>\n",
              "      <th></th>\n",
              "      <th></th>\n",
              "      <th></th>\n",
              "      <th></th>\n",
              "      <th></th>\n",
              "      <th></th>\n",
              "      <th></th>\n",
              "      <th></th>\n",
              "      <th></th>\n",
              "      <th></th>\n",
              "      <th></th>\n",
              "      <th></th>\n",
              "    </tr>\n",
              "  </thead>\n",
              "  <tbody>\n",
              "    <tr>\n",
              "      <th>1</th>\n",
              "      <td>LoanID_1</td>\n",
              "      <td>Product B</td>\n",
              "      <td>Female</td>\n",
              "      <td>Location 3</td>\n",
              "      <td>Region 2</td>\n",
              "      <td>17600.0</td>\n",
              "      <td>04/07/2018</td>\n",
              "      <td>2200</td>\n",
              "      <td>45</td>\n",
              "      <td>365</td>\n",
              "      <td>3221</td>\n",
              "      <td>4166</td>\n",
              "      <td>14621</td>\n",
              "      <td>Active</td>\n",
              "    </tr>\n",
              "    <tr>\n",
              "      <th>2</th>\n",
              "      <td>LoanID_2</td>\n",
              "      <td>Product D</td>\n",
              "      <td>Female</td>\n",
              "      <td>Location 6</td>\n",
              "      <td>Region 6</td>\n",
              "      <td>NaN</td>\n",
              "      <td>02/01/2019</td>\n",
              "      <td>2200</td>\n",
              "      <td>45</td>\n",
              "      <td>365</td>\n",
              "      <td>3161</td>\n",
              "      <td>4096</td>\n",
              "      <td>16041</td>\n",
              "      <td>Active</td>\n",
              "    </tr>\n",
              "    <tr>\n",
              "      <th>3</th>\n",
              "      <td>LoanID_3</td>\n",
              "      <td>Product B</td>\n",
              "      <td>Male</td>\n",
              "      <td>Location 8</td>\n",
              "      <td>Region 3</td>\n",
              "      <td>16600.0</td>\n",
              "      <td>08/12/2016</td>\n",
              "      <td>1000</td>\n",
              "      <td>45</td>\n",
              "      <td>365</td>\n",
              "      <td>2260</td>\n",
              "      <td>3205</td>\n",
              "      <td>16340</td>\n",
              "      <td>NaN</td>\n",
              "    </tr>\n",
              "    <tr>\n",
              "      <th>4</th>\n",
              "      <td>LoanID_4</td>\n",
              "      <td>Product A</td>\n",
              "      <td>Male</td>\n",
              "      <td>Location 26</td>\n",
              "      <td>Region 2</td>\n",
              "      <td>17600.0</td>\n",
              "      <td>NaN</td>\n",
              "      <td>2200</td>\n",
              "      <td>45</td>\n",
              "      <td>365</td>\n",
              "      <td>3141</td>\n",
              "      <td>4166</td>\n",
              "      <td>16321</td>\n",
              "      <td>Active</td>\n",
              "    </tr>\n",
              "    <tr>\n",
              "      <th>5</th>\n",
              "      <td>LoanID_5</td>\n",
              "      <td>Product B</td>\n",
              "      <td>Female</td>\n",
              "      <td>Location 34</td>\n",
              "      <td>Region 3</td>\n",
              "      <td>21250.0</td>\n",
              "      <td>28/10/2017</td>\n",
              "      <td>2200</td>\n",
              "      <td>55</td>\n",
              "      <td>365</td>\n",
              "      <td>3570</td>\n",
              "      <td>4745</td>\n",
              "      <td>14720</td>\n",
              "      <td>Active</td>\n",
              "    </tr>\n",
              "  </tbody>\n",
              "</table>\n",
              "</div>\n",
              "      <button class=\"colab-df-convert\" onclick=\"convertToInteractive('df-1ecc7191-95fe-4199-9e4c-7c99a122ea6a')\"\n",
              "              title=\"Convert this dataframe to an interactive table.\"\n",
              "              style=\"display:none;\">\n",
              "        \n",
              "  <svg xmlns=\"http://www.w3.org/2000/svg\" height=\"24px\"viewBox=\"0 0 24 24\"\n",
              "       width=\"24px\">\n",
              "    <path d=\"M0 0h24v24H0V0z\" fill=\"none\"/>\n",
              "    <path d=\"M18.56 5.44l.94 2.06.94-2.06 2.06-.94-2.06-.94-.94-2.06-.94 2.06-2.06.94zm-11 1L8.5 8.5l.94-2.06 2.06-.94-2.06-.94L8.5 2.5l-.94 2.06-2.06.94zm10 10l.94 2.06.94-2.06 2.06-.94-2.06-.94-.94-2.06-.94 2.06-2.06.94z\"/><path d=\"M17.41 7.96l-1.37-1.37c-.4-.4-.92-.59-1.43-.59-.52 0-1.04.2-1.43.59L10.3 9.45l-7.72 7.72c-.78.78-.78 2.05 0 2.83L4 21.41c.39.39.9.59 1.41.59.51 0 1.02-.2 1.41-.59l7.78-7.78 2.81-2.81c.8-.78.8-2.07 0-2.86zM5.41 20L4 18.59l7.72-7.72 1.47 1.35L5.41 20z\"/>\n",
              "  </svg>\n",
              "      </button>\n",
              "      \n",
              "  <style>\n",
              "    .colab-df-container {\n",
              "      display:flex;\n",
              "      flex-wrap:wrap;\n",
              "      gap: 12px;\n",
              "    }\n",
              "\n",
              "    .colab-df-convert {\n",
              "      background-color: #E8F0FE;\n",
              "      border: none;\n",
              "      border-radius: 50%;\n",
              "      cursor: pointer;\n",
              "      display: none;\n",
              "      fill: #1967D2;\n",
              "      height: 32px;\n",
              "      padding: 0 0 0 0;\n",
              "      width: 32px;\n",
              "    }\n",
              "\n",
              "    .colab-df-convert:hover {\n",
              "      background-color: #E2EBFA;\n",
              "      box-shadow: 0px 1px 2px rgba(60, 64, 67, 0.3), 0px 1px 3px 1px rgba(60, 64, 67, 0.15);\n",
              "      fill: #174EA6;\n",
              "    }\n",
              "\n",
              "    [theme=dark] .colab-df-convert {\n",
              "      background-color: #3B4455;\n",
              "      fill: #D2E3FC;\n",
              "    }\n",
              "\n",
              "    [theme=dark] .colab-df-convert:hover {\n",
              "      background-color: #434B5C;\n",
              "      box-shadow: 0px 1px 3px 1px rgba(0, 0, 0, 0.15);\n",
              "      filter: drop-shadow(0px 1px 2px rgba(0, 0, 0, 0.3));\n",
              "      fill: #FFFFFF;\n",
              "    }\n",
              "  </style>\n",
              "\n",
              "      <script>\n",
              "        const buttonEl =\n",
              "          document.querySelector('#df-1ecc7191-95fe-4199-9e4c-7c99a122ea6a button.colab-df-convert');\n",
              "        buttonEl.style.display =\n",
              "          google.colab.kernel.accessAllowed ? 'block' : 'none';\n",
              "\n",
              "        async function convertToInteractive(key) {\n",
              "          const element = document.querySelector('#df-1ecc7191-95fe-4199-9e4c-7c99a122ea6a');\n",
              "          const dataTable =\n",
              "            await google.colab.kernel.invokeFunction('convertToInteractive',\n",
              "                                                     [key], {});\n",
              "          if (!dataTable) return;\n",
              "\n",
              "          const docLinkHtml = 'Like what you see? Visit the ' +\n",
              "            '<a target=\"_blank\" href=https://colab.research.google.com/notebooks/data_table.ipynb>data table notebook</a>'\n",
              "            + ' to learn more about interactive tables.';\n",
              "          element.innerHTML = '';\n",
              "          dataTable['output_type'] = 'display_data';\n",
              "          await google.colab.output.renderOutput(dataTable, element);\n",
              "          const docLink = document.createElement('div');\n",
              "          docLink.innerHTML = docLinkHtml;\n",
              "          element.appendChild(docLink);\n",
              "        }\n",
              "      </script>\n",
              "    </div>\n",
              "  </div>\n",
              "  "
            ]
          },
          "metadata": {},
          "execution_count": 55
        }
      ]
    },
    {
      "cell_type": "code",
      "source": [
        "## ERROR\n",
        "# incorrect (single indexer required)\n",
        "# lending_co_data['TotalPrice'].iloc[0, :]"
      ],
      "metadata": {
        "id": "a7cWERxZ0j4S"
      },
      "execution_count": 57,
      "outputs": []
    },
    {
      "cell_type": "code",
      "source": [
        "lending_co_data['TotalPrice'].iloc[0]"
      ],
      "metadata": {
        "colab": {
          "base_uri": "https://localhost:8080/"
        },
        "id": "xpgKo4yu0lFU",
        "outputId": "3a51db4f-6cec-4e52-fada-2f00b5656c2d"
      },
      "execution_count": 58,
      "outputs": [
        {
          "output_type": "execute_result",
          "data": {
            "text/plain": [
              "17600.0"
            ]
          },
          "metadata": {},
          "execution_count": 58
        }
      ]
    },
    {
      "cell_type": "code",
      "source": [
        "##ERROR\n",
        "# avoid for index columns composed of labels/integers\n",
        "# lending_co_data['TotalPrice'][0]"
      ],
      "metadata": {
        "id": "ZO7vjyhp0oyP"
      },
      "execution_count": 60,
      "outputs": []
    },
    {
      "cell_type": "code",
      "source": [
        "# AVOID\n",
        "lending_co_data['TotalPrice'][1]"
      ],
      "metadata": {
        "colab": {
          "base_uri": "https://localhost:8080/"
        },
        "id": "b1-OiGZm0qTK",
        "outputId": "b738cfbe-b2a2-443f-9a7c-888410d64bbe"
      },
      "execution_count": 61,
      "outputs": [
        {
          "output_type": "execute_result",
          "data": {
            "text/plain": [
              "17600.0"
            ]
          },
          "metadata": {},
          "execution_count": 61
        }
      ]
    },
    {
      "cell_type": "code",
      "source": [
        "lending_co_data['TotalPrice'].loc[1]"
      ],
      "metadata": {
        "colab": {
          "base_uri": "https://localhost:8080/"
        },
        "id": "u_zYqhKj0tDj",
        "outputId": "0979efd7-0795-4e04-a91c-ab33a63594d2"
      },
      "execution_count": 62,
      "outputs": [
        {
          "output_type": "execute_result",
          "data": {
            "text/plain": [
              "17600.0"
            ]
          },
          "metadata": {},
          "execution_count": 62
        }
      ]
    },
    {
      "cell_type": "code",
      "source": [
        "data = pd.read_csv('Lending-company.csv', index_col = 'StringID')\n",
        "lending_co_data = data.copy()\n",
        "lending_co_data.head()"
      ],
      "metadata": {
        "colab": {
          "base_uri": "https://localhost:8080/",
          "height": 238
        },
        "id": "fgcnFwgj0udl",
        "outputId": "f57653ec-2113-4285-f85b-47c83cc5de7d"
      },
      "execution_count": 63,
      "outputs": [
        {
          "output_type": "execute_result",
          "data": {
            "text/plain": [
              "          LoanID    Product CustomerGender     Location    Region  TotalPrice  \\\n",
              "StringID                                                                        \n",
              "LoanID_1       1  Product B         Female   Location 3  Region 2     17600.0   \n",
              "LoanID_2       2  Product D         Female   Location 6  Region 6         NaN   \n",
              "LoanID_3       3  Product B           Male   Location 8  Region 3     16600.0   \n",
              "LoanID_4       4  Product A           Male  Location 26  Region 2     17600.0   \n",
              "LoanID_5       5  Product B         Female  Location 34  Region 3     21250.0   \n",
              "\n",
              "           StartDate  Deposit  DailyRate  TotalDaysYr  AmtPaid36  AmtPaid60  \\\n",
              "StringID                                                                      \n",
              "LoanID_1  04/07/2018     2200         45          365       3221       4166   \n",
              "LoanID_2  02/01/2019     2200         45          365       3161       4096   \n",
              "LoanID_3  08/12/2016     1000         45          365       2260       3205   \n",
              "LoanID_4         NaN     2200         45          365       3141       4166   \n",
              "LoanID_5  28/10/2017     2200         55          365       3570       4745   \n",
              "\n",
              "          AmtPaid360 LoanStatus  \n",
              "StringID                         \n",
              "LoanID_1       14621     Active  \n",
              "LoanID_2       16041     Active  \n",
              "LoanID_3       16340        NaN  \n",
              "LoanID_4       16321     Active  \n",
              "LoanID_5       14720     Active  "
            ],
            "text/html": [
              "\n",
              "  <div id=\"df-7ac8362d-5113-423f-8ff7-a7116d0aef00\">\n",
              "    <div class=\"colab-df-container\">\n",
              "      <div>\n",
              "<style scoped>\n",
              "    .dataframe tbody tr th:only-of-type {\n",
              "        vertical-align: middle;\n",
              "    }\n",
              "\n",
              "    .dataframe tbody tr th {\n",
              "        vertical-align: top;\n",
              "    }\n",
              "\n",
              "    .dataframe thead th {\n",
              "        text-align: right;\n",
              "    }\n",
              "</style>\n",
              "<table border=\"1\" class=\"dataframe\">\n",
              "  <thead>\n",
              "    <tr style=\"text-align: right;\">\n",
              "      <th></th>\n",
              "      <th>LoanID</th>\n",
              "      <th>Product</th>\n",
              "      <th>CustomerGender</th>\n",
              "      <th>Location</th>\n",
              "      <th>Region</th>\n",
              "      <th>TotalPrice</th>\n",
              "      <th>StartDate</th>\n",
              "      <th>Deposit</th>\n",
              "      <th>DailyRate</th>\n",
              "      <th>TotalDaysYr</th>\n",
              "      <th>AmtPaid36</th>\n",
              "      <th>AmtPaid60</th>\n",
              "      <th>AmtPaid360</th>\n",
              "      <th>LoanStatus</th>\n",
              "    </tr>\n",
              "    <tr>\n",
              "      <th>StringID</th>\n",
              "      <th></th>\n",
              "      <th></th>\n",
              "      <th></th>\n",
              "      <th></th>\n",
              "      <th></th>\n",
              "      <th></th>\n",
              "      <th></th>\n",
              "      <th></th>\n",
              "      <th></th>\n",
              "      <th></th>\n",
              "      <th></th>\n",
              "      <th></th>\n",
              "      <th></th>\n",
              "      <th></th>\n",
              "    </tr>\n",
              "  </thead>\n",
              "  <tbody>\n",
              "    <tr>\n",
              "      <th>LoanID_1</th>\n",
              "      <td>1</td>\n",
              "      <td>Product B</td>\n",
              "      <td>Female</td>\n",
              "      <td>Location 3</td>\n",
              "      <td>Region 2</td>\n",
              "      <td>17600.0</td>\n",
              "      <td>04/07/2018</td>\n",
              "      <td>2200</td>\n",
              "      <td>45</td>\n",
              "      <td>365</td>\n",
              "      <td>3221</td>\n",
              "      <td>4166</td>\n",
              "      <td>14621</td>\n",
              "      <td>Active</td>\n",
              "    </tr>\n",
              "    <tr>\n",
              "      <th>LoanID_2</th>\n",
              "      <td>2</td>\n",
              "      <td>Product D</td>\n",
              "      <td>Female</td>\n",
              "      <td>Location 6</td>\n",
              "      <td>Region 6</td>\n",
              "      <td>NaN</td>\n",
              "      <td>02/01/2019</td>\n",
              "      <td>2200</td>\n",
              "      <td>45</td>\n",
              "      <td>365</td>\n",
              "      <td>3161</td>\n",
              "      <td>4096</td>\n",
              "      <td>16041</td>\n",
              "      <td>Active</td>\n",
              "    </tr>\n",
              "    <tr>\n",
              "      <th>LoanID_3</th>\n",
              "      <td>3</td>\n",
              "      <td>Product B</td>\n",
              "      <td>Male</td>\n",
              "      <td>Location 8</td>\n",
              "      <td>Region 3</td>\n",
              "      <td>16600.0</td>\n",
              "      <td>08/12/2016</td>\n",
              "      <td>1000</td>\n",
              "      <td>45</td>\n",
              "      <td>365</td>\n",
              "      <td>2260</td>\n",
              "      <td>3205</td>\n",
              "      <td>16340</td>\n",
              "      <td>NaN</td>\n",
              "    </tr>\n",
              "    <tr>\n",
              "      <th>LoanID_4</th>\n",
              "      <td>4</td>\n",
              "      <td>Product A</td>\n",
              "      <td>Male</td>\n",
              "      <td>Location 26</td>\n",
              "      <td>Region 2</td>\n",
              "      <td>17600.0</td>\n",
              "      <td>NaN</td>\n",
              "      <td>2200</td>\n",
              "      <td>45</td>\n",
              "      <td>365</td>\n",
              "      <td>3141</td>\n",
              "      <td>4166</td>\n",
              "      <td>16321</td>\n",
              "      <td>Active</td>\n",
              "    </tr>\n",
              "    <tr>\n",
              "      <th>LoanID_5</th>\n",
              "      <td>5</td>\n",
              "      <td>Product B</td>\n",
              "      <td>Female</td>\n",
              "      <td>Location 34</td>\n",
              "      <td>Region 3</td>\n",
              "      <td>21250.0</td>\n",
              "      <td>28/10/2017</td>\n",
              "      <td>2200</td>\n",
              "      <td>55</td>\n",
              "      <td>365</td>\n",
              "      <td>3570</td>\n",
              "      <td>4745</td>\n",
              "      <td>14720</td>\n",
              "      <td>Active</td>\n",
              "    </tr>\n",
              "  </tbody>\n",
              "</table>\n",
              "</div>\n",
              "      <button class=\"colab-df-convert\" onclick=\"convertToInteractive('df-7ac8362d-5113-423f-8ff7-a7116d0aef00')\"\n",
              "              title=\"Convert this dataframe to an interactive table.\"\n",
              "              style=\"display:none;\">\n",
              "        \n",
              "  <svg xmlns=\"http://www.w3.org/2000/svg\" height=\"24px\"viewBox=\"0 0 24 24\"\n",
              "       width=\"24px\">\n",
              "    <path d=\"M0 0h24v24H0V0z\" fill=\"none\"/>\n",
              "    <path d=\"M18.56 5.44l.94 2.06.94-2.06 2.06-.94-2.06-.94-.94-2.06-.94 2.06-2.06.94zm-11 1L8.5 8.5l.94-2.06 2.06-.94-2.06-.94L8.5 2.5l-.94 2.06-2.06.94zm10 10l.94 2.06.94-2.06 2.06-.94-2.06-.94-.94-2.06-.94 2.06-2.06.94z\"/><path d=\"M17.41 7.96l-1.37-1.37c-.4-.4-.92-.59-1.43-.59-.52 0-1.04.2-1.43.59L10.3 9.45l-7.72 7.72c-.78.78-.78 2.05 0 2.83L4 21.41c.39.39.9.59 1.41.59.51 0 1.02-.2 1.41-.59l7.78-7.78 2.81-2.81c.8-.78.8-2.07 0-2.86zM5.41 20L4 18.59l7.72-7.72 1.47 1.35L5.41 20z\"/>\n",
              "  </svg>\n",
              "      </button>\n",
              "      \n",
              "  <style>\n",
              "    .colab-df-container {\n",
              "      display:flex;\n",
              "      flex-wrap:wrap;\n",
              "      gap: 12px;\n",
              "    }\n",
              "\n",
              "    .colab-df-convert {\n",
              "      background-color: #E8F0FE;\n",
              "      border: none;\n",
              "      border-radius: 50%;\n",
              "      cursor: pointer;\n",
              "      display: none;\n",
              "      fill: #1967D2;\n",
              "      height: 32px;\n",
              "      padding: 0 0 0 0;\n",
              "      width: 32px;\n",
              "    }\n",
              "\n",
              "    .colab-df-convert:hover {\n",
              "      background-color: #E2EBFA;\n",
              "      box-shadow: 0px 1px 2px rgba(60, 64, 67, 0.3), 0px 1px 3px 1px rgba(60, 64, 67, 0.15);\n",
              "      fill: #174EA6;\n",
              "    }\n",
              "\n",
              "    [theme=dark] .colab-df-convert {\n",
              "      background-color: #3B4455;\n",
              "      fill: #D2E3FC;\n",
              "    }\n",
              "\n",
              "    [theme=dark] .colab-df-convert:hover {\n",
              "      background-color: #434B5C;\n",
              "      box-shadow: 0px 1px 3px 1px rgba(0, 0, 0, 0.15);\n",
              "      filter: drop-shadow(0px 1px 2px rgba(0, 0, 0, 0.3));\n",
              "      fill: #FFFFFF;\n",
              "    }\n",
              "  </style>\n",
              "\n",
              "      <script>\n",
              "        const buttonEl =\n",
              "          document.querySelector('#df-7ac8362d-5113-423f-8ff7-a7116d0aef00 button.colab-df-convert');\n",
              "        buttonEl.style.display =\n",
              "          google.colab.kernel.accessAllowed ? 'block' : 'none';\n",
              "\n",
              "        async function convertToInteractive(key) {\n",
              "          const element = document.querySelector('#df-7ac8362d-5113-423f-8ff7-a7116d0aef00');\n",
              "          const dataTable =\n",
              "            await google.colab.kernel.invokeFunction('convertToInteractive',\n",
              "                                                     [key], {});\n",
              "          if (!dataTable) return;\n",
              "\n",
              "          const docLinkHtml = 'Like what you see? Visit the ' +\n",
              "            '<a target=\"_blank\" href=https://colab.research.google.com/notebooks/data_table.ipynb>data table notebook</a>'\n",
              "            + ' to learn more about interactive tables.';\n",
              "          element.innerHTML = '';\n",
              "          dataTable['output_type'] = 'display_data';\n",
              "          await google.colab.output.renderOutput(dataTable, element);\n",
              "          const docLink = document.createElement('div');\n",
              "          docLink.innerHTML = docLinkHtml;\n",
              "          element.appendChild(docLink);\n",
              "        }\n",
              "      </script>\n",
              "    </div>\n",
              "  </div>\n",
              "  "
            ]
          },
          "metadata": {},
          "execution_count": 63
        }
      ]
    },
    {
      "cell_type": "code",
      "source": [
        "lending_co_data['TotalPrice'].iloc[0]"
      ],
      "metadata": {
        "colab": {
          "base_uri": "https://localhost:8080/"
        },
        "id": "6JkyB4Mu0yXa",
        "outputId": "6a13906d-46c0-4924-ab3a-c7805ad392c9"
      },
      "execution_count": 64,
      "outputs": [
        {
          "output_type": "execute_result",
          "data": {
            "text/plain": [
              "17600.0"
            ]
          },
          "metadata": {},
          "execution_count": 64
        }
      ]
    },
    {
      "cell_type": "code",
      "source": [
        "lending_co_data['TotalPrice'].loc['LoanID_1']"
      ],
      "metadata": {
        "colab": {
          "base_uri": "https://localhost:8080/"
        },
        "id": "JE50V9Fl0zqH",
        "outputId": "f2a0b37b-c917-4078-a60c-82b247a79d65"
      },
      "execution_count": 65,
      "outputs": [
        {
          "output_type": "execute_result",
          "data": {
            "text/plain": [
              "17600.0"
            ]
          },
          "metadata": {},
          "execution_count": 65
        }
      ]
    },
    {
      "cell_type": "code",
      "source": [
        "# AVOID\n",
        "lending_co_data['TotalPrice'][0]"
      ],
      "metadata": {
        "colab": {
          "base_uri": "https://localhost:8080/"
        },
        "id": "86rNMDEc01L9",
        "outputId": "3be3693c-2ed1-4026-9080-928cf5c8c3f6"
      },
      "execution_count": 66,
      "outputs": [
        {
          "output_type": "execute_result",
          "data": {
            "text/plain": [
              "17600.0"
            ]
          },
          "metadata": {},
          "execution_count": 66
        }
      ]
    },
    {
      "cell_type": "code",
      "source": [
        "# AVOID\n",
        "lending_co_data['TotalPrice'][1]"
      ],
      "metadata": {
        "colab": {
          "base_uri": "https://localhost:8080/"
        },
        "id": "PkNZi6r00-lL",
        "outputId": "b185c0f3-0153-4334-f9ad-f2b1aaebe779"
      },
      "execution_count": 67,
      "outputs": [
        {
          "output_type": "execute_result",
          "data": {
            "text/plain": [
              "nan"
            ]
          },
          "metadata": {},
          "execution_count": 67
        }
      ]
    },
    {
      "cell_type": "code",
      "source": [
        "# AVOID\n",
        "lending_co_data['TotalPrice']['LoanID_1']"
      ],
      "metadata": {
        "colab": {
          "base_uri": "https://localhost:8080/"
        },
        "id": "79_vy06c1BOf",
        "outputId": "be2cad0c-1a06-4116-e626-d875a7ff1a55"
      },
      "execution_count": 68,
      "outputs": [
        {
          "output_type": "execute_result",
          "data": {
            "text/plain": [
              "17600.0"
            ]
          },
          "metadata": {},
          "execution_count": 68
        }
      ]
    },
    {
      "cell_type": "code",
      "source": [
        "# AVOID\n",
        "lending_co_data.iloc[0][5]"
      ],
      "metadata": {
        "colab": {
          "base_uri": "https://localhost:8080/"
        },
        "id": "YmBOFLC81DFT",
        "outputId": "3c804573-0ec7-4bf3-f0a6-5883c1d699d6"
      },
      "execution_count": 69,
      "outputs": [
        {
          "output_type": "execute_result",
          "data": {
            "text/plain": [
              "17600.0"
            ]
          },
          "metadata": {},
          "execution_count": 69
        }
      ]
    },
    {
      "cell_type": "code",
      "source": [
        "lending_co_data.iloc[0, 5]"
      ],
      "metadata": {
        "colab": {
          "base_uri": "https://localhost:8080/"
        },
        "id": "NfOsrg0L1Eiz",
        "outputId": "c3d07d6c-2f73-48c5-f329-98cf42bf683b"
      },
      "execution_count": 70,
      "outputs": [
        {
          "output_type": "execute_result",
          "data": {
            "text/plain": [
              "17600.0"
            ]
          },
          "metadata": {},
          "execution_count": 70
        }
      ]
    },
    {
      "cell_type": "code",
      "source": [
        "# AVOID\n",
        "lending_co_data.iloc[[0, 5]]"
      ],
      "metadata": {
        "colab": {
          "base_uri": "https://localhost:8080/",
          "height": 143
        },
        "id": "7VDmc-mp1Fz7",
        "outputId": "5a5395b8-8684-46ca-9b52-b2b69b5308b6"
      },
      "execution_count": 71,
      "outputs": [
        {
          "output_type": "execute_result",
          "data": {
            "text/plain": [
              "          LoanID    Product CustomerGender     Location    Region  TotalPrice  \\\n",
              "StringID                                                                        \n",
              "LoanID_1       1  Product B         Female   Location 3  Region 2     17600.0   \n",
              "LoanID_6       6  Product A           Male  Location 34  Region 1         NaN   \n",
              "\n",
              "           StartDate  Deposit  DailyRate  TotalDaysYr  AmtPaid36  AmtPaid60  \\\n",
              "StringID                                                                      \n",
              "LoanID_1  04/07/2018     2200         45          365       3221       4166   \n",
              "LoanID_6  19/04/2019     2200         45          365       3301       4066   \n",
              "\n",
              "          AmtPaid360 LoanStatus  \n",
              "StringID                         \n",
              "LoanID_1       14621     Active  \n",
              "LoanID_6       15141     Active  "
            ],
            "text/html": [
              "\n",
              "  <div id=\"df-510165ff-9c76-40e3-9c6d-56371eec7604\">\n",
              "    <div class=\"colab-df-container\">\n",
              "      <div>\n",
              "<style scoped>\n",
              "    .dataframe tbody tr th:only-of-type {\n",
              "        vertical-align: middle;\n",
              "    }\n",
              "\n",
              "    .dataframe tbody tr th {\n",
              "        vertical-align: top;\n",
              "    }\n",
              "\n",
              "    .dataframe thead th {\n",
              "        text-align: right;\n",
              "    }\n",
              "</style>\n",
              "<table border=\"1\" class=\"dataframe\">\n",
              "  <thead>\n",
              "    <tr style=\"text-align: right;\">\n",
              "      <th></th>\n",
              "      <th>LoanID</th>\n",
              "      <th>Product</th>\n",
              "      <th>CustomerGender</th>\n",
              "      <th>Location</th>\n",
              "      <th>Region</th>\n",
              "      <th>TotalPrice</th>\n",
              "      <th>StartDate</th>\n",
              "      <th>Deposit</th>\n",
              "      <th>DailyRate</th>\n",
              "      <th>TotalDaysYr</th>\n",
              "      <th>AmtPaid36</th>\n",
              "      <th>AmtPaid60</th>\n",
              "      <th>AmtPaid360</th>\n",
              "      <th>LoanStatus</th>\n",
              "    </tr>\n",
              "    <tr>\n",
              "      <th>StringID</th>\n",
              "      <th></th>\n",
              "      <th></th>\n",
              "      <th></th>\n",
              "      <th></th>\n",
              "      <th></th>\n",
              "      <th></th>\n",
              "      <th></th>\n",
              "      <th></th>\n",
              "      <th></th>\n",
              "      <th></th>\n",
              "      <th></th>\n",
              "      <th></th>\n",
              "      <th></th>\n",
              "      <th></th>\n",
              "    </tr>\n",
              "  </thead>\n",
              "  <tbody>\n",
              "    <tr>\n",
              "      <th>LoanID_1</th>\n",
              "      <td>1</td>\n",
              "      <td>Product B</td>\n",
              "      <td>Female</td>\n",
              "      <td>Location 3</td>\n",
              "      <td>Region 2</td>\n",
              "      <td>17600.0</td>\n",
              "      <td>04/07/2018</td>\n",
              "      <td>2200</td>\n",
              "      <td>45</td>\n",
              "      <td>365</td>\n",
              "      <td>3221</td>\n",
              "      <td>4166</td>\n",
              "      <td>14621</td>\n",
              "      <td>Active</td>\n",
              "    </tr>\n",
              "    <tr>\n",
              "      <th>LoanID_6</th>\n",
              "      <td>6</td>\n",
              "      <td>Product A</td>\n",
              "      <td>Male</td>\n",
              "      <td>Location 34</td>\n",
              "      <td>Region 1</td>\n",
              "      <td>NaN</td>\n",
              "      <td>19/04/2019</td>\n",
              "      <td>2200</td>\n",
              "      <td>45</td>\n",
              "      <td>365</td>\n",
              "      <td>3301</td>\n",
              "      <td>4066</td>\n",
              "      <td>15141</td>\n",
              "      <td>Active</td>\n",
              "    </tr>\n",
              "  </tbody>\n",
              "</table>\n",
              "</div>\n",
              "      <button class=\"colab-df-convert\" onclick=\"convertToInteractive('df-510165ff-9c76-40e3-9c6d-56371eec7604')\"\n",
              "              title=\"Convert this dataframe to an interactive table.\"\n",
              "              style=\"display:none;\">\n",
              "        \n",
              "  <svg xmlns=\"http://www.w3.org/2000/svg\" height=\"24px\"viewBox=\"0 0 24 24\"\n",
              "       width=\"24px\">\n",
              "    <path d=\"M0 0h24v24H0V0z\" fill=\"none\"/>\n",
              "    <path d=\"M18.56 5.44l.94 2.06.94-2.06 2.06-.94-2.06-.94-.94-2.06-.94 2.06-2.06.94zm-11 1L8.5 8.5l.94-2.06 2.06-.94-2.06-.94L8.5 2.5l-.94 2.06-2.06.94zm10 10l.94 2.06.94-2.06 2.06-.94-2.06-.94-.94-2.06-.94 2.06-2.06.94z\"/><path d=\"M17.41 7.96l-1.37-1.37c-.4-.4-.92-.59-1.43-.59-.52 0-1.04.2-1.43.59L10.3 9.45l-7.72 7.72c-.78.78-.78 2.05 0 2.83L4 21.41c.39.39.9.59 1.41.59.51 0 1.02-.2 1.41-.59l7.78-7.78 2.81-2.81c.8-.78.8-2.07 0-2.86zM5.41 20L4 18.59l7.72-7.72 1.47 1.35L5.41 20z\"/>\n",
              "  </svg>\n",
              "      </button>\n",
              "      \n",
              "  <style>\n",
              "    .colab-df-container {\n",
              "      display:flex;\n",
              "      flex-wrap:wrap;\n",
              "      gap: 12px;\n",
              "    }\n",
              "\n",
              "    .colab-df-convert {\n",
              "      background-color: #E8F0FE;\n",
              "      border: none;\n",
              "      border-radius: 50%;\n",
              "      cursor: pointer;\n",
              "      display: none;\n",
              "      fill: #1967D2;\n",
              "      height: 32px;\n",
              "      padding: 0 0 0 0;\n",
              "      width: 32px;\n",
              "    }\n",
              "\n",
              "    .colab-df-convert:hover {\n",
              "      background-color: #E2EBFA;\n",
              "      box-shadow: 0px 1px 2px rgba(60, 64, 67, 0.3), 0px 1px 3px 1px rgba(60, 64, 67, 0.15);\n",
              "      fill: #174EA6;\n",
              "    }\n",
              "\n",
              "    [theme=dark] .colab-df-convert {\n",
              "      background-color: #3B4455;\n",
              "      fill: #D2E3FC;\n",
              "    }\n",
              "\n",
              "    [theme=dark] .colab-df-convert:hover {\n",
              "      background-color: #434B5C;\n",
              "      box-shadow: 0px 1px 3px 1px rgba(0, 0, 0, 0.15);\n",
              "      filter: drop-shadow(0px 1px 2px rgba(0, 0, 0, 0.3));\n",
              "      fill: #FFFFFF;\n",
              "    }\n",
              "  </style>\n",
              "\n",
              "      <script>\n",
              "        const buttonEl =\n",
              "          document.querySelector('#df-510165ff-9c76-40e3-9c6d-56371eec7604 button.colab-df-convert');\n",
              "        buttonEl.style.display =\n",
              "          google.colab.kernel.accessAllowed ? 'block' : 'none';\n",
              "\n",
              "        async function convertToInteractive(key) {\n",
              "          const element = document.querySelector('#df-510165ff-9c76-40e3-9c6d-56371eec7604');\n",
              "          const dataTable =\n",
              "            await google.colab.kernel.invokeFunction('convertToInteractive',\n",
              "                                                     [key], {});\n",
              "          if (!dataTable) return;\n",
              "\n",
              "          const docLinkHtml = 'Like what you see? Visit the ' +\n",
              "            '<a target=\"_blank\" href=https://colab.research.google.com/notebooks/data_table.ipynb>data table notebook</a>'\n",
              "            + ' to learn more about interactive tables.';\n",
              "          element.innerHTML = '';\n",
              "          dataTable['output_type'] = 'display_data';\n",
              "          await google.colab.output.renderOutput(dataTable, element);\n",
              "          const docLink = document.createElement('div');\n",
              "          docLink.innerHTML = docLinkHtml;\n",
              "          element.appendChild(docLink);\n",
              "        }\n",
              "      </script>\n",
              "    </div>\n",
              "  </div>\n",
              "  "
            ]
          },
          "metadata": {},
          "execution_count": 71
        }
      ]
    },
    {
      "cell_type": "code",
      "source": [
        "lending_co_data.iloc[[0, 5], :]"
      ],
      "metadata": {
        "colab": {
          "base_uri": "https://localhost:8080/",
          "height": 143
        },
        "id": "rwPKCSZk1ITv",
        "outputId": "a74e51cd-d4e7-4541-b6e4-cdffb51b16ae"
      },
      "execution_count": 72,
      "outputs": [
        {
          "output_type": "execute_result",
          "data": {
            "text/plain": [
              "          LoanID    Product CustomerGender     Location    Region  TotalPrice  \\\n",
              "StringID                                                                        \n",
              "LoanID_1       1  Product B         Female   Location 3  Region 2     17600.0   \n",
              "LoanID_6       6  Product A           Male  Location 34  Region 1         NaN   \n",
              "\n",
              "           StartDate  Deposit  DailyRate  TotalDaysYr  AmtPaid36  AmtPaid60  \\\n",
              "StringID                                                                      \n",
              "LoanID_1  04/07/2018     2200         45          365       3221       4166   \n",
              "LoanID_6  19/04/2019     2200         45          365       3301       4066   \n",
              "\n",
              "          AmtPaid360 LoanStatus  \n",
              "StringID                         \n",
              "LoanID_1       14621     Active  \n",
              "LoanID_6       15141     Active  "
            ],
            "text/html": [
              "\n",
              "  <div id=\"df-7f103443-de40-451f-943e-df82fa48001d\">\n",
              "    <div class=\"colab-df-container\">\n",
              "      <div>\n",
              "<style scoped>\n",
              "    .dataframe tbody tr th:only-of-type {\n",
              "        vertical-align: middle;\n",
              "    }\n",
              "\n",
              "    .dataframe tbody tr th {\n",
              "        vertical-align: top;\n",
              "    }\n",
              "\n",
              "    .dataframe thead th {\n",
              "        text-align: right;\n",
              "    }\n",
              "</style>\n",
              "<table border=\"1\" class=\"dataframe\">\n",
              "  <thead>\n",
              "    <tr style=\"text-align: right;\">\n",
              "      <th></th>\n",
              "      <th>LoanID</th>\n",
              "      <th>Product</th>\n",
              "      <th>CustomerGender</th>\n",
              "      <th>Location</th>\n",
              "      <th>Region</th>\n",
              "      <th>TotalPrice</th>\n",
              "      <th>StartDate</th>\n",
              "      <th>Deposit</th>\n",
              "      <th>DailyRate</th>\n",
              "      <th>TotalDaysYr</th>\n",
              "      <th>AmtPaid36</th>\n",
              "      <th>AmtPaid60</th>\n",
              "      <th>AmtPaid360</th>\n",
              "      <th>LoanStatus</th>\n",
              "    </tr>\n",
              "    <tr>\n",
              "      <th>StringID</th>\n",
              "      <th></th>\n",
              "      <th></th>\n",
              "      <th></th>\n",
              "      <th></th>\n",
              "      <th></th>\n",
              "      <th></th>\n",
              "      <th></th>\n",
              "      <th></th>\n",
              "      <th></th>\n",
              "      <th></th>\n",
              "      <th></th>\n",
              "      <th></th>\n",
              "      <th></th>\n",
              "      <th></th>\n",
              "    </tr>\n",
              "  </thead>\n",
              "  <tbody>\n",
              "    <tr>\n",
              "      <th>LoanID_1</th>\n",
              "      <td>1</td>\n",
              "      <td>Product B</td>\n",
              "      <td>Female</td>\n",
              "      <td>Location 3</td>\n",
              "      <td>Region 2</td>\n",
              "      <td>17600.0</td>\n",
              "      <td>04/07/2018</td>\n",
              "      <td>2200</td>\n",
              "      <td>45</td>\n",
              "      <td>365</td>\n",
              "      <td>3221</td>\n",
              "      <td>4166</td>\n",
              "      <td>14621</td>\n",
              "      <td>Active</td>\n",
              "    </tr>\n",
              "    <tr>\n",
              "      <th>LoanID_6</th>\n",
              "      <td>6</td>\n",
              "      <td>Product A</td>\n",
              "      <td>Male</td>\n",
              "      <td>Location 34</td>\n",
              "      <td>Region 1</td>\n",
              "      <td>NaN</td>\n",
              "      <td>19/04/2019</td>\n",
              "      <td>2200</td>\n",
              "      <td>45</td>\n",
              "      <td>365</td>\n",
              "      <td>3301</td>\n",
              "      <td>4066</td>\n",
              "      <td>15141</td>\n",
              "      <td>Active</td>\n",
              "    </tr>\n",
              "  </tbody>\n",
              "</table>\n",
              "</div>\n",
              "      <button class=\"colab-df-convert\" onclick=\"convertToInteractive('df-7f103443-de40-451f-943e-df82fa48001d')\"\n",
              "              title=\"Convert this dataframe to an interactive table.\"\n",
              "              style=\"display:none;\">\n",
              "        \n",
              "  <svg xmlns=\"http://www.w3.org/2000/svg\" height=\"24px\"viewBox=\"0 0 24 24\"\n",
              "       width=\"24px\">\n",
              "    <path d=\"M0 0h24v24H0V0z\" fill=\"none\"/>\n",
              "    <path d=\"M18.56 5.44l.94 2.06.94-2.06 2.06-.94-2.06-.94-.94-2.06-.94 2.06-2.06.94zm-11 1L8.5 8.5l.94-2.06 2.06-.94-2.06-.94L8.5 2.5l-.94 2.06-2.06.94zm10 10l.94 2.06.94-2.06 2.06-.94-2.06-.94-.94-2.06-.94 2.06-2.06.94z\"/><path d=\"M17.41 7.96l-1.37-1.37c-.4-.4-.92-.59-1.43-.59-.52 0-1.04.2-1.43.59L10.3 9.45l-7.72 7.72c-.78.78-.78 2.05 0 2.83L4 21.41c.39.39.9.59 1.41.59.51 0 1.02-.2 1.41-.59l7.78-7.78 2.81-2.81c.8-.78.8-2.07 0-2.86zM5.41 20L4 18.59l7.72-7.72 1.47 1.35L5.41 20z\"/>\n",
              "  </svg>\n",
              "      </button>\n",
              "      \n",
              "  <style>\n",
              "    .colab-df-container {\n",
              "      display:flex;\n",
              "      flex-wrap:wrap;\n",
              "      gap: 12px;\n",
              "    }\n",
              "\n",
              "    .colab-df-convert {\n",
              "      background-color: #E8F0FE;\n",
              "      border: none;\n",
              "      border-radius: 50%;\n",
              "      cursor: pointer;\n",
              "      display: none;\n",
              "      fill: #1967D2;\n",
              "      height: 32px;\n",
              "      padding: 0 0 0 0;\n",
              "      width: 32px;\n",
              "    }\n",
              "\n",
              "    .colab-df-convert:hover {\n",
              "      background-color: #E2EBFA;\n",
              "      box-shadow: 0px 1px 2px rgba(60, 64, 67, 0.3), 0px 1px 3px 1px rgba(60, 64, 67, 0.15);\n",
              "      fill: #174EA6;\n",
              "    }\n",
              "\n",
              "    [theme=dark] .colab-df-convert {\n",
              "      background-color: #3B4455;\n",
              "      fill: #D2E3FC;\n",
              "    }\n",
              "\n",
              "    [theme=dark] .colab-df-convert:hover {\n",
              "      background-color: #434B5C;\n",
              "      box-shadow: 0px 1px 3px 1px rgba(0, 0, 0, 0.15);\n",
              "      filter: drop-shadow(0px 1px 2px rgba(0, 0, 0, 0.3));\n",
              "      fill: #FFFFFF;\n",
              "    }\n",
              "  </style>\n",
              "\n",
              "      <script>\n",
              "        const buttonEl =\n",
              "          document.querySelector('#df-7f103443-de40-451f-943e-df82fa48001d button.colab-df-convert');\n",
              "        buttonEl.style.display =\n",
              "          google.colab.kernel.accessAllowed ? 'block' : 'none';\n",
              "\n",
              "        async function convertToInteractive(key) {\n",
              "          const element = document.querySelector('#df-7f103443-de40-451f-943e-df82fa48001d');\n",
              "          const dataTable =\n",
              "            await google.colab.kernel.invokeFunction('convertToInteractive',\n",
              "                                                     [key], {});\n",
              "          if (!dataTable) return;\n",
              "\n",
              "          const docLinkHtml = 'Like what you see? Visit the ' +\n",
              "            '<a target=\"_blank\" href=https://colab.research.google.com/notebooks/data_table.ipynb>data table notebook</a>'\n",
              "            + ' to learn more about interactive tables.';\n",
              "          element.innerHTML = '';\n",
              "          dataTable['output_type'] = 'display_data';\n",
              "          await google.colab.output.renderOutput(dataTable, element);\n",
              "          const docLink = document.createElement('div');\n",
              "          docLink.innerHTML = docLinkHtml;\n",
              "          element.appendChild(docLink);\n",
              "        }\n",
              "      </script>\n",
              "    </div>\n",
              "  </div>\n",
              "  "
            ]
          },
          "metadata": {},
          "execution_count": 72
        }
      ]
    },
    {
      "cell_type": "code",
      "source": [
        "# AVOID\n",
        "lending_co_data['TotalPrice']['LoanID_1']"
      ],
      "metadata": {
        "colab": {
          "base_uri": "https://localhost:8080/"
        },
        "id": "T-nMAaip1JoI",
        "outputId": "006fff9f-68e3-4233-d53d-c18f01ed115e"
      },
      "execution_count": 73,
      "outputs": [
        {
          "output_type": "execute_result",
          "data": {
            "text/plain": [
              "17600.0"
            ]
          },
          "metadata": {},
          "execution_count": 73
        }
      ]
    },
    {
      "cell_type": "code",
      "source": [
        "lending_co_data.loc['LoanID_1', 'TotalPrice']"
      ],
      "metadata": {
        "colab": {
          "base_uri": "https://localhost:8080/"
        },
        "id": "3p_M5qRc1LGg",
        "outputId": "3c50bc99-8396-480f-e774-d488211011a1"
      },
      "execution_count": 74,
      "outputs": [
        {
          "output_type": "execute_result",
          "data": {
            "text/plain": [
              "17600.0"
            ]
          },
          "metadata": {},
          "execution_count": 74
        }
      ]
    },
    {
      "cell_type": "code",
      "source": [
        "# AVOID\n",
        "lending_co_data.loc[['LoanID_1', 'LoanID_6']]"
      ],
      "metadata": {
        "colab": {
          "base_uri": "https://localhost:8080/",
          "height": 143
        },
        "id": "p7jGBdwQ1L1K",
        "outputId": "511d750e-51de-4fa4-ad4d-6b39e977626d"
      },
      "execution_count": 75,
      "outputs": [
        {
          "output_type": "execute_result",
          "data": {
            "text/plain": [
              "          LoanID    Product CustomerGender     Location    Region  TotalPrice  \\\n",
              "StringID                                                                        \n",
              "LoanID_1       1  Product B         Female   Location 3  Region 2     17600.0   \n",
              "LoanID_6       6  Product A           Male  Location 34  Region 1         NaN   \n",
              "\n",
              "           StartDate  Deposit  DailyRate  TotalDaysYr  AmtPaid36  AmtPaid60  \\\n",
              "StringID                                                                      \n",
              "LoanID_1  04/07/2018     2200         45          365       3221       4166   \n",
              "LoanID_6  19/04/2019     2200         45          365       3301       4066   \n",
              "\n",
              "          AmtPaid360 LoanStatus  \n",
              "StringID                         \n",
              "LoanID_1       14621     Active  \n",
              "LoanID_6       15141     Active  "
            ],
            "text/html": [
              "\n",
              "  <div id=\"df-19fe5deb-abc2-4719-b5e6-02888c7949fa\">\n",
              "    <div class=\"colab-df-container\">\n",
              "      <div>\n",
              "<style scoped>\n",
              "    .dataframe tbody tr th:only-of-type {\n",
              "        vertical-align: middle;\n",
              "    }\n",
              "\n",
              "    .dataframe tbody tr th {\n",
              "        vertical-align: top;\n",
              "    }\n",
              "\n",
              "    .dataframe thead th {\n",
              "        text-align: right;\n",
              "    }\n",
              "</style>\n",
              "<table border=\"1\" class=\"dataframe\">\n",
              "  <thead>\n",
              "    <tr style=\"text-align: right;\">\n",
              "      <th></th>\n",
              "      <th>LoanID</th>\n",
              "      <th>Product</th>\n",
              "      <th>CustomerGender</th>\n",
              "      <th>Location</th>\n",
              "      <th>Region</th>\n",
              "      <th>TotalPrice</th>\n",
              "      <th>StartDate</th>\n",
              "      <th>Deposit</th>\n",
              "      <th>DailyRate</th>\n",
              "      <th>TotalDaysYr</th>\n",
              "      <th>AmtPaid36</th>\n",
              "      <th>AmtPaid60</th>\n",
              "      <th>AmtPaid360</th>\n",
              "      <th>LoanStatus</th>\n",
              "    </tr>\n",
              "    <tr>\n",
              "      <th>StringID</th>\n",
              "      <th></th>\n",
              "      <th></th>\n",
              "      <th></th>\n",
              "      <th></th>\n",
              "      <th></th>\n",
              "      <th></th>\n",
              "      <th></th>\n",
              "      <th></th>\n",
              "      <th></th>\n",
              "      <th></th>\n",
              "      <th></th>\n",
              "      <th></th>\n",
              "      <th></th>\n",
              "      <th></th>\n",
              "    </tr>\n",
              "  </thead>\n",
              "  <tbody>\n",
              "    <tr>\n",
              "      <th>LoanID_1</th>\n",
              "      <td>1</td>\n",
              "      <td>Product B</td>\n",
              "      <td>Female</td>\n",
              "      <td>Location 3</td>\n",
              "      <td>Region 2</td>\n",
              "      <td>17600.0</td>\n",
              "      <td>04/07/2018</td>\n",
              "      <td>2200</td>\n",
              "      <td>45</td>\n",
              "      <td>365</td>\n",
              "      <td>3221</td>\n",
              "      <td>4166</td>\n",
              "      <td>14621</td>\n",
              "      <td>Active</td>\n",
              "    </tr>\n",
              "    <tr>\n",
              "      <th>LoanID_6</th>\n",
              "      <td>6</td>\n",
              "      <td>Product A</td>\n",
              "      <td>Male</td>\n",
              "      <td>Location 34</td>\n",
              "      <td>Region 1</td>\n",
              "      <td>NaN</td>\n",
              "      <td>19/04/2019</td>\n",
              "      <td>2200</td>\n",
              "      <td>45</td>\n",
              "      <td>365</td>\n",
              "      <td>3301</td>\n",
              "      <td>4066</td>\n",
              "      <td>15141</td>\n",
              "      <td>Active</td>\n",
              "    </tr>\n",
              "  </tbody>\n",
              "</table>\n",
              "</div>\n",
              "      <button class=\"colab-df-convert\" onclick=\"convertToInteractive('df-19fe5deb-abc2-4719-b5e6-02888c7949fa')\"\n",
              "              title=\"Convert this dataframe to an interactive table.\"\n",
              "              style=\"display:none;\">\n",
              "        \n",
              "  <svg xmlns=\"http://www.w3.org/2000/svg\" height=\"24px\"viewBox=\"0 0 24 24\"\n",
              "       width=\"24px\">\n",
              "    <path d=\"M0 0h24v24H0V0z\" fill=\"none\"/>\n",
              "    <path d=\"M18.56 5.44l.94 2.06.94-2.06 2.06-.94-2.06-.94-.94-2.06-.94 2.06-2.06.94zm-11 1L8.5 8.5l.94-2.06 2.06-.94-2.06-.94L8.5 2.5l-.94 2.06-2.06.94zm10 10l.94 2.06.94-2.06 2.06-.94-2.06-.94-.94-2.06-.94 2.06-2.06.94z\"/><path d=\"M17.41 7.96l-1.37-1.37c-.4-.4-.92-.59-1.43-.59-.52 0-1.04.2-1.43.59L10.3 9.45l-7.72 7.72c-.78.78-.78 2.05 0 2.83L4 21.41c.39.39.9.59 1.41.59.51 0 1.02-.2 1.41-.59l7.78-7.78 2.81-2.81c.8-.78.8-2.07 0-2.86zM5.41 20L4 18.59l7.72-7.72 1.47 1.35L5.41 20z\"/>\n",
              "  </svg>\n",
              "      </button>\n",
              "      \n",
              "  <style>\n",
              "    .colab-df-container {\n",
              "      display:flex;\n",
              "      flex-wrap:wrap;\n",
              "      gap: 12px;\n",
              "    }\n",
              "\n",
              "    .colab-df-convert {\n",
              "      background-color: #E8F0FE;\n",
              "      border: none;\n",
              "      border-radius: 50%;\n",
              "      cursor: pointer;\n",
              "      display: none;\n",
              "      fill: #1967D2;\n",
              "      height: 32px;\n",
              "      padding: 0 0 0 0;\n",
              "      width: 32px;\n",
              "    }\n",
              "\n",
              "    .colab-df-convert:hover {\n",
              "      background-color: #E2EBFA;\n",
              "      box-shadow: 0px 1px 2px rgba(60, 64, 67, 0.3), 0px 1px 3px 1px rgba(60, 64, 67, 0.15);\n",
              "      fill: #174EA6;\n",
              "    }\n",
              "\n",
              "    [theme=dark] .colab-df-convert {\n",
              "      background-color: #3B4455;\n",
              "      fill: #D2E3FC;\n",
              "    }\n",
              "\n",
              "    [theme=dark] .colab-df-convert:hover {\n",
              "      background-color: #434B5C;\n",
              "      box-shadow: 0px 1px 3px 1px rgba(0, 0, 0, 0.15);\n",
              "      filter: drop-shadow(0px 1px 2px rgba(0, 0, 0, 0.3));\n",
              "      fill: #FFFFFF;\n",
              "    }\n",
              "  </style>\n",
              "\n",
              "      <script>\n",
              "        const buttonEl =\n",
              "          document.querySelector('#df-19fe5deb-abc2-4719-b5e6-02888c7949fa button.colab-df-convert');\n",
              "        buttonEl.style.display =\n",
              "          google.colab.kernel.accessAllowed ? 'block' : 'none';\n",
              "\n",
              "        async function convertToInteractive(key) {\n",
              "          const element = document.querySelector('#df-19fe5deb-abc2-4719-b5e6-02888c7949fa');\n",
              "          const dataTable =\n",
              "            await google.colab.kernel.invokeFunction('convertToInteractive',\n",
              "                                                     [key], {});\n",
              "          if (!dataTable) return;\n",
              "\n",
              "          const docLinkHtml = 'Like what you see? Visit the ' +\n",
              "            '<a target=\"_blank\" href=https://colab.research.google.com/notebooks/data_table.ipynb>data table notebook</a>'\n",
              "            + ' to learn more about interactive tables.';\n",
              "          element.innerHTML = '';\n",
              "          dataTable['output_type'] = 'display_data';\n",
              "          await google.colab.output.renderOutput(dataTable, element);\n",
              "          const docLink = document.createElement('div');\n",
              "          docLink.innerHTML = docLinkHtml;\n",
              "          element.appendChild(docLink);\n",
              "        }\n",
              "      </script>\n",
              "    </div>\n",
              "  </div>\n",
              "  "
            ]
          },
          "metadata": {},
          "execution_count": 75
        }
      ]
    },
    {
      "cell_type": "code",
      "source": [
        "lending_co_data.loc[['LoanID_1', 'LoanID_6'], :]"
      ],
      "metadata": {
        "colab": {
          "base_uri": "https://localhost:8080/",
          "height": 143
        },
        "id": "0wP5nEWh1NJk",
        "outputId": "52dba684-133d-4502-8356-0d446862515b"
      },
      "execution_count": 76,
      "outputs": [
        {
          "output_type": "execute_result",
          "data": {
            "text/plain": [
              "          LoanID    Product CustomerGender     Location    Region  TotalPrice  \\\n",
              "StringID                                                                        \n",
              "LoanID_1       1  Product B         Female   Location 3  Region 2     17600.0   \n",
              "LoanID_6       6  Product A           Male  Location 34  Region 1         NaN   \n",
              "\n",
              "           StartDate  Deposit  DailyRate  TotalDaysYr  AmtPaid36  AmtPaid60  \\\n",
              "StringID                                                                      \n",
              "LoanID_1  04/07/2018     2200         45          365       3221       4166   \n",
              "LoanID_6  19/04/2019     2200         45          365       3301       4066   \n",
              "\n",
              "          AmtPaid360 LoanStatus  \n",
              "StringID                         \n",
              "LoanID_1       14621     Active  \n",
              "LoanID_6       15141     Active  "
            ],
            "text/html": [
              "\n",
              "  <div id=\"df-fdb40d7f-f7fa-454a-a90e-d5ea9271336b\">\n",
              "    <div class=\"colab-df-container\">\n",
              "      <div>\n",
              "<style scoped>\n",
              "    .dataframe tbody tr th:only-of-type {\n",
              "        vertical-align: middle;\n",
              "    }\n",
              "\n",
              "    .dataframe tbody tr th {\n",
              "        vertical-align: top;\n",
              "    }\n",
              "\n",
              "    .dataframe thead th {\n",
              "        text-align: right;\n",
              "    }\n",
              "</style>\n",
              "<table border=\"1\" class=\"dataframe\">\n",
              "  <thead>\n",
              "    <tr style=\"text-align: right;\">\n",
              "      <th></th>\n",
              "      <th>LoanID</th>\n",
              "      <th>Product</th>\n",
              "      <th>CustomerGender</th>\n",
              "      <th>Location</th>\n",
              "      <th>Region</th>\n",
              "      <th>TotalPrice</th>\n",
              "      <th>StartDate</th>\n",
              "      <th>Deposit</th>\n",
              "      <th>DailyRate</th>\n",
              "      <th>TotalDaysYr</th>\n",
              "      <th>AmtPaid36</th>\n",
              "      <th>AmtPaid60</th>\n",
              "      <th>AmtPaid360</th>\n",
              "      <th>LoanStatus</th>\n",
              "    </tr>\n",
              "    <tr>\n",
              "      <th>StringID</th>\n",
              "      <th></th>\n",
              "      <th></th>\n",
              "      <th></th>\n",
              "      <th></th>\n",
              "      <th></th>\n",
              "      <th></th>\n",
              "      <th></th>\n",
              "      <th></th>\n",
              "      <th></th>\n",
              "      <th></th>\n",
              "      <th></th>\n",
              "      <th></th>\n",
              "      <th></th>\n",
              "      <th></th>\n",
              "    </tr>\n",
              "  </thead>\n",
              "  <tbody>\n",
              "    <tr>\n",
              "      <th>LoanID_1</th>\n",
              "      <td>1</td>\n",
              "      <td>Product B</td>\n",
              "      <td>Female</td>\n",
              "      <td>Location 3</td>\n",
              "      <td>Region 2</td>\n",
              "      <td>17600.0</td>\n",
              "      <td>04/07/2018</td>\n",
              "      <td>2200</td>\n",
              "      <td>45</td>\n",
              "      <td>365</td>\n",
              "      <td>3221</td>\n",
              "      <td>4166</td>\n",
              "      <td>14621</td>\n",
              "      <td>Active</td>\n",
              "    </tr>\n",
              "    <tr>\n",
              "      <th>LoanID_6</th>\n",
              "      <td>6</td>\n",
              "      <td>Product A</td>\n",
              "      <td>Male</td>\n",
              "      <td>Location 34</td>\n",
              "      <td>Region 1</td>\n",
              "      <td>NaN</td>\n",
              "      <td>19/04/2019</td>\n",
              "      <td>2200</td>\n",
              "      <td>45</td>\n",
              "      <td>365</td>\n",
              "      <td>3301</td>\n",
              "      <td>4066</td>\n",
              "      <td>15141</td>\n",
              "      <td>Active</td>\n",
              "    </tr>\n",
              "  </tbody>\n",
              "</table>\n",
              "</div>\n",
              "      <button class=\"colab-df-convert\" onclick=\"convertToInteractive('df-fdb40d7f-f7fa-454a-a90e-d5ea9271336b')\"\n",
              "              title=\"Convert this dataframe to an interactive table.\"\n",
              "              style=\"display:none;\">\n",
              "        \n",
              "  <svg xmlns=\"http://www.w3.org/2000/svg\" height=\"24px\"viewBox=\"0 0 24 24\"\n",
              "       width=\"24px\">\n",
              "    <path d=\"M0 0h24v24H0V0z\" fill=\"none\"/>\n",
              "    <path d=\"M18.56 5.44l.94 2.06.94-2.06 2.06-.94-2.06-.94-.94-2.06-.94 2.06-2.06.94zm-11 1L8.5 8.5l.94-2.06 2.06-.94-2.06-.94L8.5 2.5l-.94 2.06-2.06.94zm10 10l.94 2.06.94-2.06 2.06-.94-2.06-.94-.94-2.06-.94 2.06-2.06.94z\"/><path d=\"M17.41 7.96l-1.37-1.37c-.4-.4-.92-.59-1.43-.59-.52 0-1.04.2-1.43.59L10.3 9.45l-7.72 7.72c-.78.78-.78 2.05 0 2.83L4 21.41c.39.39.9.59 1.41.59.51 0 1.02-.2 1.41-.59l7.78-7.78 2.81-2.81c.8-.78.8-2.07 0-2.86zM5.41 20L4 18.59l7.72-7.72 1.47 1.35L5.41 20z\"/>\n",
              "  </svg>\n",
              "      </button>\n",
              "      \n",
              "  <style>\n",
              "    .colab-df-container {\n",
              "      display:flex;\n",
              "      flex-wrap:wrap;\n",
              "      gap: 12px;\n",
              "    }\n",
              "\n",
              "    .colab-df-convert {\n",
              "      background-color: #E8F0FE;\n",
              "      border: none;\n",
              "      border-radius: 50%;\n",
              "      cursor: pointer;\n",
              "      display: none;\n",
              "      fill: #1967D2;\n",
              "      height: 32px;\n",
              "      padding: 0 0 0 0;\n",
              "      width: 32px;\n",
              "    }\n",
              "\n",
              "    .colab-df-convert:hover {\n",
              "      background-color: #E2EBFA;\n",
              "      box-shadow: 0px 1px 2px rgba(60, 64, 67, 0.3), 0px 1px 3px 1px rgba(60, 64, 67, 0.15);\n",
              "      fill: #174EA6;\n",
              "    }\n",
              "\n",
              "    [theme=dark] .colab-df-convert {\n",
              "      background-color: #3B4455;\n",
              "      fill: #D2E3FC;\n",
              "    }\n",
              "\n",
              "    [theme=dark] .colab-df-convert:hover {\n",
              "      background-color: #434B5C;\n",
              "      box-shadow: 0px 1px 3px 1px rgba(0, 0, 0, 0.15);\n",
              "      filter: drop-shadow(0px 1px 2px rgba(0, 0, 0, 0.3));\n",
              "      fill: #FFFFFF;\n",
              "    }\n",
              "  </style>\n",
              "\n",
              "      <script>\n",
              "        const buttonEl =\n",
              "          document.querySelector('#df-fdb40d7f-f7fa-454a-a90e-d5ea9271336b button.colab-df-convert');\n",
              "        buttonEl.style.display =\n",
              "          google.colab.kernel.accessAllowed ? 'block' : 'none';\n",
              "\n",
              "        async function convertToInteractive(key) {\n",
              "          const element = document.querySelector('#df-fdb40d7f-f7fa-454a-a90e-d5ea9271336b');\n",
              "          const dataTable =\n",
              "            await google.colab.kernel.invokeFunction('convertToInteractive',\n",
              "                                                     [key], {});\n",
              "          if (!dataTable) return;\n",
              "\n",
              "          const docLinkHtml = 'Like what you see? Visit the ' +\n",
              "            '<a target=\"_blank\" href=https://colab.research.google.com/notebooks/data_table.ipynb>data table notebook</a>'\n",
              "            + ' to learn more about interactive tables.';\n",
              "          element.innerHTML = '';\n",
              "          dataTable['output_type'] = 'display_data';\n",
              "          await google.colab.output.renderOutput(dataTable, element);\n",
              "          const docLink = document.createElement('div');\n",
              "          docLink.innerHTML = docLinkHtml;\n",
              "          element.appendChild(docLink);\n",
              "        }\n",
              "      </script>\n",
              "    </div>\n",
              "  </div>\n",
              "  "
            ]
          },
          "metadata": {},
          "execution_count": 76
        }
      ]
    },
    {
      "cell_type": "code",
      "source": [
        "# AVOID\n",
        "lending_co_data.TotalPrice['LoanID_1']"
      ],
      "metadata": {
        "colab": {
          "base_uri": "https://localhost:8080/"
        },
        "id": "KvLG25rL1OFG",
        "outputId": "1762a378-3a35-4c6f-d5be-5139ab18f1ee"
      },
      "execution_count": 77,
      "outputs": [
        {
          "output_type": "execute_result",
          "data": {
            "text/plain": [
              "17600.0"
            ]
          },
          "metadata": {},
          "execution_count": 77
        }
      ]
    },
    {
      "cell_type": "code",
      "source": [
        "# AVOID\n",
        "lending_co_data['TotalPrice'].iloc[[0, 5]]"
      ],
      "metadata": {
        "colab": {
          "base_uri": "https://localhost:8080/"
        },
        "id": "qOeIadWw1PLl",
        "outputId": "483f1145-6835-4b99-e1bf-7170390a4535"
      },
      "execution_count": 78,
      "outputs": [
        {
          "output_type": "execute_result",
          "data": {
            "text/plain": [
              "StringID\n",
              "LoanID_1    17600.0\n",
              "LoanID_6        NaN\n",
              "Name: TotalPrice, dtype: float64"
            ]
          },
          "metadata": {},
          "execution_count": 78
        }
      ]
    },
    {
      "cell_type": "code",
      "source": [
        "lending_co_data.loc[:, 'TotalPrice'].iloc[[0,5]]"
      ],
      "metadata": {
        "colab": {
          "base_uri": "https://localhost:8080/"
        },
        "id": "HLK9QVmw1QIN",
        "outputId": "54580d3d-a35b-445b-e145-7ab381891cfc"
      },
      "execution_count": 79,
      "outputs": [
        {
          "output_type": "execute_result",
          "data": {
            "text/plain": [
              "StringID\n",
              "LoanID_1    17600.0\n",
              "LoanID_6        NaN\n",
              "Name: TotalPrice, dtype: float64"
            ]
          },
          "metadata": {},
          "execution_count": 79
        }
      ]
    }
  ]
}