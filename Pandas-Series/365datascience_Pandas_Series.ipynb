{
  "nbformat": 4,
  "nbformat_minor": 0,
  "metadata": {
    "colab": {
      "provenance": []
    },
    "kernelspec": {
      "name": "python3",
      "display_name": "Python 3"
    },
    "language_info": {
      "name": "python"
    }
  },
  "cells": [
    {
      "cell_type": "markdown",
      "source": [
        "# Import Libraries"
      ],
      "metadata": {
        "id": "kq9hSIn8ZJPa"
      }
    },
    {
      "cell_type": "code",
      "execution_count": 1,
      "metadata": {
        "id": "R83PfBidVad7"
      },
      "outputs": [],
      "source": [
        "import pandas as pd\n",
        "import numpy as np"
      ]
    },
    {
      "cell_type": "markdown",
      "source": [
        "# pandas Series: .unique() & .nunique()"
      ],
      "metadata": {
        "id": "ektpUXuDo9lL"
      }
    },
    {
      "cell_type": "markdown",
      "source": [
        "## Loading Data"
      ],
      "metadata": {
        "id": "RdwW0z-So3Vz"
      }
    },
    {
      "cell_type": "code",
      "source": [
        "data = pd.read_csv('Location.csv', squeeze = True)\n",
        "location_data = data.copy()\n",
        "location_data.head()"
      ],
      "metadata": {
        "colab": {
          "base_uri": "https://localhost:8080/"
        },
        "id": "8OsFBruZo2yn",
        "outputId": "ee41f96f-10cc-4db6-e22a-c78da5d867df"
      },
      "execution_count": 2,
      "outputs": [
        {
          "output_type": "execute_result",
          "data": {
            "text/plain": [
              "0     Location 3\n",
              "1     Location 6\n",
              "2     Location 8\n",
              "3    Location 26\n",
              "4    Location 34\n",
              "Name: Location, dtype: object"
            ]
          },
          "metadata": {},
          "execution_count": 2
        }
      ]
    },
    {
      "cell_type": "code",
      "source": [
        "type(location_data)"
      ],
      "metadata": {
        "colab": {
          "base_uri": "https://localhost:8080/"
        },
        "id": "F4Gi3yiso--G",
        "outputId": "abb5cfd2-6b5a-418c-d1fb-305d8a27dcae"
      },
      "execution_count": 3,
      "outputs": [
        {
          "output_type": "execute_result",
          "data": {
            "text/plain": [
              "pandas.core.series.Series"
            ]
          },
          "metadata": {},
          "execution_count": 3
        }
      ]
    },
    {
      "cell_type": "code",
      "source": [
        "location_data.describe()"
      ],
      "metadata": {
        "colab": {
          "base_uri": "https://localhost:8080/"
        },
        "id": "rAu5dWsJpAdS",
        "outputId": "5604068d-4737-4ccc-82b0-8955b2dd8aab"
      },
      "execution_count": 4,
      "outputs": [
        {
          "output_type": "execute_result",
          "data": {
            "text/plain": [
              "count            1043\n",
              "unique            296\n",
              "top       Location 25\n",
              "freq               31\n",
              "Name: Location, dtype: object"
            ]
          },
          "metadata": {},
          "execution_count": 4
        }
      ]
    },
    {
      "cell_type": "code",
      "source": [
        "location_data.shape"
      ],
      "metadata": {
        "colab": {
          "base_uri": "https://localhost:8080/"
        },
        "id": "PckJVDQupBfj",
        "outputId": "b20d5e97-2696-4a4a-fd8a-9f1ffad94be3"
      },
      "execution_count": 6,
      "outputs": [
        {
          "output_type": "execute_result",
          "data": {
            "text/plain": [
              "(1043,)"
            ]
          },
          "metadata": {},
          "execution_count": 6
        }
      ]
    },
    {
      "cell_type": "code",
      "source": [
        "location_data.nunique()"
      ],
      "metadata": {
        "colab": {
          "base_uri": "https://localhost:8080/"
        },
        "id": "661DcHnupCO-",
        "outputId": "640689a5-200c-41f9-cfdd-94cf9254d5d9"
      },
      "execution_count": 7,
      "outputs": [
        {
          "output_type": "execute_result",
          "data": {
            "text/plain": [
              "296"
            ]
          },
          "metadata": {},
          "execution_count": 7
        }
      ]
    },
    {
      "cell_type": "code",
      "source": [
        "len(location_data.unique())"
      ],
      "metadata": {
        "colab": {
          "base_uri": "https://localhost:8080/"
        },
        "id": "OItOcGQVpMIz",
        "outputId": "2ff89824-f571-4ce9-bd9f-09e8deba46a3"
      },
      "execution_count": 11,
      "outputs": [
        {
          "output_type": "execute_result",
          "data": {
            "text/plain": [
              "296"
            ]
          },
          "metadata": {},
          "execution_count": 11
        }
      ]
    },
    {
      "cell_type": "code",
      "source": [
        "location_data.unique()"
      ],
      "metadata": {
        "colab": {
          "base_uri": "https://localhost:8080/"
        },
        "id": "CGDOl42mpIbJ",
        "outputId": "ca200dae-1525-4faa-956b-291559bd0681"
      },
      "execution_count": 12,
      "outputs": [
        {
          "output_type": "execute_result",
          "data": {
            "text/plain": [
              "array(['Location 3', 'Location 6', 'Location 8', 'Location 26',\n",
              "       'Location 34', 'Location 25', 'Location 46', 'Location 156',\n",
              "       'Location 21', 'Location 13', 'Location 579', 'Location 602',\n",
              "       'Location 10', 'Location 44', 'Location 30', 'Location 48',\n",
              "       'Location 196', 'Location 64', 'Location 91', 'Location 62',\n",
              "       'Location 75', 'Location 42', 'Location 233', 'Location 95',\n",
              "       'Location 78', 'Location 61', 'Location 87', 'Location 19',\n",
              "       'Location 115', 'Location 350', 'Location 377', 'Location 17',\n",
              "       'Location 113', 'Location 81', 'Location 58', 'Location 212',\n",
              "       'Location 53', 'Location 337', 'Location 41', 'Location 632',\n",
              "       'Location 73', 'Location 214', 'Location 218', 'Location 38',\n",
              "       'Location 172', 'Location 197', 'Location 101', 'Location 185',\n",
              "       'Location 129', 'Location 235', 'Location 142', 'Location 50',\n",
              "       'Location 76', 'Location 11', 'Location 33', 'Location 22',\n",
              "       'Location 145', 'Location 203', 'Location 94', 'Location 573',\n",
              "       'Location 27', 'Location 186', 'Location 4', 'Location 70',\n",
              "       'Location 45', 'Location 262', 'Location 111', 'Location 84',\n",
              "       'Location 108', 'Location 7', 'Location 74', 'Location 450',\n",
              "       'Location 47', 'Location 37', 'Location 43', 'Location 286',\n",
              "       'Location 89', 'Location 24', 'Location 97', 'Location 144',\n",
              "       'Location 40', 'Location 128', 'Location 169', 'Location 399',\n",
              "       'Location 23', 'Location 191', 'Location 178', 'Location 510',\n",
              "       'Location 600', 'Location 188', 'Location 67', 'Location 49',\n",
              "       'Location 29', 'Location 222', 'Location 386', 'Location 88',\n",
              "       'Location 104', 'Location 405', 'Location 114', 'Location 259',\n",
              "       'Location 182', 'Location 12', 'Location 228', 'Location 149',\n",
              "       'Location 90', 'Location 109', 'Location 441', 'Location 421',\n",
              "       'Location 641', 'Location 195', 'Location 20', 'Location 161',\n",
              "       'Location 117', 'Location 200', 'Location 106', 'Location 31',\n",
              "       'Location 122', 'Location 541', 'Location 495', 'Location 193',\n",
              "       'Location 39', 'Location 9', 'Location 86', 'Location 107',\n",
              "       'Location 198', 'Location 318', 'Location 135', 'Location 177',\n",
              "       'Location 32', 'Location 591', 'Location 488', 'Location 418',\n",
              "       'Location 587', 'Location 454', 'Location 543', 'Location 489',\n",
              "       'Location 60', 'Location 52', 'Location 548', 'Location 15',\n",
              "       'Location 240', 'Location 658', 'Location 209', 'Location 151',\n",
              "       'Location 192', 'Location 364', 'Location 18', 'Location 503',\n",
              "       'Location 482', 'Location 460', 'Location 71', 'Location 69',\n",
              "       'Location 258', 'Location 204', 'Location 124', 'Location 168',\n",
              "       'Location 35', 'Location 296', 'Location 136', 'Location 28',\n",
              "       'Location 153', 'Location 99', 'Location 132', 'Location 427',\n",
              "       'Location 118', 'Location 127', 'Location 159', 'Location 154',\n",
              "       'Location 175', 'Location 120', 'Location 82', 'Location 152',\n",
              "       'Location 56', 'Location 282', 'Location 566', 'Location 365',\n",
              "       'Location 353', 'Location 66', 'Location 2', 'Location 323',\n",
              "       'Location 473', 'Location 206', 'Location 57', 'Location 68',\n",
              "       'Location 166', 'Location 1', 'Location 227', 'Location 79',\n",
              "       'Location 642', 'Location 105', 'Location 644', 'Location 547',\n",
              "       'Location 637', 'Location 59', 'Location 574', 'Location 529',\n",
              "       'Location 554', 'Location 275', 'Location 589', 'Location 160',\n",
              "       'Location 410', 'Location 146', 'Location 221', 'Location 265',\n",
              "       'Location 569', 'Location 157', 'Location 648', 'Location 165',\n",
              "       'Location 651', 'Location 266', 'Location 77', 'Location 158',\n",
              "       'Location 336', 'Location 72', 'Location 463', 'Location 253',\n",
              "       'Location 5', 'Location 431', 'Location 515', 'Location 226',\n",
              "       'Location 140', 'Location 110', 'Location 202', 'Location 634',\n",
              "       'Location 138', 'Location 217', 'Location 443', 'Location 627',\n",
              "       'Location 123', 'Location 528', 'Location 357', 'Location 187',\n",
              "       'Location 315', 'Location 112', 'Location 302', 'Location 194',\n",
              "       'Location 332', 'Location 208', 'Location 179', 'Location 199',\n",
              "       'Location 201', 'Location 174', 'Location 474', 'Location 184',\n",
              "       'Location 63', 'Location 512', 'Location 403', 'Location 436',\n",
              "       'Location 210', 'Location 468', 'Location 464', 'Location 98',\n",
              "       'Location 102', 'Location 325', 'Location 267', 'Location 173',\n",
              "       'Location 617', 'Location 141', 'Location 300', 'Location 216',\n",
              "       'Location 506', 'Location 647', 'Location 402', 'Location 239',\n",
              "       'Location 54', 'Location 137', 'Location 477', 'Location 586',\n",
              "       'Location 472', 'Location 374', 'Location 458', 'Location 180',\n",
              "       'Location 653', 'Location 16', 'Location 612', 'Location 505',\n",
              "       'Location 631', 'Location 299', 'Location 65', 'Location 342',\n",
              "       'Location 155', 'Location 511', 'Location 461', 'Location 244',\n",
              "       'Location 207', 'Location 597', 'Location 352', 'Location 533',\n",
              "       'Location 384', 'Location 80', 'Location 171', 'Location 143',\n",
              "       'Location 576', 'Location 139', 'Location 125', 'Location 181'],\n",
              "      dtype=object)"
            ]
          },
          "metadata": {},
          "execution_count": 12
        }
      ]
    },
    {
      "cell_type": "code",
      "source": [
        "type(location_data.unique())"
      ],
      "metadata": {
        "colab": {
          "base_uri": "https://localhost:8080/"
        },
        "id": "xF29QRxGpKhV",
        "outputId": "b699c085-ae9e-4e72-c477-81aa6683f09d"
      },
      "execution_count": 13,
      "outputs": [
        {
          "output_type": "execute_result",
          "data": {
            "text/plain": [
              "numpy.ndarray"
            ]
          },
          "metadata": {},
          "execution_count": 13
        }
      ]
    },
    {
      "cell_type": "markdown",
      "source": [
        "# pandas Series: Converting Series into Arrays (.values, .array, .to_numpy())"
      ],
      "metadata": {
        "id": "W5UdmjaHpYXT"
      }
    },
    {
      "cell_type": "code",
      "source": [
        "prices_per_category = pd.Series({'Product A': 22250, 'Product B' : 16600, 'Product C':15600})\n",
        "prices_per_category"
      ],
      "metadata": {
        "colab": {
          "base_uri": "https://localhost:8080/"
        },
        "id": "7GywH07BpV6o",
        "outputId": "ce864c5b-8d9b-4400-f96e-084573a4fe42"
      },
      "execution_count": 14,
      "outputs": [
        {
          "output_type": "execute_result",
          "data": {
            "text/plain": [
              "Product A    22250\n",
              "Product B    16600\n",
              "Product C    15600\n",
              "dtype: int64"
            ]
          },
          "metadata": {},
          "execution_count": 14
        }
      ]
    },
    {
      "cell_type": "code",
      "source": [
        "prices_per_category.values"
      ],
      "metadata": {
        "colab": {
          "base_uri": "https://localhost:8080/"
        },
        "id": "SeJQRuIIpaAN",
        "outputId": "007a4cb0-3ef8-4651-a99b-5c1c5806c1a8"
      },
      "execution_count": 15,
      "outputs": [
        {
          "output_type": "execute_result",
          "data": {
            "text/plain": [
              "array([22250, 16600, 15600])"
            ]
          },
          "metadata": {},
          "execution_count": 15
        }
      ]
    },
    {
      "cell_type": "code",
      "source": [
        "type(prices_per_category.values)"
      ],
      "metadata": {
        "colab": {
          "base_uri": "https://localhost:8080/"
        },
        "id": "oDgEZXlTpbNb",
        "outputId": "93342c66-0c69-4d2d-c6cc-3296054c674a"
      },
      "execution_count": 16,
      "outputs": [
        {
          "output_type": "execute_result",
          "data": {
            "text/plain": [
              "numpy.ndarray"
            ]
          },
          "metadata": {},
          "execution_count": 16
        }
      ]
    },
    {
      "cell_type": "code",
      "source": [
        "prices_per_category.array"
      ],
      "metadata": {
        "colab": {
          "base_uri": "https://localhost:8080/"
        },
        "id": "ncw8RJZdpcgi",
        "outputId": "e1cd9bef-98f1-4154-8e26-2026397def48"
      },
      "execution_count": 17,
      "outputs": [
        {
          "output_type": "execute_result",
          "data": {
            "text/plain": [
              "<PandasArray>\n",
              "[22250, 16600, 15600]\n",
              "Length: 3, dtype: int64"
            ]
          },
          "metadata": {},
          "execution_count": 17
        }
      ]
    },
    {
      "cell_type": "code",
      "source": [
        "type(prices_per_category.array)"
      ],
      "metadata": {
        "colab": {
          "base_uri": "https://localhost:8080/"
        },
        "id": "5ZUn6rNdpdkj",
        "outputId": "fc9d1a78-9cdc-49b3-ce4e-6b60ad7a22d4"
      },
      "execution_count": 18,
      "outputs": [
        {
          "output_type": "execute_result",
          "data": {
            "text/plain": [
              "pandas.core.arrays.numpy_.PandasArray"
            ]
          },
          "metadata": {},
          "execution_count": 18
        }
      ]
    },
    {
      "cell_type": "code",
      "source": [
        "prices_per_category.to_numpy()"
      ],
      "metadata": {
        "colab": {
          "base_uri": "https://localhost:8080/"
        },
        "id": "1TzsVFC4pgsy",
        "outputId": "dcd93b40-bf8b-46e7-bf60-c9be3aa13d1f"
      },
      "execution_count": 19,
      "outputs": [
        {
          "output_type": "execute_result",
          "data": {
            "text/plain": [
              "array([22250, 16600, 15600])"
            ]
          },
          "metadata": {},
          "execution_count": 19
        }
      ]
    },
    {
      "cell_type": "code",
      "source": [
        "type(prices_per_category.to_numpy())"
      ],
      "metadata": {
        "colab": {
          "base_uri": "https://localhost:8080/"
        },
        "id": "gTMPelfEpiEf",
        "outputId": "dfd2b019-6685-4198-9e66-1184d7456350"
      },
      "execution_count": 20,
      "outputs": [
        {
          "output_type": "execute_result",
          "data": {
            "text/plain": [
              "numpy.ndarray"
            ]
          },
          "metadata": {},
          "execution_count": 20
        }
      ]
    },
    {
      "cell_type": "code",
      "source": [
        "test_array = prices_per_category[['Product A', 'Product B']].to_numpy(dtype='float')\n",
        "test_array"
      ],
      "metadata": {
        "colab": {
          "base_uri": "https://localhost:8080/"
        },
        "id": "UzIPeipqpj_A",
        "outputId": "8604acfd-fa8f-46ca-9220-164efc8abbf8"
      },
      "execution_count": 21,
      "outputs": [
        {
          "output_type": "execute_result",
          "data": {
            "text/plain": [
              "array([22250., 16600.])"
            ]
          },
          "metadata": {},
          "execution_count": 21
        }
      ]
    },
    {
      "cell_type": "code",
      "source": [
        "test_array[0]"
      ],
      "metadata": {
        "colab": {
          "base_uri": "https://localhost:8080/"
        },
        "id": "sAJgNtswpm6E",
        "outputId": "ebddb7e1-509a-47e6-9064-e5f7b7fc4345"
      },
      "execution_count": 23,
      "outputs": [
        {
          "output_type": "execute_result",
          "data": {
            "text/plain": [
              "22250.0"
            ]
          },
          "metadata": {},
          "execution_count": 23
        }
      ]
    },
    {
      "cell_type": "code",
      "source": [
        "type(test_array[0])"
      ],
      "metadata": {
        "colab": {
          "base_uri": "https://localhost:8080/"
        },
        "id": "9njItbAjpowY",
        "outputId": "1636b2b9-ccda-4af8-97af-768c4ab0f0cb"
      },
      "execution_count": 24,
      "outputs": [
        {
          "output_type": "execute_result",
          "data": {
            "text/plain": [
              "numpy.float64"
            ]
          },
          "metadata": {},
          "execution_count": 24
        }
      ]
    },
    {
      "cell_type": "code",
      "source": [
        "prices_per_category.values[0]"
      ],
      "metadata": {
        "colab": {
          "base_uri": "https://localhost:8080/"
        },
        "id": "NcF6RTC8prGf",
        "outputId": "aa910383-2fe1-4d84-b183-7861f7522fcc"
      },
      "execution_count": 25,
      "outputs": [
        {
          "output_type": "execute_result",
          "data": {
            "text/plain": [
              "22250"
            ]
          },
          "metadata": {},
          "execution_count": 25
        }
      ]
    },
    {
      "cell_type": "code",
      "source": [
        "type(prices_per_category.values[0])"
      ],
      "metadata": {
        "colab": {
          "base_uri": "https://localhost:8080/"
        },
        "id": "Vb_EIqbnqE3S",
        "outputId": "b472912c-e72d-4549-b122-7cabba7c3070"
      },
      "execution_count": 26,
      "outputs": [
        {
          "output_type": "execute_result",
          "data": {
            "text/plain": [
              "numpy.int64"
            ]
          },
          "metadata": {},
          "execution_count": 26
        }
      ]
    },
    {
      "cell_type": "code",
      "source": [
        "prices_per_category.array[0]"
      ],
      "metadata": {
        "colab": {
          "base_uri": "https://localhost:8080/"
        },
        "id": "ApdCcQiLqIR8",
        "outputId": "deb29a72-c503-45f9-9b60-7e71e3472f17"
      },
      "execution_count": 27,
      "outputs": [
        {
          "output_type": "execute_result",
          "data": {
            "text/plain": [
              "22250"
            ]
          },
          "metadata": {},
          "execution_count": 27
        }
      ]
    },
    {
      "cell_type": "code",
      "source": [
        "type(prices_per_category.array[0])"
      ],
      "metadata": {
        "colab": {
          "base_uri": "https://localhost:8080/"
        },
        "id": "Dio964-2qJhi",
        "outputId": "90c4f7a7-3787-403e-84a4-8ae7c7064b47"
      },
      "execution_count": 28,
      "outputs": [
        {
          "output_type": "execute_result",
          "data": {
            "text/plain": [
              "numpy.int64"
            ]
          },
          "metadata": {},
          "execution_count": 28
        }
      ]
    },
    {
      "cell_type": "code",
      "source": [
        "prices_per_category.to_numpy()[0]"
      ],
      "metadata": {
        "colab": {
          "base_uri": "https://localhost:8080/"
        },
        "id": "PjpZiTsCqMDY",
        "outputId": "a9d0ad50-f58f-4d7b-d231-43940142ea11"
      },
      "execution_count": 29,
      "outputs": [
        {
          "output_type": "execute_result",
          "data": {
            "text/plain": [
              "22250"
            ]
          },
          "metadata": {},
          "execution_count": 29
        }
      ]
    },
    {
      "cell_type": "code",
      "source": [
        "type(prices_per_category.to_numpy()[0])"
      ],
      "metadata": {
        "colab": {
          "base_uri": "https://localhost:8080/"
        },
        "id": "pWTUJwZ-qM0g",
        "outputId": "d47b44a6-fbac-4e7d-9c7f-c45da99f16c7"
      },
      "execution_count": 30,
      "outputs": [
        {
          "output_type": "execute_result",
          "data": {
            "text/plain": [
              "numpy.int64"
            ]
          },
          "metadata": {},
          "execution_count": 30
        }
      ]
    },
    {
      "cell_type": "markdown",
      "source": [
        "# pandas Series: .sort_values()"
      ],
      "metadata": {
        "id": "xgFgO5_mqPEs"
      }
    },
    {
      "cell_type": "code",
      "source": [
        "numbers = pd.Series([15, 1000, 23, 45, 444])\n",
        "numbers"
      ],
      "metadata": {
        "colab": {
          "base_uri": "https://localhost:8080/"
        },
        "id": "SioYWbaKqNzl",
        "outputId": "a0f8c241-cea6-4f60-cfae-c1db5b4bd8b9"
      },
      "execution_count": 31,
      "outputs": [
        {
          "output_type": "execute_result",
          "data": {
            "text/plain": [
              "0      15\n",
              "1    1000\n",
              "2      23\n",
              "3      45\n",
              "4     444\n",
              "dtype: int64"
            ]
          },
          "metadata": {},
          "execution_count": 31
        }
      ]
    },
    {
      "cell_type": "code",
      "source": [
        "numbers.sort_values()"
      ],
      "metadata": {
        "colab": {
          "base_uri": "https://localhost:8080/"
        },
        "id": "ILBe_Z-EqRC4",
        "outputId": "02064ba6-607a-4c89-e7bf-2300efd00756"
      },
      "execution_count": 32,
      "outputs": [
        {
          "output_type": "execute_result",
          "data": {
            "text/plain": [
              "0      15\n",
              "2      23\n",
              "3      45\n",
              "4     444\n",
              "1    1000\n",
              "dtype: int64"
            ]
          },
          "metadata": {},
          "execution_count": 32
        }
      ]
    },
    {
      "cell_type": "code",
      "source": [
        "numbers.sort_values(ascending=True)"
      ],
      "metadata": {
        "colab": {
          "base_uri": "https://localhost:8080/"
        },
        "id": "TgrkWWEGqS0w",
        "outputId": "38b2f98c-a7f6-4a3c-9d9b-e8389a8ae863"
      },
      "execution_count": 33,
      "outputs": [
        {
          "output_type": "execute_result",
          "data": {
            "text/plain": [
              "0      15\n",
              "2      23\n",
              "3      45\n",
              "4     444\n",
              "1    1000\n",
              "dtype: int64"
            ]
          },
          "metadata": {},
          "execution_count": 33
        }
      ]
    },
    {
      "cell_type": "code",
      "source": [
        "numbers.sort_values(ascending=False)"
      ],
      "metadata": {
        "colab": {
          "base_uri": "https://localhost:8080/"
        },
        "id": "QuqD6_10qTo1",
        "outputId": "58dd3ef4-de53-4400-8cc5-e71373a8dff3"
      },
      "execution_count": 34,
      "outputs": [
        {
          "output_type": "execute_result",
          "data": {
            "text/plain": [
              "1    1000\n",
              "4     444\n",
              "3      45\n",
              "2      23\n",
              "0      15\n",
              "dtype: int64"
            ]
          },
          "metadata": {},
          "execution_count": 34
        }
      ]
    },
    {
      "cell_type": "markdown",
      "source": [
        "## Loading Data"
      ],
      "metadata": {
        "id": "LjmtJYHTqWzj"
      }
    },
    {
      "cell_type": "code",
      "source": [
        "data = pd.read_csv('Location.csv', squeeze = True)\n",
        "location_data = data.copy()\n",
        "location_data.head()"
      ],
      "metadata": {
        "colab": {
          "base_uri": "https://localhost:8080/"
        },
        "id": "6sTBpJbqqUYd",
        "outputId": "083f3ba9-bba3-46f8-d2ef-0f89066fdcc5"
      },
      "execution_count": 35,
      "outputs": [
        {
          "output_type": "execute_result",
          "data": {
            "text/plain": [
              "0     Location 3\n",
              "1     Location 6\n",
              "2     Location 8\n",
              "3    Location 26\n",
              "4    Location 34\n",
              "Name: Location, dtype: object"
            ]
          },
          "metadata": {},
          "execution_count": 35
        }
      ]
    },
    {
      "cell_type": "code",
      "source": [
        "location_data.sort_values()"
      ],
      "metadata": {
        "colab": {
          "base_uri": "https://localhost:8080/"
        },
        "id": "Q_Abe56Nqad5",
        "outputId": "ee19b2d6-e155-4747-d0a8-d440e5c10057"
      },
      "execution_count": 36,
      "outputs": [
        {
          "output_type": "execute_result",
          "data": {
            "text/plain": [
              "637     Location 1\n",
              "884     Location 1\n",
              "465     Location 1\n",
              "716    Location 10\n",
              "623    Location 10\n",
              "          ...     \n",
              "482    Location 97\n",
              "128    Location 97\n",
              "669    Location 97\n",
              "757    Location 98\n",
              "372    Location 99\n",
              "Name: Location, Length: 1043, dtype: object"
            ]
          },
          "metadata": {},
          "execution_count": 36
        }
      ]
    },
    {
      "cell_type": "code",
      "source": [
        "location_data.sort_values(ascending=True)"
      ],
      "metadata": {
        "colab": {
          "base_uri": "https://localhost:8080/"
        },
        "id": "TnMUSOtnqbNR",
        "outputId": "2a526041-51bb-4e8d-87b8-d7adf08b366d"
      },
      "execution_count": 37,
      "outputs": [
        {
          "output_type": "execute_result",
          "data": {
            "text/plain": [
              "637     Location 1\n",
              "884     Location 1\n",
              "465     Location 1\n",
              "716    Location 10\n",
              "623    Location 10\n",
              "          ...     \n",
              "482    Location 97\n",
              "128    Location 97\n",
              "669    Location 97\n",
              "757    Location 98\n",
              "372    Location 99\n",
              "Name: Location, Length: 1043, dtype: object"
            ]
          },
          "metadata": {},
          "execution_count": 37
        }
      ]
    },
    {
      "cell_type": "code",
      "source": [
        "location_data.sort_values(ascending=False)"
      ],
      "metadata": {
        "colab": {
          "base_uri": "https://localhost:8080/"
        },
        "id": "sTtBjIL5qcCh",
        "outputId": "91e53151-8a1c-40f7-82c8-6c172f44223a"
      },
      "execution_count": 38,
      "outputs": [
        {
          "output_type": "execute_result",
          "data": {
            "text/plain": [
              "372    Location 99\n",
              "757    Location 98\n",
              "128    Location 97\n",
              "482    Location 97\n",
              "271    Location 97\n",
              "          ...     \n",
              "202    Location 10\n",
              "298    Location 10\n",
              "637     Location 1\n",
              "884     Location 1\n",
              "465     Location 1\n",
              "Name: Location, Length: 1043, dtype: object"
            ]
          },
          "metadata": {},
          "execution_count": 38
        }
      ]
    },
    {
      "cell_type": "markdown",
      "source": [
        "# Attribute and Method Chaining"
      ],
      "metadata": {
        "id": "rBKrR-pDqeZU"
      }
    },
    {
      "cell_type": "markdown",
      "source": [
        "## Loading Data"
      ],
      "metadata": {
        "id": "oVhRRiBgqgg7"
      }
    },
    {
      "cell_type": "code",
      "source": [
        "data = pd.read_csv('Location.csv', squeeze = True)\n",
        "location_data = data.copy()\n",
        "location_data.head()"
      ],
      "metadata": {
        "colab": {
          "base_uri": "https://localhost:8080/"
        },
        "id": "mz46tov5qc5A",
        "outputId": "07f41e2d-b8dc-46a2-fa1b-f0834b0b6d4a"
      },
      "execution_count": 39,
      "outputs": [
        {
          "output_type": "execute_result",
          "data": {
            "text/plain": [
              "0     Location 3\n",
              "1     Location 6\n",
              "2     Location 8\n",
              "3    Location 26\n",
              "4    Location 34\n",
              "Name: Location, dtype: object"
            ]
          },
          "metadata": {},
          "execution_count": 39
        }
      ]
    },
    {
      "cell_type": "code",
      "source": [
        "location_data.index"
      ],
      "metadata": {
        "colab": {
          "base_uri": "https://localhost:8080/"
        },
        "id": "A47Dflr0qiI1",
        "outputId": "1cbd689d-de3c-47b1-fa2e-6c5e5447b414"
      },
      "execution_count": 40,
      "outputs": [
        {
          "output_type": "execute_result",
          "data": {
            "text/plain": [
              "RangeIndex(start=0, stop=1043, step=1)"
            ]
          },
          "metadata": {},
          "execution_count": 40
        }
      ]
    },
    {
      "cell_type": "code",
      "source": [
        "location_data.name"
      ],
      "metadata": {
        "colab": {
          "base_uri": "https://localhost:8080/",
          "height": 35
        },
        "id": "YMBWEzB7qi_6",
        "outputId": "903d43c8-60ac-4f48-d3e6-e582a0f4dc97"
      },
      "execution_count": 41,
      "outputs": [
        {
          "output_type": "execute_result",
          "data": {
            "text/plain": [
              "'Location'"
            ],
            "application/vnd.google.colaboratory.intrinsic+json": {
              "type": "string"
            }
          },
          "metadata": {},
          "execution_count": 41
        }
      ]
    },
    {
      "cell_type": "code",
      "source": [
        "location_data.index.name"
      ],
      "metadata": {
        "id": "7prtme8pqknJ"
      },
      "execution_count": 42,
      "outputs": []
    },
    {
      "cell_type": "code",
      "source": [
        "location_data.index.name = 'Index'"
      ],
      "metadata": {
        "id": "AHaAcT45ql34"
      },
      "execution_count": 43,
      "outputs": []
    },
    {
      "cell_type": "code",
      "source": [
        "location_data.index.name"
      ],
      "metadata": {
        "colab": {
          "base_uri": "https://localhost:8080/",
          "height": 35
        },
        "id": "KBpviRyfqmpP",
        "outputId": "b1c18d2b-79e4-4f0b-dd75-24f7c69b7327"
      },
      "execution_count": 44,
      "outputs": [
        {
          "output_type": "execute_result",
          "data": {
            "text/plain": [
              "'Index'"
            ],
            "application/vnd.google.colaboratory.intrinsic+json": {
              "type": "string"
            }
          },
          "metadata": {},
          "execution_count": 44
        }
      ]
    },
    {
      "cell_type": "code",
      "source": [
        "location_data"
      ],
      "metadata": {
        "colab": {
          "base_uri": "https://localhost:8080/"
        },
        "id": "Pk_n5PinqoV9",
        "outputId": "605803bd-e2f2-46e4-98ec-11a82e31e963"
      },
      "execution_count": 45,
      "outputs": [
        {
          "output_type": "execute_result",
          "data": {
            "text/plain": [
              "Index\n",
              "0        Location 3\n",
              "1        Location 6\n",
              "2        Location 8\n",
              "3       Location 26\n",
              "4       Location 34\n",
              "           ...     \n",
              "1038    Location 73\n",
              "1039    Location 82\n",
              "1040    Location 11\n",
              "1041    Location 26\n",
              "1042    Location 94\n",
              "Name: Location, Length: 1043, dtype: object"
            ]
          },
          "metadata": {},
          "execution_count": 45
        }
      ]
    },
    {
      "cell_type": "code",
      "source": [
        "location_data.sort_values()"
      ],
      "metadata": {
        "colab": {
          "base_uri": "https://localhost:8080/"
        },
        "id": "ENNI7-abqpEg",
        "outputId": "18934ee1-2107-48dc-988a-79b310d6d2e2"
      },
      "execution_count": 46,
      "outputs": [
        {
          "output_type": "execute_result",
          "data": {
            "text/plain": [
              "Index\n",
              "637     Location 1\n",
              "884     Location 1\n",
              "465     Location 1\n",
              "716    Location 10\n",
              "623    Location 10\n",
              "          ...     \n",
              "482    Location 97\n",
              "128    Location 97\n",
              "669    Location 97\n",
              "757    Location 98\n",
              "372    Location 99\n",
              "Name: Location, Length: 1043, dtype: object"
            ]
          },
          "metadata": {},
          "execution_count": 46
        }
      ]
    },
    {
      "cell_type": "code",
      "source": [
        "location_data.sort_values().head()"
      ],
      "metadata": {
        "colab": {
          "base_uri": "https://localhost:8080/"
        },
        "id": "xdBDmzjaqqI7",
        "outputId": "3bade4d9-d8a0-4451-8e36-2743047f5269"
      },
      "execution_count": 47,
      "outputs": [
        {
          "output_type": "execute_result",
          "data": {
            "text/plain": [
              "Index\n",
              "637     Location 1\n",
              "884     Location 1\n",
              "465     Location 1\n",
              "716    Location 10\n",
              "623    Location 10\n",
              "Name: Location, dtype: object"
            ]
          },
          "metadata": {},
          "execution_count": 47
        }
      ]
    },
    {
      "cell_type": "code",
      "source": [
        "location_data.index"
      ],
      "metadata": {
        "colab": {
          "base_uri": "https://localhost:8080/"
        },
        "id": "NIxRS-gTqrdt",
        "outputId": "fa778063-f11c-4aa2-c641-6aa9f0156ab3"
      },
      "execution_count": 48,
      "outputs": [
        {
          "output_type": "execute_result",
          "data": {
            "text/plain": [
              "RangeIndex(start=0, stop=1043, step=1, name='Index')"
            ]
          },
          "metadata": {},
          "execution_count": 48
        }
      ]
    },
    {
      "cell_type": "code",
      "source": [
        "location_data.index.to_numpy()"
      ],
      "metadata": {
        "colab": {
          "base_uri": "https://localhost:8080/"
        },
        "id": "R6LMS-doqs_N",
        "outputId": "c6c2daae-405c-462e-d8d4-4d6af985d410"
      },
      "execution_count": 49,
      "outputs": [
        {
          "output_type": "execute_result",
          "data": {
            "text/plain": [
              "array([   0,    1,    2, ..., 1040, 1041, 1042])"
            ]
          },
          "metadata": {},
          "execution_count": 49
        }
      ]
    },
    {
      "cell_type": "markdown",
      "source": [
        "# pandas Series: .sort_index() "
      ],
      "metadata": {
        "id": "PAFWjI-4qwcD"
      }
    },
    {
      "cell_type": "markdown",
      "source": [
        "## Loading Data"
      ],
      "metadata": {
        "id": "lhTqFkazqyED"
      }
    },
    {
      "cell_type": "code",
      "source": [
        "data = pd.read_csv('Location.csv', squeeze = True)\n",
        "location_data = data.copy()\n",
        "location_data.head()"
      ],
      "metadata": {
        "colab": {
          "base_uri": "https://localhost:8080/"
        },
        "id": "5raxBtn9qu6Z",
        "outputId": "ea65ba6b-fabe-433e-9d6a-564a229ff968"
      },
      "execution_count": 50,
      "outputs": [
        {
          "output_type": "execute_result",
          "data": {
            "text/plain": [
              "0     Location 3\n",
              "1     Location 6\n",
              "2     Location 8\n",
              "3    Location 26\n",
              "4    Location 34\n",
              "Name: Location, dtype: object"
            ]
          },
          "metadata": {},
          "execution_count": 50
        }
      ]
    },
    {
      "cell_type": "code",
      "source": [
        "location_data.sort_values(ascending=False)"
      ],
      "metadata": {
        "colab": {
          "base_uri": "https://localhost:8080/"
        },
        "id": "_dKXMYfDqzwN",
        "outputId": "dd21901b-b60e-42c0-9c74-934dca5b8985"
      },
      "execution_count": 51,
      "outputs": [
        {
          "output_type": "execute_result",
          "data": {
            "text/plain": [
              "372    Location 99\n",
              "757    Location 98\n",
              "128    Location 97\n",
              "482    Location 97\n",
              "271    Location 97\n",
              "          ...     \n",
              "202    Location 10\n",
              "298    Location 10\n",
              "637     Location 1\n",
              "884     Location 1\n",
              "465     Location 1\n",
              "Name: Location, Length: 1043, dtype: object"
            ]
          },
          "metadata": {},
          "execution_count": 51
        }
      ]
    },
    {
      "cell_type": "code",
      "source": [
        "location_data_sv = location_data.sort_values(ascending=False)\n",
        "location_data_sv.head()"
      ],
      "metadata": {
        "colab": {
          "base_uri": "https://localhost:8080/"
        },
        "id": "TH2c6nwjq0oj",
        "outputId": "a9413f56-68ad-4d85-dea6-49a9eaa557bc"
      },
      "execution_count": 52,
      "outputs": [
        {
          "output_type": "execute_result",
          "data": {
            "text/plain": [
              "372    Location 99\n",
              "757    Location 98\n",
              "128    Location 97\n",
              "482    Location 97\n",
              "271    Location 97\n",
              "Name: Location, dtype: object"
            ]
          },
          "metadata": {},
          "execution_count": 52
        }
      ]
    },
    {
      "cell_type": "code",
      "source": [
        "location_data_sv.index"
      ],
      "metadata": {
        "colab": {
          "base_uri": "https://localhost:8080/"
        },
        "id": "Ku0WGpQXq2DK",
        "outputId": "a1024f30-d927-46e9-c3e8-00aae4f19c8f"
      },
      "execution_count": 53,
      "outputs": [
        {
          "output_type": "execute_result",
          "data": {
            "text/plain": [
              "Int64Index([ 372,  757,  128,  482,  271,  669,  612,   29,  518,  598,\n",
              "            ...\n",
              "             904,  912, 1010,   14,  716,  202,  298,  637,  884,  465],\n",
              "           dtype='int64', length=1043)"
            ]
          },
          "metadata": {},
          "execution_count": 53
        }
      ]
    },
    {
      "cell_type": "code",
      "source": [
        "location_data_sv.index.sort_values()"
      ],
      "metadata": {
        "colab": {
          "base_uri": "https://localhost:8080/"
        },
        "id": "PbwX7FWjq8cA",
        "outputId": "a57c0bc5-bfbd-4c9b-df4a-4a9f40b0aebc"
      },
      "execution_count": 54,
      "outputs": [
        {
          "output_type": "execute_result",
          "data": {
            "text/plain": [
              "Int64Index([   0,    1,    2,    3,    4,    5,    6,    7,    8,    9,\n",
              "            ...\n",
              "            1033, 1034, 1035, 1036, 1037, 1038, 1039, 1040, 1041, 1042],\n",
              "           dtype='int64', length=1043)"
            ]
          },
          "metadata": {},
          "execution_count": 54
        }
      ]
    },
    {
      "cell_type": "code",
      "source": [
        "location_data_sv.head()"
      ],
      "metadata": {
        "colab": {
          "base_uri": "https://localhost:8080/"
        },
        "id": "2q9zExibrBSE",
        "outputId": "c602be03-4fde-46b1-c46f-8863b4b94619"
      },
      "execution_count": 55,
      "outputs": [
        {
          "output_type": "execute_result",
          "data": {
            "text/plain": [
              "372    Location 99\n",
              "757    Location 98\n",
              "128    Location 97\n",
              "482    Location 97\n",
              "271    Location 97\n",
              "Name: Location, dtype: object"
            ]
          },
          "metadata": {},
          "execution_count": 55
        }
      ]
    },
    {
      "cell_type": "code",
      "source": [
        "location_data_sv.index = location_data_sv.index.sort_values()"
      ],
      "metadata": {
        "id": "nifClu7PrEoF"
      },
      "execution_count": 56,
      "outputs": []
    },
    {
      "cell_type": "code",
      "source": [
        "location_data_sv"
      ],
      "metadata": {
        "colab": {
          "base_uri": "https://localhost:8080/"
        },
        "id": "uIQfk2_RrF1q",
        "outputId": "a2a7f34b-3326-4998-d42d-2aeafb16146e"
      },
      "execution_count": 57,
      "outputs": [
        {
          "output_type": "execute_result",
          "data": {
            "text/plain": [
              "0       Location 99\n",
              "1       Location 98\n",
              "2       Location 97\n",
              "3       Location 97\n",
              "4       Location 97\n",
              "           ...     \n",
              "1038    Location 10\n",
              "1039    Location 10\n",
              "1040     Location 1\n",
              "1041     Location 1\n",
              "1042     Location 1\n",
              "Name: Location, Length: 1043, dtype: object"
            ]
          },
          "metadata": {},
          "execution_count": 57
        }
      ]
    },
    {
      "cell_type": "code",
      "source": [
        "location_data_sv = location_data.sort_values(ascending=False)\n",
        "location_data_sv.head()"
      ],
      "metadata": {
        "colab": {
          "base_uri": "https://localhost:8080/"
        },
        "id": "qPfyyVULrIie",
        "outputId": "ab89a1a4-bb89-4b53-a03f-09b96cfc373f"
      },
      "execution_count": 58,
      "outputs": [
        {
          "output_type": "execute_result",
          "data": {
            "text/plain": [
              "372    Location 99\n",
              "757    Location 98\n",
              "128    Location 97\n",
              "482    Location 97\n",
              "271    Location 97\n",
              "Name: Location, dtype: object"
            ]
          },
          "metadata": {},
          "execution_count": 58
        }
      ]
    },
    {
      "cell_type": "code",
      "source": [
        "data.head()"
      ],
      "metadata": {
        "colab": {
          "base_uri": "https://localhost:8080/"
        },
        "id": "s4zdekkLrTH8",
        "outputId": "2f59dbdc-4510-4948-aadd-d98532eb1379"
      },
      "execution_count": 60,
      "outputs": [
        {
          "output_type": "execute_result",
          "data": {
            "text/plain": [
              "0     Location 3\n",
              "1     Location 6\n",
              "2     Location 8\n",
              "3    Location 26\n",
              "4    Location 34\n",
              "Name: Location, dtype: object"
            ]
          },
          "metadata": {},
          "execution_count": 60
        }
      ]
    },
    {
      "cell_type": "code",
      "source": [
        "location_data_sv.sort_index()"
      ],
      "metadata": {
        "colab": {
          "base_uri": "https://localhost:8080/"
        },
        "id": "eLJAtSr2rMJM",
        "outputId": "ec005b6b-f0c4-48c3-ca43-17256c769e1c"
      },
      "execution_count": 59,
      "outputs": [
        {
          "output_type": "execute_result",
          "data": {
            "text/plain": [
              "0        Location 3\n",
              "1        Location 6\n",
              "2        Location 8\n",
              "3       Location 26\n",
              "4       Location 34\n",
              "           ...     \n",
              "1038    Location 73\n",
              "1039    Location 82\n",
              "1040    Location 11\n",
              "1041    Location 26\n",
              "1042    Location 94\n",
              "Name: Location, Length: 1043, dtype: object"
            ]
          },
          "metadata": {},
          "execution_count": 59
        }
      ]
    },
    {
      "cell_type": "code",
      "source": [
        "location_data_sv"
      ],
      "metadata": {
        "colab": {
          "base_uri": "https://localhost:8080/"
        },
        "id": "uizqWtTtrN3u",
        "outputId": "c5612365-e5fb-48e4-c5eb-5e1597646966"
      },
      "execution_count": 61,
      "outputs": [
        {
          "output_type": "execute_result",
          "data": {
            "text/plain": [
              "372    Location 99\n",
              "757    Location 98\n",
              "128    Location 97\n",
              "482    Location 97\n",
              "271    Location 97\n",
              "          ...     \n",
              "202    Location 10\n",
              "298    Location 10\n",
              "637     Location 1\n",
              "884     Location 1\n",
              "465     Location 1\n",
              "Name: Location, Length: 1043, dtype: object"
            ]
          },
          "metadata": {},
          "execution_count": 61
        }
      ]
    },
    {
      "cell_type": "code",
      "source": [
        "location_data_sv = location_data_sv.sort_index(ascending=True)\n",
        "location_data_sv"
      ],
      "metadata": {
        "colab": {
          "base_uri": "https://localhost:8080/"
        },
        "id": "J6EMY86prWJM",
        "outputId": "322460da-c3a7-46aa-b5df-807847c82894"
      },
      "execution_count": 62,
      "outputs": [
        {
          "output_type": "execute_result",
          "data": {
            "text/plain": [
              "0        Location 3\n",
              "1        Location 6\n",
              "2        Location 8\n",
              "3       Location 26\n",
              "4       Location 34\n",
              "           ...     \n",
              "1038    Location 73\n",
              "1039    Location 82\n",
              "1040    Location 11\n",
              "1041    Location 26\n",
              "1042    Location 94\n",
              "Name: Location, Length: 1043, dtype: object"
            ]
          },
          "metadata": {},
          "execution_count": 62
        }
      ]
    }
  ]
}